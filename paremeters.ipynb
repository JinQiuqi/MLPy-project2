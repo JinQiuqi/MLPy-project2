{
 "cells": [
  {
   "cell_type": "markdown",
   "id": "8281b6f8",
   "metadata": {},
   "source": [
    "# Machine Learning in Python - Project 2\n",
    "\n",
    "Due Friday, Apr 11th by 4 pm.\n",
    "\n",
    "*Include contributors names in notebook metadata or here*"
   ]
  },
  {
   "cell_type": "markdown",
   "id": "821233d2",
   "metadata": {},
   "source": [
    "## Setup\n",
    "\n",
    "*Install any packages here, define any functions if neeed, and load data*"
   ]
  },
  {
   "cell_type": "code",
   "execution_count": 59,
   "id": "7e1ba94a",
   "metadata": {},
   "outputs": [],
   "source": [
    "# Add any additional libraries or submodules below\n",
    "#import missingno as msno\n",
    "import warnings\n",
    "warnings.filterwarnings(\"ignore\", category=FutureWarning)\n",
    "from imblearn.over_sampling import SMOTE\n",
    "# Data libraries\n",
    "import pandas as pd\n",
    "import numpy as np\n",
    "\n",
    "# Plotting libraries\n",
    "import matplotlib.pyplot as plt\n",
    "import seaborn as sns\n",
    "import shap\n",
    "\n",
    "# Plotting defaults\n",
    "plt.rcParams['figure.figsize'] = (8,5)\n",
    "plt.rcParams['figure.dpi'] = 80\n",
    "\n",
    "# sklearn modules\n",
    "import sklearn\n",
    "from sklearn.preprocessing import LabelEncoder, StandardScaler, OneHotEncoder, FunctionTransformer\n",
    "from sklearn.model_selection import train_test_split, GridSearchCV, cross_val_score, StratifiedKFold, cross_val_predict\n",
    "from sklearn.pipeline import Pipeline\n",
    "from sklearn.compose import ColumnTransformer\n",
    "from sklearn.impute import SimpleImputer\n",
    "from sklearn.linear_model import LogisticRegression\n",
    "from sklearn.svm import SVC\n",
    "from sklearn.tree import DecisionTreeClassifier\n",
    "from sklearn.ensemble import RandomForestClassifier\n",
    "from sklearn.neighbors import KNeighborsClassifier\n",
    "from sklearn.feature_selection import SelectKBest, f_classif, SelectFromModel\n",
    "from sklearn.metrics import auc, accuracy_score, precision_score, recall_score, f1_score, roc_auc_score, confusion_matrix, classification_report, roc_curve, ConfusionMatrixDisplay"
   ]
  },
  {
   "cell_type": "code",
   "execution_count": 61,
   "id": "62abe5f5",
   "metadata": {},
   "outputs": [
    {
     "name": "stderr",
     "output_type": "stream",
     "text": [
      "C:\\Users\\13214\\AppData\\Local\\Temp\\ipykernel_22604\\2212289888.py:2: DtypeWarning: Columns (26,28) have mixed types. Specify dtype option on import or set low_memory=False.\n",
      "  d = pd.read_csv(\"freddiemac.csv\")\n"
     ]
    },
    {
     "data": {
      "text/html": [
       "<div>\n",
       "<style scoped>\n",
       "    .dataframe tbody tr th:only-of-type {\n",
       "        vertical-align: middle;\n",
       "    }\n",
       "\n",
       "    .dataframe tbody tr th {\n",
       "        vertical-align: top;\n",
       "    }\n",
       "\n",
       "    .dataframe thead th {\n",
       "        text-align: right;\n",
       "    }\n",
       "</style>\n",
       "<table border=\"1\" class=\"dataframe\">\n",
       "  <thead>\n",
       "    <tr style=\"text-align: right;\">\n",
       "      <th></th>\n",
       "      <th>fico</th>\n",
       "      <th>dt_first_pi</th>\n",
       "      <th>flag_fthb</th>\n",
       "      <th>dt_matr</th>\n",
       "      <th>cd_msa</th>\n",
       "      <th>mi_pct</th>\n",
       "      <th>cnt_units</th>\n",
       "      <th>occpy_sts</th>\n",
       "      <th>cltv</th>\n",
       "      <th>dti</th>\n",
       "      <th>...</th>\n",
       "      <th>seller_name</th>\n",
       "      <th>servicer_name</th>\n",
       "      <th>flag_sc</th>\n",
       "      <th>id_loan_rr</th>\n",
       "      <th>program_ind</th>\n",
       "      <th>rr_ind</th>\n",
       "      <th>property_val</th>\n",
       "      <th>io_ind</th>\n",
       "      <th>mi_cancel_ind</th>\n",
       "      <th>loan_status</th>\n",
       "    </tr>\n",
       "  </thead>\n",
       "  <tbody>\n",
       "    <tr>\n",
       "      <th>0</th>\n",
       "      <td>809</td>\n",
       "      <td>201705</td>\n",
       "      <td>N</td>\n",
       "      <td>204704</td>\n",
       "      <td>NaN</td>\n",
       "      <td>0</td>\n",
       "      <td>1</td>\n",
       "      <td>P</td>\n",
       "      <td>75</td>\n",
       "      <td>38</td>\n",
       "      <td>...</td>\n",
       "      <td>Other sellers</td>\n",
       "      <td>SPECIALIZED LOAN SERVICING LLC</td>\n",
       "      <td>NaN</td>\n",
       "      <td>NaN</td>\n",
       "      <td>9</td>\n",
       "      <td>NaN</td>\n",
       "      <td>2</td>\n",
       "      <td>N</td>\n",
       "      <td>7</td>\n",
       "      <td>prepaid</td>\n",
       "    </tr>\n",
       "    <tr>\n",
       "      <th>1</th>\n",
       "      <td>702</td>\n",
       "      <td>201703</td>\n",
       "      <td>N</td>\n",
       "      <td>203202</td>\n",
       "      <td>NaN</td>\n",
       "      <td>0</td>\n",
       "      <td>1</td>\n",
       "      <td>P</td>\n",
       "      <td>80</td>\n",
       "      <td>36</td>\n",
       "      <td>...</td>\n",
       "      <td>Other sellers</td>\n",
       "      <td>Other servicers</td>\n",
       "      <td>NaN</td>\n",
       "      <td>NaN</td>\n",
       "      <td>9</td>\n",
       "      <td>NaN</td>\n",
       "      <td>2</td>\n",
       "      <td>N</td>\n",
       "      <td>7</td>\n",
       "      <td>active</td>\n",
       "    </tr>\n",
       "    <tr>\n",
       "      <th>2</th>\n",
       "      <td>792</td>\n",
       "      <td>201703</td>\n",
       "      <td>N</td>\n",
       "      <td>204702</td>\n",
       "      <td>NaN</td>\n",
       "      <td>0</td>\n",
       "      <td>1</td>\n",
       "      <td>S</td>\n",
       "      <td>60</td>\n",
       "      <td>36</td>\n",
       "      <td>...</td>\n",
       "      <td>Other sellers</td>\n",
       "      <td>Other servicers</td>\n",
       "      <td>NaN</td>\n",
       "      <td>NaN</td>\n",
       "      <td>9</td>\n",
       "      <td>NaN</td>\n",
       "      <td>2</td>\n",
       "      <td>N</td>\n",
       "      <td>7</td>\n",
       "      <td>prepaid</td>\n",
       "    </tr>\n",
       "    <tr>\n",
       "      <th>3</th>\n",
       "      <td>776</td>\n",
       "      <td>201703</td>\n",
       "      <td>N</td>\n",
       "      <td>204702</td>\n",
       "      <td>NaN</td>\n",
       "      <td>0</td>\n",
       "      <td>1</td>\n",
       "      <td>S</td>\n",
       "      <td>80</td>\n",
       "      <td>18</td>\n",
       "      <td>...</td>\n",
       "      <td>Other sellers</td>\n",
       "      <td>Other servicers</td>\n",
       "      <td>NaN</td>\n",
       "      <td>NaN</td>\n",
       "      <td>9</td>\n",
       "      <td>NaN</td>\n",
       "      <td>2</td>\n",
       "      <td>N</td>\n",
       "      <td>7</td>\n",
       "      <td>prepaid</td>\n",
       "    </tr>\n",
       "    <tr>\n",
       "      <th>4</th>\n",
       "      <td>790</td>\n",
       "      <td>201703</td>\n",
       "      <td>N</td>\n",
       "      <td>204702</td>\n",
       "      <td>41620.0</td>\n",
       "      <td>0</td>\n",
       "      <td>1</td>\n",
       "      <td>I</td>\n",
       "      <td>75</td>\n",
       "      <td>42</td>\n",
       "      <td>...</td>\n",
       "      <td>Other sellers</td>\n",
       "      <td>PNC BANK, NA</td>\n",
       "      <td>NaN</td>\n",
       "      <td>NaN</td>\n",
       "      <td>9</td>\n",
       "      <td>NaN</td>\n",
       "      <td>2</td>\n",
       "      <td>N</td>\n",
       "      <td>7</td>\n",
       "      <td>active</td>\n",
       "    </tr>\n",
       "  </tbody>\n",
       "</table>\n",
       "<p>5 rows × 33 columns</p>\n",
       "</div>"
      ],
      "text/plain": [
       "   fico  dt_first_pi flag_fthb  dt_matr   cd_msa  mi_pct  cnt_units occpy_sts  \\\n",
       "0   809       201705         N   204704      NaN       0          1         P   \n",
       "1   702       201703         N   203202      NaN       0          1         P   \n",
       "2   792       201703         N   204702      NaN       0          1         S   \n",
       "3   776       201703         N   204702      NaN       0          1         S   \n",
       "4   790       201703         N   204702  41620.0       0          1         I   \n",
       "\n",
       "   cltv  dti  ...    seller_name                   servicer_name  flag_sc  \\\n",
       "0    75   38  ...  Other sellers  SPECIALIZED LOAN SERVICING LLC      NaN   \n",
       "1    80   36  ...  Other sellers                 Other servicers      NaN   \n",
       "2    60   36  ...  Other sellers                 Other servicers      NaN   \n",
       "3    80   18  ...  Other sellers                 Other servicers      NaN   \n",
       "4    75   42  ...  Other sellers                    PNC BANK, NA      NaN   \n",
       "\n",
       "  id_loan_rr program_ind rr_ind property_val io_ind  mi_cancel_ind loan_status  \n",
       "0        NaN           9    NaN            2      N              7     prepaid  \n",
       "1        NaN           9    NaN            2      N              7      active  \n",
       "2        NaN           9    NaN            2      N              7     prepaid  \n",
       "3        NaN           9    NaN            2      N              7     prepaid  \n",
       "4        NaN           9    NaN            2      N              7      active  \n",
       "\n",
       "[5 rows x 33 columns]"
      ]
     },
     "execution_count": 61,
     "metadata": {},
     "output_type": "execute_result"
    }
   ],
   "source": [
    "# Load data in easyshare.csv\n",
    "d = pd.read_csv(\"freddiemac.csv\")\n",
    "d.head()"
   ]
  },
  {
   "cell_type": "markdown",
   "id": "28603fe7",
   "metadata": {},
   "source": [
    "# Introduction\n",
    "\n",
    "*This section should include a brief introduction to the task and the data (assume this is a report you are delivering to a professional body (e.g. Freddie Mac).*\n",
    "\n",
    "*Briefly outline the approaches being used and the conclusions that you are able to draw.*"
   ]
  },
  {
   "cell_type": "markdown",
   "id": "af4bc461",
   "metadata": {},
   "source": [
    "# Exploratory Data Analysis and Feature Engineering\n",
    "\n",
    "*Include a detailed discussion of the data with a particular emphasis on the features of the data that are relevant for the subsequent modeling. Including visualizations of the data is strongly encouraged - all code and plots must also be described in the write up. Think carefully about whether each plot needs to be included in your final draft and the appropriate type of plot and summary for each variable type - your report should include figures but they should be as focused and impactful as possible.*\n",
    "\n",
    "*You should also split your data into training and testing sets, ideally before you look to much into the features and relationships with the target*\n",
    "\n",
    "*Additionally, this section should also motivate and describe any preprocessing / feature engineering of the data. Specifically, this should be any code that you use to generate new columns in the data frame `d`. Pipelines should be used and feature engineering steps that are be performed as part of an sklearn pipeline can be mentioned here but should be implemented in the following section.*\n",
    "\n",
    "*All code and figures should be accompanied by text that provides an overview / context to what is being done or presented.*"
   ]
  },
  {
   "cell_type": "markdown",
   "id": "1c736885",
   "metadata": {},
   "source": [
    "**3.1 Data Preparation**"
   ]
  },
  {
   "cell_type": "code",
   "execution_count": 66,
   "id": "96c5ef5e",
   "metadata": {},
   "outputs": [
    {
     "data": {
      "text/plain": [
       "loan_status\n",
       "prepaid    62.9795\n",
       "active     36.6475\n",
       "default     0.3730\n",
       "Name: proportion, dtype: float64"
      ]
     },
     "execution_count": 66,
     "metadata": {},
     "output_type": "execute_result"
    }
   ],
   "source": [
    "# Proportion view of loan_status\n",
    "d[\"loan_status\"].value_counts(normalize=True) * 100"
   ]
  },
  {
   "cell_type": "markdown",
   "id": "616e9c60",
   "metadata": {},
   "source": [
    "统计结果显示绝大部分贷款已提前还清或仍在正常偿还，违约样本极少。数据显示，在20万笔贷款中，违约约仅占0.37%，呈现出高度不平衡的类别分布。由于“active”贷款尚未有最终结果，根据业务指示，我们只关注区分提前还清和违约两类。因此，在后续建模中，我们将过滤掉loan_status为“active”的贷款，仅使用“prepaid”和“default”两类来训练模型，并将“default”视作正类。\n",
    "Statistical results show that the vast majority of loans have either been prepaid or are still in normal repayment, with default cases being relatively rare. The data indicates that among 200000 loans, defaults account for only about 0.37%, reflecting a highly imbalanced class distribution. Since “active” loans do not yet have a final outcome, and based on business guidance, we focus only on distinguishing between prepaid and defaulted loans. Therefore, in the subsequent modeling process, we will filter out loans with a `loan_status` of “active” and use only “prepaid” and “default” loans for training, treating “default” as the positive class. This approach avoids labeling unresolved loans as negative samples, thereby enhancing the model's accuracy in predicting future defaults."
   ]
  },
  {
   "cell_type": "code",
   "execution_count": 69,
   "id": "f05ecb66",
   "metadata": {},
   "outputs": [],
   "source": [
    "# Filter out loans that are still being repaid, keeping only prepaid and defaulted samples\n",
    "d = d[d['loan_status'] != 'active'].copy()\n",
    "\n",
    "# Add a new label column: default = 1, prepaid = 0\n",
    "d['default_flag'] = (d['loan_status'] == 'default').astype(int)"
   ]
  },
  {
   "cell_type": "code",
   "execution_count": 71,
   "id": "9d8e3c07-8837-44a0-b117-ae5f92e62dff",
   "metadata": {},
   "outputs": [
    {
     "data": {
      "text/plain": [
       "default_flag\n",
       "0    125959\n",
       "1       746\n",
       "Name: count, dtype: int64"
      ]
     },
     "execution_count": 71,
     "metadata": {},
     "output_type": "execute_result"
    }
   ],
   "source": [
    "d[\"default_flag\"].value_counts()"
   ]
  },
  {
   "cell_type": "markdown",
   "id": "a8b882a1",
   "metadata": {},
   "source": [
    "**Add new feature**"
   ]
  },
  {
   "cell_type": "code",
   "execution_count": 74,
   "id": "16639fd5",
   "metadata": {
    "scrolled": true
   },
   "outputs": [],
   "source": [
    "# Add a new feature 'is_harp_loan' to indicate if a loan is a HARP l\n",
    "d['is_harp_loan'] = ((d['rr_ind'] == 'Y') & (d['ltv'] > 80)).astype('object')\n",
    "\n",
    "# Add a new feature 'msa' to indicate if loan is in MSA or MD\n",
    "d['msa'] = d['cd_msa'].notnull().astype('object')\n",
    "\n",
    "# Add a new feature 'Nat_A' to indicate where the loan belong\n",
    "d['zipcode'] = d['zipcode'].astype(str)\n",
    "\n",
    "# Add a new feature for the national area code\n",
    "d['Nat_A'] = d['zipcode'].apply(lambda x: '0' if len(x) < 5 else x[0]).astype('object')"
   ]
  },
  {
   "cell_type": "markdown",
   "id": "3bf787c1",
   "metadata": {},
   "source": [
    "**Remove irrelevant features**:\n",
    "\n",
    "`id_loan`: change to index\n",
    "\n",
    "`prod_type`: constantly \"FRM\" throughout the dataset and shows no variation, drop\n",
    "\n",
    "`ppmt_pnlty`: consistently \"N\", no information gain, drop\n",
    "\n",
    "`io_ind`: consistently \"N\", no information gain, drop\n",
    "\n",
    "`dt_matr`: can be derived from the `dt_first_pi` and `orig_loan_term` and are of limited predictive value, drop (explain why keep `dt_first_pi`)\n",
    "\n",
    "`id_loan_rr`and `rr_ind`: relate to loan refinancing/ have multicollinearity, drop\n",
    "\n",
    "`servicer_name` and `seller_name`: drop, (by references)\n",
    "\n",
    "`cd_msa` and `zipcode`: creat the new features which summary these features (by references)"
   ]
  },
  {
   "cell_type": "code",
   "execution_count": 77,
   "id": "0c45a6e9",
   "metadata": {},
   "outputs": [
    {
     "data": {
      "text/html": [
       "<div>\n",
       "<style scoped>\n",
       "    .dataframe tbody tr th:only-of-type {\n",
       "        vertical-align: middle;\n",
       "    }\n",
       "\n",
       "    .dataframe tbody tr th {\n",
       "        vertical-align: top;\n",
       "    }\n",
       "\n",
       "    .dataframe thead th {\n",
       "        text-align: right;\n",
       "    }\n",
       "</style>\n",
       "<table border=\"1\" class=\"dataframe\">\n",
       "  <thead>\n",
       "    <tr style=\"text-align: right;\">\n",
       "      <th></th>\n",
       "      <th>fico</th>\n",
       "      <th>dt_first_pi</th>\n",
       "      <th>flag_fthb</th>\n",
       "      <th>mi_pct</th>\n",
       "      <th>cnt_units</th>\n",
       "      <th>occpy_sts</th>\n",
       "      <th>cltv</th>\n",
       "      <th>dti</th>\n",
       "      <th>orig_upb</th>\n",
       "      <th>ltv</th>\n",
       "      <th>...</th>\n",
       "      <th>orig_loan_term</th>\n",
       "      <th>cnt_borr</th>\n",
       "      <th>flag_sc</th>\n",
       "      <th>program_ind</th>\n",
       "      <th>property_val</th>\n",
       "      <th>mi_cancel_ind</th>\n",
       "      <th>default_flag</th>\n",
       "      <th>is_harp_loan</th>\n",
       "      <th>msa</th>\n",
       "      <th>Nat_A</th>\n",
       "    </tr>\n",
       "    <tr>\n",
       "      <th>id_loan</th>\n",
       "      <th></th>\n",
       "      <th></th>\n",
       "      <th></th>\n",
       "      <th></th>\n",
       "      <th></th>\n",
       "      <th></th>\n",
       "      <th></th>\n",
       "      <th></th>\n",
       "      <th></th>\n",
       "      <th></th>\n",
       "      <th></th>\n",
       "      <th></th>\n",
       "      <th></th>\n",
       "      <th></th>\n",
       "      <th></th>\n",
       "      <th></th>\n",
       "      <th></th>\n",
       "      <th></th>\n",
       "      <th></th>\n",
       "      <th></th>\n",
       "      <th></th>\n",
       "    </tr>\n",
       "  </thead>\n",
       "  <tbody>\n",
       "    <tr>\n",
       "      <th>F17Q10000002</th>\n",
       "      <td>809</td>\n",
       "      <td>201705</td>\n",
       "      <td>N</td>\n",
       "      <td>0</td>\n",
       "      <td>1</td>\n",
       "      <td>P</td>\n",
       "      <td>75</td>\n",
       "      <td>38</td>\n",
       "      <td>195000</td>\n",
       "      <td>75</td>\n",
       "      <td>...</td>\n",
       "      <td>360</td>\n",
       "      <td>1</td>\n",
       "      <td>NaN</td>\n",
       "      <td>9</td>\n",
       "      <td>2</td>\n",
       "      <td>7</td>\n",
       "      <td>0</td>\n",
       "      <td>False</td>\n",
       "      <td>False</td>\n",
       "      <td>1</td>\n",
       "    </tr>\n",
       "    <tr>\n",
       "      <th>F17Q10000064</th>\n",
       "      <td>792</td>\n",
       "      <td>201703</td>\n",
       "      <td>N</td>\n",
       "      <td>0</td>\n",
       "      <td>1</td>\n",
       "      <td>S</td>\n",
       "      <td>60</td>\n",
       "      <td>36</td>\n",
       "      <td>87000</td>\n",
       "      <td>60</td>\n",
       "      <td>...</td>\n",
       "      <td>360</td>\n",
       "      <td>2</td>\n",
       "      <td>NaN</td>\n",
       "      <td>9</td>\n",
       "      <td>2</td>\n",
       "      <td>7</td>\n",
       "      <td>0</td>\n",
       "      <td>False</td>\n",
       "      <td>False</td>\n",
       "      <td>4</td>\n",
       "    </tr>\n",
       "    <tr>\n",
       "      <th>F17Q10000065</th>\n",
       "      <td>776</td>\n",
       "      <td>201703</td>\n",
       "      <td>N</td>\n",
       "      <td>0</td>\n",
       "      <td>1</td>\n",
       "      <td>S</td>\n",
       "      <td>80</td>\n",
       "      <td>18</td>\n",
       "      <td>106000</td>\n",
       "      <td>80</td>\n",
       "      <td>...</td>\n",
       "      <td>360</td>\n",
       "      <td>2</td>\n",
       "      <td>NaN</td>\n",
       "      <td>9</td>\n",
       "      <td>2</td>\n",
       "      <td>7</td>\n",
       "      <td>0</td>\n",
       "      <td>False</td>\n",
       "      <td>False</td>\n",
       "      <td>1</td>\n",
       "    </tr>\n",
       "    <tr>\n",
       "      <th>F17Q10000176</th>\n",
       "      <td>687</td>\n",
       "      <td>201703</td>\n",
       "      <td>N</td>\n",
       "      <td>0</td>\n",
       "      <td>1</td>\n",
       "      <td>P</td>\n",
       "      <td>80</td>\n",
       "      <td>45</td>\n",
       "      <td>619000</td>\n",
       "      <td>75</td>\n",
       "      <td>...</td>\n",
       "      <td>360</td>\n",
       "      <td>2</td>\n",
       "      <td>NaN</td>\n",
       "      <td>9</td>\n",
       "      <td>2</td>\n",
       "      <td>7</td>\n",
       "      <td>0</td>\n",
       "      <td>False</td>\n",
       "      <td>True</td>\n",
       "      <td>9</td>\n",
       "    </tr>\n",
       "    <tr>\n",
       "      <th>F17Q10000301</th>\n",
       "      <td>758</td>\n",
       "      <td>201703</td>\n",
       "      <td>N</td>\n",
       "      <td>0</td>\n",
       "      <td>1</td>\n",
       "      <td>P</td>\n",
       "      <td>53</td>\n",
       "      <td>999</td>\n",
       "      <td>64000</td>\n",
       "      <td>53</td>\n",
       "      <td>...</td>\n",
       "      <td>180</td>\n",
       "      <td>1</td>\n",
       "      <td>NaN</td>\n",
       "      <td>9</td>\n",
       "      <td>3</td>\n",
       "      <td>7</td>\n",
       "      <td>0</td>\n",
       "      <td>False</td>\n",
       "      <td>False</td>\n",
       "      <td>9</td>\n",
       "    </tr>\n",
       "  </tbody>\n",
       "</table>\n",
       "<p>5 rows × 25 columns</p>\n",
       "</div>"
      ],
      "text/plain": [
       "              fico  dt_first_pi flag_fthb  mi_pct  cnt_units occpy_sts  cltv  \\\n",
       "id_loan                                                                        \n",
       "F17Q10000002   809       201705         N       0          1         P    75   \n",
       "F17Q10000064   792       201703         N       0          1         S    60   \n",
       "F17Q10000065   776       201703         N       0          1         S    80   \n",
       "F17Q10000176   687       201703         N       0          1         P    80   \n",
       "F17Q10000301   758       201703         N       0          1         P    53   \n",
       "\n",
       "              dti  orig_upb  ltv  ...  orig_loan_term cnt_borr flag_sc  \\\n",
       "id_loan                           ...                                    \n",
       "F17Q10000002   38    195000   75  ...             360        1     NaN   \n",
       "F17Q10000064   36     87000   60  ...             360        2     NaN   \n",
       "F17Q10000065   18    106000   80  ...             360        2     NaN   \n",
       "F17Q10000176   45    619000   75  ...             360        2     NaN   \n",
       "F17Q10000301  999     64000   53  ...             180        1     NaN   \n",
       "\n",
       "             program_ind property_val  mi_cancel_ind  default_flag  \\\n",
       "id_loan                                                              \n",
       "F17Q10000002           9            2              7             0   \n",
       "F17Q10000064           9            2              7             0   \n",
       "F17Q10000065           9            2              7             0   \n",
       "F17Q10000176           9            2              7             0   \n",
       "F17Q10000301           9            3              7             0   \n",
       "\n",
       "             is_harp_loan    msa  Nat_A  \n",
       "id_loan                                  \n",
       "F17Q10000002        False  False      1  \n",
       "F17Q10000064        False  False      4  \n",
       "F17Q10000065        False  False      1  \n",
       "F17Q10000176        False   True      9  \n",
       "F17Q10000301        False  False      9  \n",
       "\n",
       "[5 rows x 25 columns]"
      ]
     },
     "execution_count": 77,
     "metadata": {},
     "output_type": "execute_result"
    }
   ],
   "source": [
    "# Replace Index with id_loan\n",
    "d = d.set_index('id_loan')\n",
    "\n",
    "# Remove irrelevant features\n",
    "drop_cols = ['loan_status','prod_type', 'ppmt_pnlty', 'io_ind', 'id_loan_rr','rr_ind','dt_matr','cd_msa','zipcode', 'seller_name','servicer_name']\n",
    "d.drop(columns=[c for c in drop_cols if c in d.columns], inplace=True)\n",
    "\n",
    "d.head()"
   ]
  },
  {
   "cell_type": "markdown",
   "id": "5f0d01af",
   "metadata": {},
   "source": [
    "**Handling NaN Values and Pseudo-NaN Values**:\n",
    "\n",
    "numerical:\n",
    "\n",
    "`fico`: typically ranges from 300 to 850, but a value of 9999 indicates not available\n",
    "\n",
    "`mi_pct`, `cltv`, `dti` and `ltv`: a value of 999 indicates not available\n",
    "\n",
    "`property_val`: a value of 9 indicates not available\n",
    "\n",
    "categorical:\n",
    "\n",
    "`flag_sc`: 'NaN' indicates NaN\n",
    "\n",
    "`program_ind`: '9' indicates NaN\n",
    "\n",
    "`mi_cancel_ind`:  '7' and '9' indicate NaN"
   ]
  },
  {
   "cell_type": "code",
   "execution_count": 80,
   "id": "41cf9ff9",
   "metadata": {},
   "outputs": [
    {
     "data": {
      "text/html": [
       "<div>\n",
       "<style scoped>\n",
       "    .dataframe tbody tr th:only-of-type {\n",
       "        vertical-align: middle;\n",
       "    }\n",
       "\n",
       "    .dataframe tbody tr th {\n",
       "        vertical-align: top;\n",
       "    }\n",
       "\n",
       "    .dataframe thead th {\n",
       "        text-align: right;\n",
       "    }\n",
       "</style>\n",
       "<table border=\"1\" class=\"dataframe\">\n",
       "  <thead>\n",
       "    <tr style=\"text-align: right;\">\n",
       "      <th></th>\n",
       "      <th>fico</th>\n",
       "      <th>dt_first_pi</th>\n",
       "      <th>flag_fthb</th>\n",
       "      <th>mi_pct</th>\n",
       "      <th>cnt_units</th>\n",
       "      <th>occpy_sts</th>\n",
       "      <th>cltv</th>\n",
       "      <th>dti</th>\n",
       "      <th>orig_upb</th>\n",
       "      <th>ltv</th>\n",
       "      <th>...</th>\n",
       "      <th>orig_loan_term</th>\n",
       "      <th>cnt_borr</th>\n",
       "      <th>flag_sc</th>\n",
       "      <th>program_ind</th>\n",
       "      <th>property_val</th>\n",
       "      <th>mi_cancel_ind</th>\n",
       "      <th>default_flag</th>\n",
       "      <th>is_harp_loan</th>\n",
       "      <th>msa</th>\n",
       "      <th>Nat_A</th>\n",
       "    </tr>\n",
       "    <tr>\n",
       "      <th>id_loan</th>\n",
       "      <th></th>\n",
       "      <th></th>\n",
       "      <th></th>\n",
       "      <th></th>\n",
       "      <th></th>\n",
       "      <th></th>\n",
       "      <th></th>\n",
       "      <th></th>\n",
       "      <th></th>\n",
       "      <th></th>\n",
       "      <th></th>\n",
       "      <th></th>\n",
       "      <th></th>\n",
       "      <th></th>\n",
       "      <th></th>\n",
       "      <th></th>\n",
       "      <th></th>\n",
       "      <th></th>\n",
       "      <th></th>\n",
       "      <th></th>\n",
       "      <th></th>\n",
       "    </tr>\n",
       "  </thead>\n",
       "  <tbody>\n",
       "    <tr>\n",
       "      <th>F17Q10000002</th>\n",
       "      <td>809.0</td>\n",
       "      <td>201705</td>\n",
       "      <td>N</td>\n",
       "      <td>0.0</td>\n",
       "      <td>1</td>\n",
       "      <td>P</td>\n",
       "      <td>75.0</td>\n",
       "      <td>38.0</td>\n",
       "      <td>195000</td>\n",
       "      <td>75.0</td>\n",
       "      <td>...</td>\n",
       "      <td>360</td>\n",
       "      <td>1</td>\n",
       "      <td>N</td>\n",
       "      <td>N</td>\n",
       "      <td>2</td>\n",
       "      <td>N</td>\n",
       "      <td>0</td>\n",
       "      <td>False</td>\n",
       "      <td>False</td>\n",
       "      <td>1</td>\n",
       "    </tr>\n",
       "    <tr>\n",
       "      <th>F17Q10000064</th>\n",
       "      <td>792.0</td>\n",
       "      <td>201703</td>\n",
       "      <td>N</td>\n",
       "      <td>0.0</td>\n",
       "      <td>1</td>\n",
       "      <td>S</td>\n",
       "      <td>60.0</td>\n",
       "      <td>36.0</td>\n",
       "      <td>87000</td>\n",
       "      <td>60.0</td>\n",
       "      <td>...</td>\n",
       "      <td>360</td>\n",
       "      <td>2</td>\n",
       "      <td>N</td>\n",
       "      <td>N</td>\n",
       "      <td>2</td>\n",
       "      <td>N</td>\n",
       "      <td>0</td>\n",
       "      <td>False</td>\n",
       "      <td>False</td>\n",
       "      <td>4</td>\n",
       "    </tr>\n",
       "    <tr>\n",
       "      <th>F17Q10000065</th>\n",
       "      <td>776.0</td>\n",
       "      <td>201703</td>\n",
       "      <td>N</td>\n",
       "      <td>0.0</td>\n",
       "      <td>1</td>\n",
       "      <td>S</td>\n",
       "      <td>80.0</td>\n",
       "      <td>18.0</td>\n",
       "      <td>106000</td>\n",
       "      <td>80.0</td>\n",
       "      <td>...</td>\n",
       "      <td>360</td>\n",
       "      <td>2</td>\n",
       "      <td>N</td>\n",
       "      <td>N</td>\n",
       "      <td>2</td>\n",
       "      <td>N</td>\n",
       "      <td>0</td>\n",
       "      <td>False</td>\n",
       "      <td>False</td>\n",
       "      <td>1</td>\n",
       "    </tr>\n",
       "    <tr>\n",
       "      <th>F17Q10000176</th>\n",
       "      <td>687.0</td>\n",
       "      <td>201703</td>\n",
       "      <td>N</td>\n",
       "      <td>0.0</td>\n",
       "      <td>1</td>\n",
       "      <td>P</td>\n",
       "      <td>80.0</td>\n",
       "      <td>45.0</td>\n",
       "      <td>619000</td>\n",
       "      <td>75.0</td>\n",
       "      <td>...</td>\n",
       "      <td>360</td>\n",
       "      <td>2</td>\n",
       "      <td>N</td>\n",
       "      <td>N</td>\n",
       "      <td>2</td>\n",
       "      <td>N</td>\n",
       "      <td>0</td>\n",
       "      <td>False</td>\n",
       "      <td>True</td>\n",
       "      <td>9</td>\n",
       "    </tr>\n",
       "    <tr>\n",
       "      <th>F17Q10000301</th>\n",
       "      <td>758.0</td>\n",
       "      <td>201703</td>\n",
       "      <td>N</td>\n",
       "      <td>0.0</td>\n",
       "      <td>1</td>\n",
       "      <td>P</td>\n",
       "      <td>53.0</td>\n",
       "      <td>NaN</td>\n",
       "      <td>64000</td>\n",
       "      <td>53.0</td>\n",
       "      <td>...</td>\n",
       "      <td>180</td>\n",
       "      <td>1</td>\n",
       "      <td>N</td>\n",
       "      <td>N</td>\n",
       "      <td>3</td>\n",
       "      <td>N</td>\n",
       "      <td>0</td>\n",
       "      <td>False</td>\n",
       "      <td>False</td>\n",
       "      <td>9</td>\n",
       "    </tr>\n",
       "  </tbody>\n",
       "</table>\n",
       "<p>5 rows × 25 columns</p>\n",
       "</div>"
      ],
      "text/plain": [
       "               fico  dt_first_pi flag_fthb  mi_pct  cnt_units occpy_sts  cltv  \\\n",
       "id_loan                                                                         \n",
       "F17Q10000002  809.0       201705         N     0.0          1         P  75.0   \n",
       "F17Q10000064  792.0       201703         N     0.0          1         S  60.0   \n",
       "F17Q10000065  776.0       201703         N     0.0          1         S  80.0   \n",
       "F17Q10000176  687.0       201703         N     0.0          1         P  80.0   \n",
       "F17Q10000301  758.0       201703         N     0.0          1         P  53.0   \n",
       "\n",
       "               dti  orig_upb   ltv  ...  orig_loan_term cnt_borr flag_sc  \\\n",
       "id_loan                             ...                                    \n",
       "F17Q10000002  38.0    195000  75.0  ...             360        1       N   \n",
       "F17Q10000064  36.0     87000  60.0  ...             360        2       N   \n",
       "F17Q10000065  18.0    106000  80.0  ...             360        2       N   \n",
       "F17Q10000176  45.0    619000  75.0  ...             360        2       N   \n",
       "F17Q10000301   NaN     64000  53.0  ...             180        1       N   \n",
       "\n",
       "             program_ind property_val  mi_cancel_ind  default_flag  \\\n",
       "id_loan                                                              \n",
       "F17Q10000002           N            2              N             0   \n",
       "F17Q10000064           N            2              N             0   \n",
       "F17Q10000065           N            2              N             0   \n",
       "F17Q10000176           N            2              N             0   \n",
       "F17Q10000301           N            3              N             0   \n",
       "\n",
       "             is_harp_loan    msa Nat_A  \n",
       "id_loan                                 \n",
       "F17Q10000002        False  False     1  \n",
       "F17Q10000064        False  False     4  \n",
       "F17Q10000065        False  False     1  \n",
       "F17Q10000176        False   True     9  \n",
       "F17Q10000301        False  False     9  \n",
       "\n",
       "[5 rows x 25 columns]"
      ]
     },
     "execution_count": 80,
     "metadata": {},
     "output_type": "execute_result"
    }
   ],
   "source": [
    "# Replace pseudo-missing numeric codes with NaN\n",
    "d.replace({'fico': {9999: np.nan}, 'mi_pct': {999: np.nan}, 'cltv': {999: np.nan}, 'dti': {999: np.nan},\n",
    "           'ltv': {999: np.nan}, 'cnt_units': {99: np.nan}, 'property_val': {9: 'N'}}, inplace=True)\n",
    "\n",
    "# Replace categorical pseudo-missing codes with consistent label\n",
    "d['flag_sc'] = d['flag_sc'].fillna('N')\n",
    "d['program_ind'] = d['program_ind'].replace('9', np.nan)\n",
    "d['program_ind'] = d['program_ind'].fillna('N')\n",
    "d['mi_cancel_ind'] = d['mi_cancel_ind'].replace('7', np.nan)\n",
    "d['mi_cancel_ind'] = d['mi_cancel_ind'].fillna('N')\n",
    "\n",
    "d.head()"
   ]
  },
  {
   "cell_type": "markdown",
   "id": "e270b84e",
   "metadata": {},
   "source": [
    "To handle pseudo-NaN values, we apply different strategies based on variable type. For numerical features, special codes such as 999 or 9999 are replaced with NaN, since these values do not carry valid quantitative meaning and should be treated as true missing data. This allows for appropriate downstream handling, such as imputation or row exclusion, and prevents misleading the model with extreme or invalid values.\n",
    "\n",
    "In contrast, for categorical features, pseudo-NaN codes like '9' or '7' are replaced with a consistent label 'N', representing “Not Available.” This preserves the categorical structure of the data while allowing the model to treat missingness as a distinct, learnable category."
   ]
  },
  {
   "cell_type": "code",
   "execution_count": 83,
   "id": "0ef0e20a",
   "metadata": {},
   "outputs": [
    {
     "name": "stdout",
     "output_type": "stream",
     "text": [
      "['dt_first_pi', 'flag_fthb', 'occpy_sts', 'channel', 'st', 'prop_type', 'loan_purpose', 'cnt_borr', 'flag_sc', 'program_ind', 'property_val', 'mi_cancel_ind', 'is_harp_loan', 'msa', 'Nat_A']\n",
      "['fico', 'mi_pct', 'cnt_units', 'cltv', 'dti', 'orig_upb', 'ltv', 'int_rt', 'orig_loan_term']\n"
     ]
    }
   ],
   "source": [
    "# Convert dt_first_pi, cnt_units, cnt_borr, property_val column to object class since it is categorical\n",
    "d['dt_first_pi'] = d['dt_first_pi'].rank(method='dense').astype('object')\n",
    "#d['cnt_units'] = d['cnt_units'].astype('object')\n",
    "d['cnt_borr'] = d['cnt_borr'].astype('object')\n",
    "d['property_val'] = d['property_val'].astype('object')\n",
    "\n",
    "# Create a list of categorical columns\n",
    "categorical_features = d.select_dtypes(include=['object']).columns.tolist()\n",
    "print(categorical_features)\n",
    "\n",
    "# Create a list of numerical columns\n",
    "numerical_features = d.select_dtypes(include=['int64', 'float64']).columns.tolist()\n",
    "print(numerical_features)"
   ]
  },
  {
   "cell_type": "markdown",
   "id": "cc30dd41",
   "metadata": {},
   "source": [
    "**3.2 Test-Training Split**"
   ]
  },
  {
   "cell_type": "code",
   "execution_count": 86,
   "id": "3e5add55",
   "metadata": {},
   "outputs": [
    {
     "name": "stdout",
     "output_type": "stream",
     "text": [
      "Training set size: (101364, 24) Default rate: 0.0058896649698117675\n",
      "Test set size: (25341, 24) Default rate: 0.0058797995343514466\n"
     ]
    }
   ],
   "source": [
    "# Split the data into training and testing sets (stratified by default label)\n",
    "X = d.drop(columns=['default_flag'])\n",
    "y = d['default_flag']\n",
    "X_train, X_test, y_train, y_test = train_test_split(X, y, test_size=0.2, stratify=y, random_state=0)\n",
    "\n",
    "print(\"Training set size:\", X_train.shape, \"Default rate:\", y_train.mean())\n",
    "print(\"Test set size:\", X_test.shape, \"Default rate:\", y_test.mean())"
   ]
  },
  {
   "cell_type": "markdown",
   "id": "50f78c53",
   "metadata": {},
   "source": [
    "**3.3 Missing data check**"
   ]
  },
  {
   "cell_type": "code",
   "execution_count": 89,
   "id": "0ed093b7",
   "metadata": {},
   "outputs": [
    {
     "name": "stdout",
     "output_type": "stream",
     "text": [
      "fico    0.019731\n",
      "cltv    0.000987\n",
      "dti     1.019099\n",
      "ltv     0.000987\n",
      "dtype: float64\n"
     ]
    }
   ],
   "source": [
    "missing_counts = X_train[numerical_features].isnull().sum()\n",
    "missing_percent = (missing_counts / len(X_train)) * 100\n",
    "# Get the maximum missing percentage\n",
    "# max_missing = missing_percent.max()\n",
    "# Visualize missingness\n",
    "# msno.matrix(X_train, figsize=(9, 2), fontsize=10, sparkline=False)\n",
    "# plt.title(\"Missing Values Matrix\")\n",
    "# plt.show()\n",
    "# print(f\"Maximum missing percentage for a variable: {max_missing:.2f}%\")\n",
    "print(missing_percent[missing_percent > 0])"
   ]
  },
  {
   "cell_type": "code",
   "execution_count": 91,
   "id": "614fed02",
   "metadata": {},
   "outputs": [
    {
     "data": {
      "image/png": "[encoded data removed]",
      "text/plain": [
       "<Figure size 1200x320 with 4 Axes>"
      ]
     },
     "metadata": {},
     "output_type": "display_data"
    }
   ],
   "source": [
    "# Select numeric columns\n",
    "numeric_missing = ['fico', 'cltv', 'dti', 'ltv']\n",
    "# Create subplots\n",
    "fig, axes = plt.subplots(1, 4, figsize=(15, 4)) \n",
    "for i, col in enumerate(numeric_missing):\n",
    "    sns.histplot(X_train[col], bins=30, kde=True, ax=axes[i])\n",
    "    axes[i].set_title(f\"'{col}' Distribution\")\n",
    "    axes[i].set_xlabel(col)\n",
    "    axes[i].set_ylabel(\"Frequency\")\n",
    "plt.tight_layout()\n",
    "plt.show()"
   ]
  },
  {
   "cell_type": "markdown",
   "id": "a4e0cea0",
   "metadata": {},
   "source": [
    "Given all four of the numerical features with missing values are skewed, we will implement median imputation in our preprocessing pipeline to best replace these missing values. "
   ]
  },
  {
   "cell_type": "markdown",
   "id": "6ba4131b",
   "metadata": {},
   "source": [
    "**3.4 Investigating Relationships**"
   ]
  },
  {
   "cell_type": "code",
   "execution_count": 95,
   "id": "226b5ffd",
   "metadata": {},
   "outputs": [
    {
     "data": {
      "text/plain": [
       "<Axes: >"
      ]
     },
     "execution_count": 95,
     "metadata": {},
     "output_type": "execute_result"
    },
    {
     "data": {
      "image/png": "[encoded data removed]",
      "text/plain": [
       "<Figure size 640x400 with 2 Axes>"
      ]
     },
     "metadata": {},
     "output_type": "display_data"
    }
   ],
   "source": [
    "corr_matrix = pd.concat([X_train, y_train], axis=1).corr(numeric_only=True)\n",
    "target_corr = corr_matrix[['default_flag']].drop('default_flag').sort_values(by='default_flag', key=abs, ascending=False)\n",
    "sns.heatmap(target_corr, annot=True, cmap='coolwarm')"
   ]
  },
  {
   "cell_type": "markdown",
   "id": "dd29410d",
   "metadata": {},
   "source": [
    "从相关性热力图可以看出，所有数值变量与违约标签 default_flag 之间的线性相关性都非常弱。这可能是由于数据集中违约样本极少，类别严重不平衡，导致皮尔森相关系数无法准确衡量变量的重要性。为了缓解这种问题，我们将在后续采用 SMOTE 技术对违约样本进行过采样，以提高模型对少数类的识别能力。\n",
    "\n",
    "The correlation heatmap shows that all numerical features have very weak linear relationships with the target variable default_flag. This is likely due to the highly imbalanced nature of the dataset, where the proportion of default cases is extremely low. In such settings, traditional correlation metrics tend to understate the predictive value of features, as the minority class is underrepresented in the statistical estimation. To address this, we apply SMOTE (Synthetic Minority Over-sampling Technique) to rebalance the dataset by generating synthetic default samples. This improves the model’s ability to learn patterns associated with the rare class and enhances performance on imbalanced classification tasks."
   ]
  },
  {
   "cell_type": "markdown",
   "id": "eb7c61b0",
   "metadata": {},
   "source": [
    "**3.5 Data Transformations**\n",
    "\n",
    "Since the variables are not on the same scale, we apply standardisation. Explain.\n",
    "\n",
    "由于各变量的量纲不同，我们对数据进行了标准化处理。运用在pipeline中"
   ]
  },
  {
   "cell_type": "markdown",
   "id": "2109e419",
   "metadata": {},
   "source": [
    "**3.6 Feature Engineering**\n",
    "\n",
    "To transform the categorical variables, we employ One-Hot Encoding. Explain"
   ]
  },
  {
   "cell_type": "markdown",
   "id": "7bc9fe39",
   "metadata": {},
   "source": [
    "# Model Fitting and Tuning\n",
    "\n",
    "*In this section you should detail and motivate your choice of model and describe the process used to refine, tune, and fit that model. You are encouraged to explore different models but you should NOT include a detailed narrative or code of all of these attempts. At most this section should briefly mention the methods explored and why they were rejected - most of your effort should go into describing the final model you are using and your process for tuning and validating it.*\n",
    "\n",
    "*This section should include the full implementation of your final model, including all necessary validation. As with figures, any included code must also be addressed in the text of the document.*\n",
    "\n",
    "*Finally, you should also provide a comparison of your model with a baseline model of your choice on the test data but only briefly describe the baseline model considered.*"
   ]
  },
  {
   "cell_type": "markdown",
   "id": "9df91905",
   "metadata": {},
   "source": [
    "**4.1 Pipeline and Oversampling(SMOTE)**"
   ]
  },
  {
   "cell_type": "code",
   "execution_count": 102,
   "id": "0c3ff40d",
   "metadata": {},
   "outputs": [
    {
     "name": "stdout",
     "output_type": "stream",
     "text": [
      "Encoded feature matrix shape (training set): (101364, 161)\n"
     ]
    }
   ],
   "source": [
    "# Using Pipeline for numerical and categorical\n",
    "# Create lists for impution type\n",
    "median_impute = ['fico', 'cltv', 'dti', 'ltv', 'mi_pct']\n",
    "# Numerical imputer pipeline\n",
    "numerical_transformer = Pipeline([\n",
    "    ('impute', ColumnTransformer([\n",
    "    (\"median_impute\", SimpleImputer(strategy='median'), median_impute)\n",
    "], remainder='passthrough')),\n",
    "    ('scaler', StandardScaler())\n",
    "])\n",
    "\n",
    "categorical_transformer = Pipeline([\n",
    "    ('to_str', FunctionTransformer(lambda x: x.astype(str))),\n",
    "    ('onehot', OneHotEncoder(handle_unknown='ignore'))\n",
    "])\n",
    "\n",
    "preprocessor = ColumnTransformer([\n",
    "    ('num', numerical_transformer, numerical_features),\n",
    "    ('cat', categorical_transformer, categorical_features)\n",
    "])\n",
    "\n",
    "# Refit and transform the training set; transform the test set\n",
    "X_train_enc = preprocessor.fit_transform(X_train)\n",
    "X_test_enc = preprocessor.transform(X_test)\n",
    "\n",
    "print(\"Encoded feature matrix shape (training set):\", X_train_enc.shape)"
   ]
  },
  {
   "cell_type": "markdown",
   "id": "203c27fa",
   "metadata": {},
   "source": [
    "After encoding, the dimensionality of the training feature matrix increases significantly from 24 to 165 due to the one-hot encoding of categorical variables. The pipeline ensures that the same transformations are consistently applied to both the training and testing data.\n",
    "\n",
    "编码后，训练集特征矩阵的维度增加明显从24到165，这是由于对类别变量进行了独热编码。Pipeline确保相同变换应用于训练和测试数据。"
   ]
  },
  {
   "cell_type": "markdown",
   "id": "cc5db054",
   "metadata": {},
   "source": [
    "类别不平衡处理： 在训练模型前，需要应对违约样本过少的问题。我们采用SMOTE算法对训练集过采样正类，使违约样本数量增加至与非违约相当，从而平衡训练数据。SMOTE通过插值合成新的少数类样本，较随机过采样能增加多样性。这里使用imblearn.over_sampling.SMOTE进行处理。为防止数据泄漏，我们仅对训练集做过采样，测试集保持真实分布。"
   ]
  },
  {
   "cell_type": "code",
   "execution_count": 106,
   "id": "8eb3d177",
   "metadata": {},
   "outputs": [
    {
     "name": "stdout",
     "output_type": "stream",
     "text": [
      "Resampled training set shape: (201534, 161) Positive class ratio: 0.5\n"
     ]
    }
   ],
   "source": [
    "# Apply SMOTE to oversample the training set\n",
    "smote = SMOTE(random_state=0)\n",
    "X_train_res, y_train_res = smote.fit_resample(X_train_enc, y_train)\n",
    "\n",
    "print(\"Resampled training set shape:\", X_train_res.shape, \n",
    "      \"Positive class ratio:\", y_train_res.mean())"
   ]
  },
  {
   "cell_type": "markdown",
   "id": "b04c5713",
   "metadata": {},
   "source": [
    "After oversampling, the number of training samples increases significantly, with default and non-default cases each accounting for 50%. For example, the original training set contained only a few hundred default cases. With SMOTE, a large number of synthetic default samples were generated, resulting in approximately 100,000 samples for each class. This balanced distribution provides the model with sufficient default cases to learn from, helping to alleviate the issue of the model being biased toward predicting the majority class. In the subsequent model training, we will use `X_train_res` and `y_train_res` as the training data.\n",
    "\n",
    "过采样后训练集样本数成倍增加，违约与非违约样本数各占50%。例如，原训练集中违约样本仅几百条，经过SMOTE生成了大量合成违约样本，正负样本均约10万余条，各占一半，为模型提供了足够的违约案例学习。这样处理能缓解模型偏向预测多数类的问题。在后续模型训练中，我们将使用X_train_res, y_train_res作为训练数据。"
   ]
  },
  {
   "cell_type": "markdown",
   "id": "4b6a1b92",
   "metadata": {},
   "source": [
    "**Using Filter and Random Forest to remove features again**"
   ]
  },
  {
   "cell_type": "code",
   "execution_count": 110,
   "id": "6d782dea",
   "metadata": {},
   "outputs": [
    {
     "name": "stdout",
     "output_type": "stream",
     "text": [
      "X_train_final shape: (201534, 25)\n"
     ]
    }
   ],
   "source": [
    "# Step1: Filter-based feature selection\n",
    "filter_selector = SelectKBest(score_func=f_classif, k=50)\n",
    "filter_selector.fit(X_train_res, y_train_res)\n",
    "X_train_res_filter = filter_selector.transform(X_train_res)\n",
    "# Step2: Random Forest feature selection\n",
    "rf = RandomForestClassifier(n_estimators=100, random_state=0)\n",
    "rf.fit(X_train_res_filter, y_train_res)\n",
    "model_selector = SelectFromModel(rf, prefit=True, threshold=\"median\")\n",
    "X_train_final = model_selector.transform(X_train_res_filter)\n",
    "print(\"X_train_final shape:\", X_train_final.shape)"
   ]
  },
  {
   "cell_type": "code",
   "execution_count": 111,
   "id": "2698e4a6-6d0b-49f2-8e6d-1a20822bab97",
   "metadata": {},
   "outputs": [
    {
     "name": "stdout",
     "output_type": "stream",
     "text": [
      "['fico' 'mi_pct' 'cnt_units' 'cltv' 'dti' 'ltv' 'int_rt'\n",
      " 'dt_first_pi_11.0' 'dt_first_pi_13.0' 'flag_fthb_N' 'flag_fthb_Y'\n",
      " 'channel_R' 'st_FL' 'prop_type_PU' 'prop_type_SF' 'loan_purpose_C'\n",
      " 'cnt_borr_1' 'cnt_borr_2' 'property_val_1' 'property_val_3' 'msa_True'\n",
      " 'Nat_A_0' 'Nat_A_2' 'Nat_A_3' 'Nat_A_8']\n"
     ]
    }
   ],
   "source": [
    "numeric_features = numerical_features\n",
    "onehot = preprocessor.named_transformers_['cat'].named_steps['onehot']\n",
    "categorical_feature_names = onehot.get_feature_names_out(categorical_features)\n",
    "feature_names_encoded = np.concatenate([numeric_features, categorical_feature_names])\n",
    "# Step1 selection\n",
    "filter_support = filter_selector.get_support(indices=True)\n",
    "# Step2 selection based on Step1\n",
    "rf_support = model_selector.get_support(indices=True)\n",
    "final_feature_indices = filter_support[rf_support]\n",
    "# Final feature selection\n",
    "final_feature_names = feature_names_encoded[final_feature_indices]\n",
    "print(final_feature_names)"
   ]
  },
  {
   "cell_type": "code",
   "execution_count": 112,
   "id": "54319243-2277-4d7f-84b6-51e6e5e4c877",
   "metadata": {},
   "outputs": [],
   "source": [
    "X_test_final = X_test_enc[:, final_feature_indices]"
   ]
  },
  {
   "cell_type": "markdown",
   "id": "45b9ca96",
   "metadata": {},
   "source": [
    "**4.2 Initial Model Training and Comparison**"
   ]
  },
  {
   "cell_type": "code",
   "execution_count": 113,
   "id": "79e0fae8-73c7-4fab-9896-167e20aa0de1",
   "metadata": {},
   "outputs": [
    {
     "name": "stdout",
     "output_type": "stream",
     "text": [
      "=== Logistic Regression with Cross-Validation ===\n",
      "Accuracy: 0.716\n",
      "Precision: 0.710\n",
      "Recall: 0.731\n",
      "F1-score: 0.720\n",
      "AUC: 0.783\n",
      "              precision    recall  f1-score   support\n",
      "\n",
      "           0       0.72      0.70      0.71    100767\n",
      "           1       0.71      0.73      0.72    100767\n",
      "\n",
      "    accuracy                           0.72    201534\n",
      "   macro avg       0.72      0.72      0.72    201534\n",
      "weighted avg       0.72      0.72      0.72    201534\n",
      "\n"
     ]
    },
    {
     "data": {
      "text/plain": [
       "array([[70649, 30118],\n",
       "       [27152, 73615]], dtype=int64)"
      ]
     },
     "execution_count": 113,
     "metadata": {},
     "output_type": "execute_result"
    }
   ],
   "source": [
    "# 使用 StratifiedKFold 进行交叉验证\n",
    "cv = StratifiedKFold(n_splits=5, shuffle=True, random_state=42)\n",
    "\n",
    "# 定义 Logistic Regression 模型（保持你的 pipeline 不变）\n",
    "logistic = Pipeline([\n",
    "    ('clf', LogisticRegression(max_iter=1000, class_weight='balanced', random_state=42))\n",
    "])\n",
    "\n",
    "# 交叉验证预测（通过cross_val_predict返回每一折的预测结果）\n",
    "y_pred_cv = cross_val_predict(logistic, X_train_final, y_train_res, cv=cv)\n",
    "y_prob_cv = cross_val_predict(logistic, X_train_final, y_train_res, cv=cv, method='predict_proba')[:, 1]\n",
    "\n",
    "# 计算交叉验证的指标\n",
    "metrics = {\n",
    "    'Accuracy': accuracy_score(y_train_res, y_pred_cv),\n",
    "    'Precision': precision_score(y_train_res, y_pred_cv),\n",
    "    'Recall': recall_score(y_train_res, y_pred_cv),\n",
    "    'F1-score': f1_score(y_train_res, y_pred_cv),\n",
    "    'AUC': roc_auc_score(y_train_res, y_prob_cv)\n",
    "}\n",
    "\n",
    "print(\"=== Logistic Regression with Cross-Validation ===\")\n",
    "for metric, value in metrics.items():\n",
    "    print(f\"{metric}: {value:.3f}\")\n",
    "\n",
    "# 输出 classification_report 评估更多细节\n",
    "print(classification_report(y_train_res, y_pred_cv))\n",
    "\n",
    "# 混淆矩阵\n",
    "confusion_matrix(y_train_res, y_pred_cv)"
   ]
  },
  {
   "cell_type": "code",
   "execution_count": 122,
   "id": "c9c5bc70-02f8-4ae6-9e44-b0197eda1d05",
   "metadata": {},
   "outputs": [
    {
     "name": "stdout",
     "output_type": "stream",
     "text": [
      "\n",
      "=== Logistic Regression on Test Set ===\n",
      "Accuracy:  0.703\n",
      "Precision: 0.014\n",
      "Recall:    0.698\n",
      "F1-score:  0.027\n",
      "AUC:       0.737\n",
      "\n",
      "Classification Report on Test Set:\n",
      "              precision    recall  f1-score   support\n",
      "\n",
      "           0       1.00      0.70      0.82     25192\n",
      "           1       0.01      0.70      0.03       149\n",
      "\n",
      "    accuracy                           0.70     25341\n",
      "   macro avg       0.51      0.70      0.43     25341\n",
      "weighted avg       0.99      0.70      0.82     25341\n",
      "\n",
      "Confusion Matrix on Test Set:\n",
      "[[17712  7480]\n",
      " [   45   104]]\n"
     ]
    }
   ],
   "source": [
    "from sklearn.metrics import classification_report, accuracy_score, roc_auc_score, confusion_matrix\n",
    "import matplotlib.pyplot as plt\n",
    "\n",
    "# 1. 先用全量的训练数据来拟合模型（非常重要，否则会报 NotFittedError）\n",
    "logistic.fit(X_train_final, y_train_res)\n",
    "\n",
    "# 2. 对测试集做预测：分两步\n",
    "#    - 二分类结果\n",
    "y_pred_test = logistic.predict(X_test_final)\n",
    "#    - 正类(1)的预测概率（用于 AUC、绘制 ROC 等）\n",
    "y_prob_test = logistic.predict_proba(X_test_final)[:, 1]\n",
    "\n",
    "# 3. 计算在测试集上的各项指标\n",
    "accuracy_test  = accuracy_score(y_test, y_pred_test)\n",
    "precision_test = precision_score(y_test, y_pred_test)\n",
    "recall_test    = recall_score(y_test, y_pred_test)\n",
    "f1_test        = f1_score(y_test, y_pred_test)\n",
    "auc_test       = roc_auc_score(y_test, y_prob_test)\n",
    "\n",
    "print(\"\\n=== Logistic Regression on Test Set ===\")\n",
    "print(f\"Accuracy:  {accuracy_test:.3f}\")\n",
    "print(f\"Precision: {precision_test:.3f}\")\n",
    "print(f\"Recall:    {recall_test:.3f}\")\n",
    "print(f\"F1-score:  {f1_test:.3f}\")\n",
    "print(f\"AUC:       {auc_test:.3f}\")\n",
    "\n",
    "print(\"\\nClassification Report on Test Set:\")\n",
    "print(classification_report(y_test, y_pred_test))\n",
    "\n",
    "cm_test = confusion_matrix(y_test, y_pred_test)\n",
    "print(\"Confusion Matrix on Test Set:\")\n",
    "print(cm_test)"
   ]
  },
  {
   "cell_type": "code",
   "execution_count": 43,
   "id": "c6c34d6e-ad2f-4cbb-9d25-ec69ae7f9963",
   "metadata": {},
   "outputs": [
    {
     "name": "stdout",
     "output_type": "stream",
     "text": [
      "=== Random Forest with Cross-Validation ===\n",
      "Accuracy: 0.997\n",
      "Precision: 0.999\n",
      "Recall: 0.995\n",
      "F1-score: 0.997\n",
      "AUC: 1.000\n",
      "              precision    recall  f1-score   support\n",
      "\n",
      "           0       0.99      1.00      1.00    100767\n",
      "           1       1.00      0.99      1.00    100767\n",
      "\n",
      "    accuracy                           1.00    201534\n",
      "   macro avg       1.00      1.00      1.00    201534\n",
      "weighted avg       1.00      1.00      1.00    201534\n",
      "\n"
     ]
    },
    {
     "data": {
      "text/plain": [
       "array([[100699,     68],\n",
       "       [   515, 100252]], dtype=int64)"
      ]
     },
     "execution_count": 43,
     "metadata": {},
     "output_type": "execute_result"
    }
   ],
   "source": [
    "# 使用 StratifiedKFold 进行交叉验证\n",
    "cv = StratifiedKFold(n_splits=5, shuffle=True, random_state=42)\n",
    "\n",
    "# 定义 Random Forest 模型（保持你的 pipeline 不变）\n",
    "rf = Pipeline([\n",
    "    ('clf', RandomForestClassifier(n_estimators=100, random_state=42, class_weight='balanced'))\n",
    "])\n",
    "\n",
    "# 交叉验证预测（通过 cross_val_predict 返回每一折的预测结果）\n",
    "y_pred_cv = cross_val_predict(rf, X_train_final, y_train_res, cv=cv)\n",
    "y_prob_cv = cross_val_predict(rf, X_train_final, y_train_res, cv=cv, method='predict_proba')[:, 1]\n",
    "\n",
    "# 计算交叉验证的指标\n",
    "metrics = {\n",
    "    'Accuracy': accuracy_score(y_train_res, y_pred_cv),\n",
    "    'Precision': precision_score(y_train_res, y_pred_cv),\n",
    "    'Recall': recall_score(y_train_res, y_pred_cv),\n",
    "    'F1-score': f1_score(y_train_res, y_pred_cv),\n",
    "    'AUC': roc_auc_score(y_train_res, y_prob_cv)\n",
    "}\n",
    "\n",
    "print(\"=== Random Forest with Cross-Validation ===\")\n",
    "for metric, value in metrics.items():\n",
    "    print(f\"{metric}: {value:.3f}\")\n",
    "\n",
    "# 输出 classification_report 评估更多细节\n",
    "print(classification_report(y_train_res, y_pred_cv))\n",
    "\n",
    "# 混淆矩阵\n",
    "confusion_matrix(y_train_res, y_pred_cv)"
   ]
  },
  {
   "cell_type": "code",
   "execution_count": 45,
   "id": "b36a70d8-a93e-4348-b7e2-ec656eea486c",
   "metadata": {},
   "outputs": [
    {
     "name": "stdout",
     "output_type": "stream",
     "text": [
      "Fitting 5 folds for each of 240 candidates, totalling 1200 fits\n"
     ]
    },
    {
     "name": "stderr",
     "output_type": "stream",
     "text": [
      "\n",
      "KeyboardInterrupt\n",
      "\n"
     ]
    }
   ],
   "source": [
    "from sklearn.ensemble import RandomForestClassifier\n",
    "from sklearn.model_selection import GridSearchCV, StratifiedKFold\n",
    "\n",
    "# 定义超参数搜索空间\n",
    "param_grid = {\n",
    "    'max_depth': [None, 5, 10, 15, 20],\n",
    "    'min_samples_split': [2, 5, 10],\n",
    "    'min_samples_leaf': [1, 2, 5],\n",
    "    'n_estimators': [80, 100, 150]  # 在100附近取几个值\n",
    "}\n",
    "\n",
    "# 基础随机森林模型，指定类别权重和平衡\n",
    "base_rf = RandomForestClassifier(class_weight='balanced', random_state=42)\n",
    "\n",
    "# 设置5折分层交叉验证\n",
    "cv = StratifiedKFold(n_splits=5, shuffle=True, random_state=42)\n",
    "\n",
    "# 初始化 GridSearchCV（评估指标使用ROC AUC）\n",
    "grid_search = GridSearchCV(base_rf, param_grid, cv=cv, scoring='roc_auc', n_jobs=-1, verbose=1)\n",
    "grid_search.fit(X_train_final, y_train_res)\n",
    "\n",
    "# 输出最优参数组合和对应的交叉验证AUC分数\n",
    "print(\"Best Parameters:\", grid_search.best_params_)\n",
    "print(\"Best CV AUC:\", grid_search.best_score_)\n",
    "\n"
   ]
  },
  {
   "cell_type": "code",
   "execution_count": 55,
   "id": "e0c93f17-7a20-4516-9ea2-d5fc8e61f888",
   "metadata": {},
   "outputs": [
    {
     "name": "stdout",
     "output_type": "stream",
     "text": [
      "Fitting 5 folds for each of 30 candidates, totalling 150 fits\n",
      "Best Params: {'clf__max_depth': None, 'clf__min_samples_leaf': 1, 'clf__min_samples_split': 9, 'clf__n_estimators': 142}\n",
      "Best CV AUC: 0.9792918232498954\n"
     ]
    },
    {
     "ename": "TypeError",
     "evalue": "RandomForestClassifier.__init__() got an unexpected keyword argument 'clf__max_depth'",
     "output_type": "error",
     "traceback": [
      "\u001b[1;31m---------------------------------------------------------------------------\u001b[0m",
      "\u001b[1;31mTypeError\u001b[0m                                 Traceback (most recent call last)",
      "Cell \u001b[1;32mIn[55], line 29\u001b[0m\n\u001b[0;32m     26\u001b[0m \u001b[38;5;66;03m# 拿到最优参数\u001b[39;00m\n\u001b[0;32m     27\u001b[0m best_params \u001b[38;5;241m=\u001b[39m random_search\u001b[38;5;241m.\u001b[39mbest_params_\n\u001b[1;32m---> 29\u001b[0m best_rf \u001b[38;5;241m=\u001b[39m RandomForestClassifier(\n\u001b[0;32m     30\u001b[0m     \u001b[38;5;241m*\u001b[39m\u001b[38;5;241m*\u001b[39mbest_params,         \u001b[38;5;66;03m# 解包最优参数\u001b[39;00m\n\u001b[0;32m     31\u001b[0m     class_weight\u001b[38;5;241m=\u001b[39m\u001b[38;5;124m'\u001b[39m\u001b[38;5;124mbalanced\u001b[39m\u001b[38;5;124m'\u001b[39m, \n\u001b[0;32m     32\u001b[0m     random_state\u001b[38;5;241m=\u001b[39m\u001b[38;5;241m42\u001b[39m\n\u001b[0;32m     33\u001b[0m )\n\u001b[0;32m     34\u001b[0m best_rf\u001b[38;5;241m.\u001b[39mfit(X_sample, y_sample)\n\u001b[0;32m     36\u001b[0m \u001b[38;5;66;03m# 这里用 cross_validate 来查看 5 折 CV 上的表现\u001b[39;00m\n",
      "\u001b[1;31mTypeError\u001b[0m: RandomForestClassifier.__init__() got an unexpected keyword argument 'clf__max_depth'"
     ]
    }
   ],
   "source": [
    "from sklearn.utils import resample\n",
    "from sklearn.model_selection import RandomizedSearchCV\n",
    "from sklearn.ensemble import RandomForestClassifier\n",
    "from scipy.stats import randint\n",
    "\n",
    "# 1. 从训练集中抽取一个子集，进行调参\n",
    "X_sample, y_sample = resample(X_train_final, y_train_res, n_samples=20000, random_state=42, stratify=y_train_res)\n",
    "param_dist = {\n",
    "    'clf__n_estimators': randint(80, 151),\n",
    "    'clf__max_depth': [None, 5, 10, 15, 20],\n",
    "    'clf__min_samples_split': randint(2, 11),\n",
    "    'clf__min_samples_leaf': randint(1, 6)\n",
    "}\n",
    "\n",
    "# 4. 使用 RandomizedSearchCV 进行随机搜索，5折交叉验证，进行30次随机采样\n",
    "random_search = RandomizedSearchCV(\n",
    "    rf, param_distributions=param_dist, n_iter=30, cv=cv,\n",
    "    scoring='f1', random_state=42, n_jobs=-1, verbose=1\n",
    ")\n",
    "\n",
    "# 5. 训练模型\n",
    "random_search.fit(X_sample, y_sample)\n",
    "print(\"Best Params:\", random_search.best_params_)\n",
    "print(\"Best f1:\", random_search.best_score_)\n",
    "\n",
    "\n",
    "best_rf_final = random_search.best_estimator_\n"
   ]
  },
  {
   "cell_type": "code",
   "execution_count": null,
   "id": "0168a6da-e0e9-486b-87d4-ac293d595bf3",
   "metadata": {},
   "outputs": [],
   "source": [
    "# 获取最佳参数并使用它们初始化新的随机森林模型\n",
    "# 6. 找到的最佳参数，重新在整个训练集上训练模型\n",
    "best_rf_final.fit(X_train_final, y_train_res)\n",
    "\n",
    "\n",
    "# 使用5折交叉验证评估模型在训练集上的平均指标\n",
    "from sklearn.model_selection import cross_validate\n",
    "\n",
    "cv_results = cross_validate(best_rf_final, X_train_final, y_train_res, cv=cv,#y_test\n",
    "                            scoring=['accuracy', 'precision', 'recall', 'f1', 'roc_auc'])\n",
    "print(\"5-Fold CV Average Metrics:\")\n",
    "print(\"Accuracy: {:.4f}\".format(cv_results['test_accuracy'].mean()))\n",
    "print(\"Precision: {:.4f}\".format(cv_results['test_precision'].mean()))\n",
    "print(\"Recall: {:.4f}\".format(cv_results['test_recall'].mean()))\n",
    "print(\"F1-score: {:.4f}\".format(cv_results['test_f1'].mean()))\n",
    "print(\"ROC AUC: {:.4f}\".format(cv_results['test_roc_auc'].mean()))\n"
   ]
  },
  {
   "cell_type": "code",
   "execution_count": null,
   "id": "8a806195-77c7-40ee-9b83-b1735b935077",
   "metadata": {},
   "outputs": [],
   "source": [
    "import numpy as np\n",
    "import matplotlib.pyplot as plt\n",
    "from sklearn.metrics import roc_curve, roc_auc_score\n",
    "\n",
    "# 计算测试集正类预测概率\n",
    "y_prob_test = best_rf_final.predict_proba(X_test_final)[:, 1]\n",
    "\n",
    "# 计算ROC曲线坐标和AUC值\n",
    "fpr, tpr, _ = roc_curve(y_test, y_prob_test)\n",
    "auc_val = roc_auc_score(y_test, y_prob_test)\n",
    "\n",
    "# 绘制ROC曲线\n",
    "plt.figure(figsize=(6,5))\n",
    "plt.plot(fpr, tpr, color='darkorange', lw=2, label='ROC Curve (AUC = %0.3f)' % auc_val)\n",
    "plt.plot([0, 1], [0, 1], color='navy', lw=2, linestyle='--', label='Random Guess')\n",
    "plt.xlim([0.0, 1.0])\n",
    "plt.ylim([0.0, 1.05])\n",
    "plt.xlabel('False Positive Rate')\n",
    "plt.ylabel('True Positive Rate')\n",
    "plt.title('ROC Curve on Test Set')\n",
    "plt.legend(loc=\"lower right\")\n",
    "plt.show()\n"
   ]
  },
  {
   "cell_type": "code",
   "execution_count": null,
   "id": "2f95ac73-498a-44f3-9976-0d9ad49e0eb1",
   "metadata": {},
   "outputs": [],
   "source": [
    "import shap\n",
    "\n",
    "# 创建针对随机森林模型的 TreeExplainer 并计算 SHAP 值\n",
    "explainer = shap.TreeExplainer(best_rf)\n",
    "shap_values = explainer.shap_values(X_test_final)  # 对测试集特征计算SHAP值\n",
    "\n",
    "# 绘制 SHAP 总结图（使用正类的 SHAP值，展示全局特征重要性）\n",
    "shap.summary_plot(shap_values[1], X_test_final, plot_type=\"dot\")\n",
    "# 可选：绘制平均绝对SHAP值的条形图\n",
    "shap.summary_plot(shap_values[1], X_test_final, plot_type=\"bar\")\n"
   ]
  },
  {
   "cell_type": "code",
   "execution_count": null,
   "id": "bc40d8ee-c10d-4e54-a9c0-191f140644d9",
   "metadata": {},
   "outputs": [],
   "source": [
    "from sklearn.metrics import confusion_matrix, ConfusionMatrixDisplay, accuracy_score, precision_score, recall_score, f1_score\n",
    "\n",
    "# 基于最佳模型对测试集进行预测\n",
    "y_pred_test = best_rf.predict(X_test_final)\n",
    "\n",
    "# 计算混淆矩阵\n",
    "cm = confusion_matrix(y_test, y_pred_test)\n",
    "print(\"Confusion Matrix:\\n\", cm)\n",
    "\n",
    "# 可视化混淆矩阵\n",
    "disp = ConfusionMatrixDisplay(confusion_matrix=cm, display_labels=['Non-Default', 'Default'])\n",
    "disp.plot(values_format='d', cmap=plt.cm.Blues)  # 显示整数值，蓝色色调\n",
    "plt.title('Confusion Matrix (Test Set)')\n",
    "plt.show()\n",
    "\n",
    "# 计算各项指标\n",
    "accuracy = accuracy_score(y_test, y_pred_test)\n",
    "precision = precision_score(y_test, y_pred_test, zero_division=0)\n",
    "recall = recall_score(y_test, y_pred_test, zero_division=0)\n",
    "f1 = f1_score(y_test, y_pred_test, zero_division=0)\n",
    "\n",
    "print(f\"Accuracy: {accuracy:.4f}\")\n",
    "print(f\"Precision: {precision:.4f}\")\n",
    "print(f\"Recall: {recall:.4f}\")\n",
    "print(f\"F1-score: {f1:.4f}\")\n"
   ]
  },
  {
   "cell_type": "code",
   "execution_count": null,
   "id": "6be4f700-9efc-4a4d-af64-516b5398f3e5",
   "metadata": {},
   "outputs": [],
   "source": [
    "import matplotlib.pyplot as plt\n",
    "from sklearn.metrics import roc_curve, auc\n",
    "\n",
    "# 存储每个模型的 ROC 曲线和 AUC\n",
    "models = {\n",
    "    'Logistic Regression': logistic,\n",
    "    'SVM': svm,\n",
    "    'Decision Tree': dt,\n",
    "    'Random Forest': rf,\n",
    "    'Neural Network': knn\n",
    "}\n",
    "\n",
    "# 初始化图形\n",
    "plt.figure(figsize=(10, 8))\n",
    "\n",
    "# 循环绘制每个模型的 ROC 曲线\n",
    "for model_name, model in models.items():\n",
    "    # 获取交叉验证预测的概率（cross_val_predict返回每一折的预测概率）\n",
    "    y_prob = cross_val_predict(model, X_train_final, y_train_res, cv=StratifiedKFold(n_splits=5, shuffle=True, random_state=42), method='predict_proba')[:, 1]\n",
    "    \n",
    "    # 计算 ROC 曲线\n",
    "    fpr, tpr, _ = roc_curve(y_train_res, y_prob)  # 使用训练集的真实标签和预测的概率\n",
    "    roc_auc = auc(fpr, tpr)  # 计算 AUC 值\n",
    "\n",
    "    # 绘制 ROC 曲线\n",
    "    plt.plot(fpr, tpr, label=f'{model_name} (AUC = {roc_auc:.3f})')\n",
    "\n",
    "# 绘制随机猜测的基准线\n",
    "plt.plot([0, 1], [0, 1], 'k--', label='Random Guess (AUC = 0.500)')\n",
    "\n",
    "# 设置图形的标签和标题\n",
    "plt.title('ROC Curve for Different Models')\n",
    "plt.xlabel('False Positive Rate')\n",
    "plt.ylabel('True Positive Rate')\n",
    "plt.legend(loc='lower right')\n",
    "\n",
    "# 显示图形\n",
    "plt.show()\n"
   ]
  },
  {
   "cell_type": "code",
   "execution_count": null,
   "id": "3672d9fa-3d28-4d6e-ae13-6795489063cb",
   "metadata": {},
   "outputs": [],
   "source": [
    "import numpy as np\n",
    "import shap\n",
    "\n",
    "# 将 X_test_final 转换为浮动类型的二维数组\n",
    "X_test_final_dense = X_test_final.toarray().astype(float)\n",
    "\n",
    "# 确保是二维数组\n",
    "if X_test_final_dense.ndim == 1:\n",
    "    X_test_final_dense = X_test_final_dense.reshape(-1, 1)  # 转换为二维数组\n",
    "\n",
    "# 创建 SHAP 解释器并计算 SHAP 值\n",
    "explainer = shap.TreeExplainer(best_rf_final_model)\n",
    "shap_values = explainer.shap_values(X_test_final_dense)\n",
    "\n",
    "# 绘制 SHAP 总结图（dot图）\n",
    "shap.summary_plot(shap_values[1], X_test_final_dense, plot_type=\"dot\")\n"
   ]
  },
  {
   "cell_type": "markdown",
   "id": "308a9c84",
   "metadata": {},
   "source": [
    "# Discussion & Conclusions\n",
    "\n",
    "*In this section you should provide a general overview of your final model, its performance, and reliability. You should discuss what the implications of your model are in terms of the included features, estimated parameters and relationships, predictive performance, and anything else you think is relevant.*\n",
    "\n",
    "*This should be written with a target audience of a banking official, who is understands the issues associated with mortgage defaults but may only have university level mathematics (not necessarily postgraduate statistics or machine learning). Your goal should be to highlight to this audience how your model can useful. You should also discuss potential limitations or directions of future improvement of your model.*\n",
    "\n",
    "*Finally, you should include recommendations on factors that may increase the risk of default, which may be useful for the companies to improve their understanding of\n",
    "mortgage defaults, and also to explain their decisions to clients and regulatory bodies. You should also use your model to inform the company of any active loans that are at risk of default.*\n",
    "\n",
    "*Keep in mind that a negative result, i.e. a model that does not work well predictively, that is well explained and justified in terms of why it failed will likely receive higher marks than a model with strong predictive performance but with poor or incorrect explinations / justifications.*"
   ]
  },
  {
   "cell_type": "markdown",
   "id": "ebb8539f",
   "metadata": {},
   "source": [
    "# Generative AI statement\n",
    "\n",
    "*Include a statement on how generative AI was used in the project and report.*"
   ]
  },
  {
   "cell_type": "markdown",
   "id": "09db6349",
   "metadata": {},
   "source": [
    "# References\n",
    "\n",
    "*Include references if any*"
   ]
  },
  {
   "cell_type": "code",
   "execution_count": null,
   "id": "0e3625a7",
   "metadata": {},
   "outputs": [],
   "source": [
    "# Run the following to render to PDF\n",
    "!jupyter nbconvert --to pdf project2.ipynb"
   ]
  }
 ],
 "metadata": {
  "kernelspec": {
   "display_name": "Python 3 (ipykernel)",
   "language": "python",
   "name": "python3"
  },
  "language_info": {
   "codemirror_mode": {
    "name": "ipython",
    "version": 3
   },
   "file_extension": ".py",
   "mimetype": "text/x-python",
   "name": "python",
   "nbconvert_exporter": "python",
   "pygments_lexer": "ipython3",
   "version": "3.12.3"
  },
  "toc": {
   "base_numbering": 1,
   "nav_menu": {},
   "number_sections": true,
   "sideBar": true,
   "skip_h1_title": false,
   "title_cell": "Table of Contents",
   "title_sidebar": "Contents",
   "toc_cell": false,
   "toc_position": {},
   "toc_section_display": true,
   "toc_window_display": false
  }
 },
 "nbformat": 4,
 "nbformat_minor": 5
}
