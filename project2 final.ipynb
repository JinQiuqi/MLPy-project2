{
 "cells": [
  {
   "cell_type": "markdown",
   "id": "8281b6f8",
   "metadata": {},
   "source": [
    "# Machine Learning in Python - Project 2\n",
    "\n",
    "Due Friday, Apr 11th by 4 pm.\n",
    "\n",
    "*Include contributors names in notebook metadata or here*"
   ]
  },
  {
   "cell_type": "markdown",
   "id": "821233d2",
   "metadata": {},
   "source": [
    "## Setup"
   ]
  },
  {
   "cell_type": "code",
   "execution_count": 48,
   "id": "7e1ba94a",
   "metadata": {},
   "outputs": [],
   "source": [
    "# Add any additional libraries or submodules below\n",
    "#import missingno as msno\n",
    "import warnings\n",
    "warnings.filterwarnings(\"ignore\", category=FutureWarning)\n",
    "from imblearn.over_sampling import SMOTE\n",
    "\n",
    "# Stats libraries\n",
    "from scipy.stats import chi2_contingency\n",
    "# Data libraries\n",
    "import pandas as pd\n",
    "import numpy as np\n",
    "\n",
    "# Plotting libraries\n",
    "import matplotlib.pyplot as plt\n",
    "import seaborn as sns\n",
    "import plotly.express as px\n",
    "import shap\n",
    "\n",
    "# Plotting defaults\n",
    "plt.rcParams['figure.figsize'] = (8,5)\n",
    "plt.rcParams['figure.dpi'] = 80\n",
    "\n",
    "# sklearn modules\n",
    "import sklearn\n",
    "from scipy.stats import randint\n",
    "from sklearn.utils import resample\n",
    "from sklearn.preprocessing import LabelEncoder, StandardScaler, OneHotEncoder, FunctionTransformer\n",
    "from sklearn.model_selection import train_test_split, GridSearchCV, cross_val_score, StratifiedKFold, cross_val_predict, cross_validate, RandomizedSearchCV\n",
    "from sklearn.pipeline import Pipeline\n",
    "from sklearn.compose import ColumnTransformer\n",
    "from sklearn.impute import SimpleImputer\n",
    "from sklearn.linear_model import LogisticRegression\n",
    "from sklearn.svm import SVC\n",
    "from sklearn.tree import DecisionTreeClassifier\n",
    "from sklearn.ensemble import RandomForestClassifier\n",
    "from sklearn.neighbors import KNeighborsClassifier\n",
    "from sklearn.feature_selection import SelectKBest, f_classif, SelectFromModel\n",
    "from sklearn.metrics import auc, accuracy_score, precision_score, recall_score, f1_score, roc_auc_score, confusion_matrix, classification_report, roc_curve, ConfusionMatrixDisplay"
   ]
  },
  {
   "cell_type": "code",
   "execution_count": null,
   "id": "62abe5f5",
   "metadata": {},
   "outputs": [
    {
     "name": "stderr",
     "output_type": "stream",
     "text": [
      "C:\\Users\\User\\AppData\\Local\\Temp\\ipykernel_476\\2405334245.py:2: DtypeWarning:\n",
      "\n",
      "Columns (26,28) have mixed types. Specify dtype option on import or set low_memory=False.\n",
      "\n"
     ]
    },
    {
     "data": {
      "text/html": [
       "<div>\n",
       "<style scoped>\n",
       "    .dataframe tbody tr th:only-of-type {\n",
       "        vertical-align: middle;\n",
       "    }\n",
       "\n",
       "    .dataframe tbody tr th {\n",
       "        vertical-align: top;\n",
       "    }\n",
       "\n",
       "    .dataframe thead th {\n",
       "        text-align: right;\n",
       "    }\n",
       "</style>\n",
       "<table border=\"1\" class=\"dataframe\">\n",
       "  <thead>\n",
       "    <tr style=\"text-align: right;\">\n",
       "      <th></th>\n",
       "      <th>fico</th>\n",
       "      <th>dt_first_pi</th>\n",
       "      <th>flag_fthb</th>\n",
       "      <th>dt_matr</th>\n",
       "      <th>cd_msa</th>\n",
       "      <th>mi_pct</th>\n",
       "      <th>cnt_units</th>\n",
       "      <th>occpy_sts</th>\n",
       "      <th>cltv</th>\n",
       "      <th>dti</th>\n",
       "      <th>...</th>\n",
       "      <th>seller_name</th>\n",
       "      <th>servicer_name</th>\n",
       "      <th>flag_sc</th>\n",
       "      <th>id_loan_rr</th>\n",
       "      <th>program_ind</th>\n",
       "      <th>rr_ind</th>\n",
       "      <th>property_val</th>\n",
       "      <th>io_ind</th>\n",
       "      <th>mi_cancel_ind</th>\n",
       "      <th>loan_status</th>\n",
       "    </tr>\n",
       "  </thead>\n",
       "  <tbody>\n",
       "    <tr>\n",
       "      <th>0</th>\n",
       "      <td>809</td>\n",
       "      <td>201705</td>\n",
       "      <td>N</td>\n",
       "      <td>204704</td>\n",
       "      <td>NaN</td>\n",
       "      <td>0</td>\n",
       "      <td>1</td>\n",
       "      <td>P</td>\n",
       "      <td>75</td>\n",
       "      <td>38</td>\n",
       "      <td>...</td>\n",
       "      <td>Other sellers</td>\n",
       "      <td>SPECIALIZED LOAN SERVICING LLC</td>\n",
       "      <td>NaN</td>\n",
       "      <td>NaN</td>\n",
       "      <td>9</td>\n",
       "      <td>NaN</td>\n",
       "      <td>2</td>\n",
       "      <td>N</td>\n",
       "      <td>7</td>\n",
       "      <td>prepaid</td>\n",
       "    </tr>\n",
       "    <tr>\n",
       "      <th>1</th>\n",
       "      <td>702</td>\n",
       "      <td>201703</td>\n",
       "      <td>N</td>\n",
       "      <td>203202</td>\n",
       "      <td>NaN</td>\n",
       "      <td>0</td>\n",
       "      <td>1</td>\n",
       "      <td>P</td>\n",
       "      <td>80</td>\n",
       "      <td>36</td>\n",
       "      <td>...</td>\n",
       "      <td>Other sellers</td>\n",
       "      <td>Other servicers</td>\n",
       "      <td>NaN</td>\n",
       "      <td>NaN</td>\n",
       "      <td>9</td>\n",
       "      <td>NaN</td>\n",
       "      <td>2</td>\n",
       "      <td>N</td>\n",
       "      <td>7</td>\n",
       "      <td>active</td>\n",
       "    </tr>\n",
       "    <tr>\n",
       "      <th>2</th>\n",
       "      <td>792</td>\n",
       "      <td>201703</td>\n",
       "      <td>N</td>\n",
       "      <td>204702</td>\n",
       "      <td>NaN</td>\n",
       "      <td>0</td>\n",
       "      <td>1</td>\n",
       "      <td>S</td>\n",
       "      <td>60</td>\n",
       "      <td>36</td>\n",
       "      <td>...</td>\n",
       "      <td>Other sellers</td>\n",
       "      <td>Other servicers</td>\n",
       "      <td>NaN</td>\n",
       "      <td>NaN</td>\n",
       "      <td>9</td>\n",
       "      <td>NaN</td>\n",
       "      <td>2</td>\n",
       "      <td>N</td>\n",
       "      <td>7</td>\n",
       "      <td>prepaid</td>\n",
       "    </tr>\n",
       "    <tr>\n",
       "      <th>3</th>\n",
       "      <td>776</td>\n",
       "      <td>201703</td>\n",
       "      <td>N</td>\n",
       "      <td>204702</td>\n",
       "      <td>NaN</td>\n",
       "      <td>0</td>\n",
       "      <td>1</td>\n",
       "      <td>S</td>\n",
       "      <td>80</td>\n",
       "      <td>18</td>\n",
       "      <td>...</td>\n",
       "      <td>Other sellers</td>\n",
       "      <td>Other servicers</td>\n",
       "      <td>NaN</td>\n",
       "      <td>NaN</td>\n",
       "      <td>9</td>\n",
       "      <td>NaN</td>\n",
       "      <td>2</td>\n",
       "      <td>N</td>\n",
       "      <td>7</td>\n",
       "      <td>prepaid</td>\n",
       "    </tr>\n",
       "    <tr>\n",
       "      <th>4</th>\n",
       "      <td>790</td>\n",
       "      <td>201703</td>\n",
       "      <td>N</td>\n",
       "      <td>204702</td>\n",
       "      <td>41620.0</td>\n",
       "      <td>0</td>\n",
       "      <td>1</td>\n",
       "      <td>I</td>\n",
       "      <td>75</td>\n",
       "      <td>42</td>\n",
       "      <td>...</td>\n",
       "      <td>Other sellers</td>\n",
       "      <td>PNC BANK, NA</td>\n",
       "      <td>NaN</td>\n",
       "      <td>NaN</td>\n",
       "      <td>9</td>\n",
       "      <td>NaN</td>\n",
       "      <td>2</td>\n",
       "      <td>N</td>\n",
       "      <td>7</td>\n",
       "      <td>active</td>\n",
       "    </tr>\n",
       "  </tbody>\n",
       "</table>\n",
       "<p>5 rows × 33 columns</p>\n",
       "</div>"
      ],
      "text/plain": [
       "   fico  dt_first_pi flag_fthb  dt_matr   cd_msa  mi_pct  cnt_units occpy_sts  \\\n",
       "0   809       201705         N   204704      NaN       0          1         P   \n",
       "1   702       201703         N   203202      NaN       0          1         P   \n",
       "2   792       201703         N   204702      NaN       0          1         S   \n",
       "3   776       201703         N   204702      NaN       0          1         S   \n",
       "4   790       201703         N   204702  41620.0       0          1         I   \n",
       "\n",
       "   cltv  dti  ...    seller_name                   servicer_name  flag_sc  \\\n",
       "0    75   38  ...  Other sellers  SPECIALIZED LOAN SERVICING LLC      NaN   \n",
       "1    80   36  ...  Other sellers                 Other servicers      NaN   \n",
       "2    60   36  ...  Other sellers                 Other servicers      NaN   \n",
       "3    80   18  ...  Other sellers                 Other servicers      NaN   \n",
       "4    75   42  ...  Other sellers                    PNC BANK, NA      NaN   \n",
       "\n",
       "  id_loan_rr program_ind rr_ind property_val io_ind  mi_cancel_ind loan_status  \n",
       "0        NaN           9    NaN            2      N              7     prepaid  \n",
       "1        NaN           9    NaN            2      N              7      active  \n",
       "2        NaN           9    NaN            2      N              7     prepaid  \n",
       "3        NaN           9    NaN            2      N              7     prepaid  \n",
       "4        NaN           9    NaN            2      N              7      active  \n",
       "\n",
       "[5 rows x 33 columns]"
      ]
     },
     "execution_count": 51,
     "metadata": {},
     "output_type": "execute_result"
    }
   ],
   "source": [
    "# Load data in easyshare.csv\n",
    "d = pd.read_csv(\"freddiemac.csv\")\n",
    "d.head()"
   ]
  },
  {
   "cell_type": "markdown",
   "id": "28603fe7",
   "metadata": {},
   "source": [
    "# Introduction"
   ]
  },
  {
   "cell_type": "markdown",
   "id": "fbf47d0f",
   "metadata": {},
   "source": [
    "In this report we will demonstrate how we developed a tuned a classification model for the Single Family Loan-Level Dataset, collected by Freddie Mac (from 2017-2020). The dataset includes 32 features ranging from Credit score to loan purpose. Additionally, we have our response variable loan_status, this describes the status of the loan whether they defaulted on the loan, paid the loan, or if the loan is still active. \n",
    "\n",
    "As part of our pre-processing, we had to deal with pseudo-NaN values. In the Dataset Details, we were told about the unique NaN values that were reassigned values (eg. `property_val` NaN values are coded as 9). We investigated which features had missing values and implemented appropriate imputation methods to maintain potential relationships, and avoids any bias generated from deleting data. \n",
    "\n",
    "Given the nature of loan defaults, the data is highly imbalanced meaning that we have significantly more prepaid or active loans than defaulted loans. From the 200,000 loans, only around 0.37% are defaulted, to combat this we implemented SMOTE oversampling into our process, allowing us to create a more robust model. \n",
    "\n",
    "Our model aims to discriminate between prepaid and defaulted mortgages and in the final section we applied the model to active loans to see loans at potential risk of defaulting. We first developed an intuitive baseline model using Logistic Regression, this formed a basis for our final model using a Random Forest Classifier. Both models used similar features to classify loans, the most important being `fico`, `cnt_borr` and `prod_type`. And we explore how these features are considered by our model using SHAP values. \n",
    "\n",
    "Finally, we will use our final model to assess active loans that could be at risk of being defaulted in the future. This risk analysis will take into account the model’s prediction as well as our observations on each loan’s main statistics."
   ]
  },
  {
   "cell_type": "markdown",
   "id": "af4bc461",
   "metadata": {},
   "source": [
    "# Exploratory Data Analysis and Feature Engineering"
   ]
  },
  {
   "cell_type": "markdown",
   "id": "508c8d79",
   "metadata": {},
   "source": [
    "**Initial Test-Train Split**\n",
    "\n",
    "We first make an initial test-train split of our data with 80% for training and 20% for testing. We also store the active loans in order to conduct some risk analysis of active loans using our model. Given the nature of loan defaults our data is extremely imbalanced, for this reason when splitting our data into test and training sets, we stratify our split to ensure both sets have an equal proportion of prepaid and defaulted loans. Doing so, both sets have a default rate of around 0.006. Later in this report we will be investigating active loans at potential risk of defaulting, so we will store these active loans in a new data set `active_loans`. "
   ]
  },
  {
   "cell_type": "code",
   "execution_count": 52,
   "id": "554f1b34",
   "metadata": {},
   "outputs": [],
   "source": [
    "# Storing active loans to use later\n",
    "active_loans = d[d['loan_status'] == 'active'].copy()\n",
    "y_active = active_loans['loan_status']     \n",
    "X_active = active_loans.drop(columns='loan_status')\n",
    "# Filter out loans that are still being repaid, keeping only prepaid and defaulted samples\n",
    "d = d[d['loan_status'] != 'active'].copy()\n",
    "# Add a new label column: default = 1, prepaid = 0\n",
    "d['default_flag'] = (d['loan_status'] == 'default').astype(int)\n",
    "# Drop the 'loan_status'\n",
    "d.drop(columns=['loan_status'], inplace=True)\n",
    "# Split the data into training and testing sets (stratified by default label)\n",
    "X = d.drop(columns=['default_flag'])\n",
    "y = d['default_flag']\n",
    "X_train, X_test, y_train, y_test = train_test_split(X, y, test_size=0.2, stratify=y, random_state=0)\n",
    "training = pd.concat([X_train, y_train], axis=1)"
   ]
  },
  {
   "cell_type": "code",
   "execution_count": 53,
   "id": "16047a57",
   "metadata": {},
   "outputs": [
    {
     "data": {
      "application/vnd.plotly.v1+json": {
       "config": {
        "plotlyServerURL": "https://plot.ly"
       },
       "data": [
        {
         "coloraxis": "coloraxis",
         "geo": "geo",
         "hovertemplate": "state_id=%{location}<br>Default Rate (%)=%{z}<extra></extra>",
         "locationmode": "USA-states",
         "locations": [
          "AK",
          "AL",
          "AR",
          "AZ",
          "CA",
          "CO",
          "DC",
          "DE",
          "FL",
          "GA",
          "GU",
          "HI",
          "IA",
          "ID",
          "IL",
          "IN",
          "KS",
          "KY",
          "LA",
          "MD",
          "MI",
          "MN",
          "MO",
          "MS",
          "MT",
          "NC",
          "ND",
          "NE",
          "NM",
          "NV",
          "NY",
          "OH",
          "OK",
          "OR",
          "PA",
          "SC",
          "SD",
          "TN",
          "TX",
          "UT",
          "VA",
          "WA",
          "WI",
          "WV",
          "WY"
         ],
         "name": "",
         "type": "choropleth",
         "z": {
          "bdata": "AAAAAAAAAAAJLmzx0PfvP1lj67kRCfI/HsIcUCin0T+0HIkw587fPwxiq5LOd9I/FrKQhSxk8T8AAAAAAAAAAMZobwbgVvA/RF2s6kvm4j8AAAAAAAAAANmJndiJneg/lcCUwJTA5D/QcFL35bHVP0GvZ0nQ6+E/dlZFqGwa6T9I1cWyoKXYPyzlrplTMuI/2zOWmABa9j/wdeUpq/TrP2TYo50SoeQ/iDDl2vf30D8Ke8KesCfkP4PzMTgfg+M/AAAAAAAAAACbpmmapmnaP5nlyM8Vs9w/dP3iToNyyT+rkPZIVJbnPzldpjhdpug/E0gl52UR7z/SrmgutqbkPziM1dbfHtg/vHP406ne4j+bB7nrZ4vlP4JjkAehNsk/Ux1iA58x3D+rKGFCsYrSP2GJcVziMeU/p6wpa8qa4j+GhBV9opjRP/hxHZmCDdM/q6qqqqqq5T8AAAAAAAAAAAAAAAAAAAAA",
          "dtype": "f8"
         }
        }
       ],
       "layout": {
        "coloraxis": {
         "colorbar": {
          "title": {
           "text": "Default Rate (%)"
          }
         },
         "colorscale": [
          [
           0,
           "rgb(255,245,240)"
          ],
          [
           0.125,
           "rgb(254,224,210)"
          ],
          [
           0.25,
           "rgb(252,187,161)"
          ],
          [
           0.375,
           "rgb(252,146,114)"
          ],
          [
           0.5,
           "rgb(251,106,74)"
          ],
          [
           0.625,
           "rgb(239,59,44)"
          ],
          [
           0.75,
           "rgb(203,24,29)"
          ],
          [
           0.875,
           "rgb(165,15,21)"
          ],
          [
           1,
           "rgb(103,0,13)"
          ]
         ]
        },
        "geo": {
         "center": {},
         "domain": {
          "x": [
           0,
           1
          ],
          "y": [
           0,
           1
          ]
         },
         "scope": "usa"
        },
        "legend": {
         "tracegroupgap": 0
        },
        "template": {
         "data": {
          "bar": [
           {
            "error_x": {
             "color": "#2a3f5f"
            },
            "error_y": {
             "color": "#2a3f5f"
            },
            "marker": {
             "line": {
              "color": "#E5ECF6",
              "width": 0.5
             },
             "pattern": {
              "fillmode": "overlay",
              "size": 10,
              "solidity": 0.2
             }
            },
            "type": "bar"
           }
          ],
          "barpolar": [
           {
            "marker": {
             "line": {
              "color": "#E5ECF6",
              "width": 0.5
             },
             "pattern": {
              "fillmode": "overlay",
              "size": 10,
              "solidity": 0.2
             }
            },
            "type": "barpolar"
           }
          ],
          "carpet": [
           {
            "aaxis": {
             "endlinecolor": "#2a3f5f",
             "gridcolor": "white",
             "linecolor": "white",
             "minorgridcolor": "white",
             "startlinecolor": "#2a3f5f"
            },
            "baxis": {
             "endlinecolor": "#2a3f5f",
             "gridcolor": "white",
             "linecolor": "white",
             "minorgridcolor": "white",
             "startlinecolor": "#2a3f5f"
            },
            "type": "carpet"
           }
          ],
          "choropleth": [
           {
            "colorbar": {
             "outlinewidth": 0,
             "ticks": ""
            },
            "type": "choropleth"
           }
          ],
          "contour": [
           {
            "colorbar": {
             "outlinewidth": 0,
             "ticks": ""
            },
            "colorscale": [
             [
              0,
              "#0d0887"
             ],
             [
              0.1111111111111111,
              "#46039f"
             ],
             [
              0.2222222222222222,
              "#7201a8"
             ],
             [
              0.3333333333333333,
              "#9c179e"
             ],
             [
              0.4444444444444444,
              "#bd3786"
             ],
             [
              0.5555555555555556,
              "#d8576b"
             ],
             [
              0.6666666666666666,
              "#ed7953"
             ],
             [
              0.7777777777777778,
              "#fb9f3a"
             ],
             [
              0.8888888888888888,
              "#fdca26"
             ],
             [
              1,
              "#f0f921"
             ]
            ],
            "type": "contour"
           }
          ],
          "contourcarpet": [
           {
            "colorbar": {
             "outlinewidth": 0,
             "ticks": ""
            },
            "type": "contourcarpet"
           }
          ],
          "heatmap": [
           {
            "colorbar": {
             "outlinewidth": 0,
             "ticks": ""
            },
            "colorscale": [
             [
              0,
              "#0d0887"
             ],
             [
              0.1111111111111111,
              "#46039f"
             ],
             [
              0.2222222222222222,
              "#7201a8"
             ],
             [
              0.3333333333333333,
              "#9c179e"
             ],
             [
              0.4444444444444444,
              "#bd3786"
             ],
             [
              0.5555555555555556,
              "#d8576b"
             ],
             [
              0.6666666666666666,
              "#ed7953"
             ],
             [
              0.7777777777777778,
              "#fb9f3a"
             ],
             [
              0.8888888888888888,
              "#fdca26"
             ],
             [
              1,
              "#f0f921"
             ]
            ],
            "type": "heatmap"
           }
          ],
          "histogram": [
           {
            "marker": {
             "pattern": {
              "fillmode": "overlay",
              "size": 10,
              "solidity": 0.2
             }
            },
            "type": "histogram"
           }
          ],
          "histogram2d": [
           {
            "colorbar": {
             "outlinewidth": 0,
             "ticks": ""
            },
            "colorscale": [
             [
              0,
              "#0d0887"
             ],
             [
              0.1111111111111111,
              "#46039f"
             ],
             [
              0.2222222222222222,
              "#7201a8"
             ],
             [
              0.3333333333333333,
              "#9c179e"
             ],
             [
              0.4444444444444444,
              "#bd3786"
             ],
             [
              0.5555555555555556,
              "#d8576b"
             ],
             [
              0.6666666666666666,
              "#ed7953"
             ],
             [
              0.7777777777777778,
              "#fb9f3a"
             ],
             [
              0.8888888888888888,
              "#fdca26"
             ],
             [
              1,
              "#f0f921"
             ]
            ],
            "type": "histogram2d"
           }
          ],
          "histogram2dcontour": [
           {
            "colorbar": {
             "outlinewidth": 0,
             "ticks": ""
            },
            "colorscale": [
             [
              0,
              "#0d0887"
             ],
             [
              0.1111111111111111,
              "#46039f"
             ],
             [
              0.2222222222222222,
              "#7201a8"
             ],
             [
              0.3333333333333333,
              "#9c179e"
             ],
             [
              0.4444444444444444,
              "#bd3786"
             ],
             [
              0.5555555555555556,
              "#d8576b"
             ],
             [
              0.6666666666666666,
              "#ed7953"
             ],
             [
              0.7777777777777778,
              "#fb9f3a"
             ],
             [
              0.8888888888888888,
              "#fdca26"
             ],
             [
              1,
              "#f0f921"
             ]
            ],
            "type": "histogram2dcontour"
           }
          ],
          "mesh3d": [
           {
            "colorbar": {
             "outlinewidth": 0,
             "ticks": ""
            },
            "type": "mesh3d"
           }
          ],
          "parcoords": [
           {
            "line": {
             "colorbar": {
              "outlinewidth": 0,
              "ticks": ""
             }
            },
            "type": "parcoords"
           }
          ],
          "pie": [
           {
            "automargin": true,
            "type": "pie"
           }
          ],
          "scatter": [
           {
            "fillpattern": {
             "fillmode": "overlay",
             "size": 10,
             "solidity": 0.2
            },
            "type": "scatter"
           }
          ],
          "scatter3d": [
           {
            "line": {
             "colorbar": {
              "outlinewidth": 0,
              "ticks": ""
             }
            },
            "marker": {
             "colorbar": {
              "outlinewidth": 0,
              "ticks": ""
             }
            },
            "type": "scatter3d"
           }
          ],
          "scattercarpet": [
           {
            "marker": {
             "colorbar": {
              "outlinewidth": 0,
              "ticks": ""
             }
            },
            "type": "scattercarpet"
           }
          ],
          "scattergeo": [
           {
            "marker": {
             "colorbar": {
              "outlinewidth": 0,
              "ticks": ""
             }
            },
            "type": "scattergeo"
           }
          ],
          "scattergl": [
           {
            "marker": {
             "colorbar": {
              "outlinewidth": 0,
              "ticks": ""
             }
            },
            "type": "scattergl"
           }
          ],
          "scattermap": [
           {
            "marker": {
             "colorbar": {
              "outlinewidth": 0,
              "ticks": ""
             }
            },
            "type": "scattermap"
           }
          ],
          "scattermapbox": [
           {
            "marker": {
             "colorbar": {
              "outlinewidth": 0,
              "ticks": ""
             }
            },
            "type": "scattermapbox"
           }
          ],
          "scatterpolar": [
           {
            "marker": {
             "colorbar": {
              "outlinewidth": 0,
              "ticks": ""
             }
            },
            "type": "scatterpolar"
           }
          ],
          "scatterpolargl": [
           {
            "marker": {
             "colorbar": {
              "outlinewidth": 0,
              "ticks": ""
             }
            },
            "type": "scatterpolargl"
           }
          ],
          "scatterternary": [
           {
            "marker": {
             "colorbar": {
              "outlinewidth": 0,
              "ticks": ""
             }
            },
            "type": "scatterternary"
           }
          ],
          "surface": [
           {
            "colorbar": {
             "outlinewidth": 0,
             "ticks": ""
            },
            "colorscale": [
             [
              0,
              "#0d0887"
             ],
             [
              0.1111111111111111,
              "#46039f"
             ],
             [
              0.2222222222222222,
              "#7201a8"
             ],
             [
              0.3333333333333333,
              "#9c179e"
             ],
             [
              0.4444444444444444,
              "#bd3786"
             ],
             [
              0.5555555555555556,
              "#d8576b"
             ],
             [
              0.6666666666666666,
              "#ed7953"
             ],
             [
              0.7777777777777778,
              "#fb9f3a"
             ],
             [
              0.8888888888888888,
              "#fdca26"
             ],
             [
              1,
              "#f0f921"
             ]
            ],
            "type": "surface"
           }
          ],
          "table": [
           {
            "cells": {
             "fill": {
              "color": "#EBF0F8"
             },
             "line": {
              "color": "white"
             }
            },
            "header": {
             "fill": {
              "color": "#C8D4E3"
             },
             "line": {
              "color": "white"
             }
            },
            "type": "table"
           }
          ]
         },
         "layout": {
          "annotationdefaults": {
           "arrowcolor": "#2a3f5f",
           "arrowhead": 0,
           "arrowwidth": 1
          },
          "autotypenumbers": "strict",
          "coloraxis": {
           "colorbar": {
            "outlinewidth": 0,
            "ticks": ""
           }
          },
          "colorscale": {
           "diverging": [
            [
             0,
             "#8e0152"
            ],
            [
             0.1,
             "#c51b7d"
            ],
            [
             0.2,
             "#de77ae"
            ],
            [
             0.3,
             "#f1b6da"
            ],
            [
             0.4,
             "#fde0ef"
            ],
            [
             0.5,
             "#f7f7f7"
            ],
            [
             0.6,
             "#e6f5d0"
            ],
            [
             0.7,
             "#b8e186"
            ],
            [
             0.8,
             "#7fbc41"
            ],
            [
             0.9,
             "#4d9221"
            ],
            [
             1,
             "#276419"
            ]
           ],
           "sequential": [
            [
             0,
             "#0d0887"
            ],
            [
             0.1111111111111111,
             "#46039f"
            ],
            [
             0.2222222222222222,
             "#7201a8"
            ],
            [
             0.3333333333333333,
             "#9c179e"
            ],
            [
             0.4444444444444444,
             "#bd3786"
            ],
            [
             0.5555555555555556,
             "#d8576b"
            ],
            [
             0.6666666666666666,
             "#ed7953"
            ],
            [
             0.7777777777777778,
             "#fb9f3a"
            ],
            [
             0.8888888888888888,
             "#fdca26"
            ],
            [
             1,
             "#f0f921"
            ]
           ],
           "sequentialminus": [
            [
             0,
             "#0d0887"
            ],
            [
             0.1111111111111111,
             "#46039f"
            ],
            [
             0.2222222222222222,
             "#7201a8"
            ],
            [
             0.3333333333333333,
             "#9c179e"
            ],
            [
             0.4444444444444444,
             "#bd3786"
            ],
            [
             0.5555555555555556,
             "#d8576b"
            ],
            [
             0.6666666666666666,
             "#ed7953"
            ],
            [
             0.7777777777777778,
             "#fb9f3a"
            ],
            [
             0.8888888888888888,
             "#fdca26"
            ],
            [
             1,
             "#f0f921"
            ]
           ]
          },
          "colorway": [
           "#636efa",
           "#EF553B",
           "#00cc96",
           "#ab63fa",
           "#FFA15A",
           "#19d3f3",
           "#FF6692",
           "#B6E880",
           "#FF97FF",
           "#FECB52"
          ],
          "font": {
           "color": "#2a3f5f"
          },
          "geo": {
           "bgcolor": "white",
           "lakecolor": "white",
           "landcolor": "#E5ECF6",
           "showlakes": true,
           "showland": true,
           "subunitcolor": "white"
          },
          "hoverlabel": {
           "align": "left"
          },
          "hovermode": "closest",
          "mapbox": {
           "style": "light"
          },
          "paper_bgcolor": "white",
          "plot_bgcolor": "#E5ECF6",
          "polar": {
           "angularaxis": {
            "gridcolor": "white",
            "linecolor": "white",
            "ticks": ""
           },
           "bgcolor": "#E5ECF6",
           "radialaxis": {
            "gridcolor": "white",
            "linecolor": "white",
            "ticks": ""
           }
          },
          "scene": {
           "xaxis": {
            "backgroundcolor": "#E5ECF6",
            "gridcolor": "white",
            "gridwidth": 2,
            "linecolor": "white",
            "showbackground": true,
            "ticks": "",
            "zerolinecolor": "white"
           },
           "yaxis": {
            "backgroundcolor": "#E5ECF6",
            "gridcolor": "white",
            "gridwidth": 2,
            "linecolor": "white",
            "showbackground": true,
            "ticks": "",
            "zerolinecolor": "white"
           },
           "zaxis": {
            "backgroundcolor": "#E5ECF6",
            "gridcolor": "white",
            "gridwidth": 2,
            "linecolor": "white",
            "showbackground": true,
            "ticks": "",
            "zerolinecolor": "white"
           }
          },
          "shapedefaults": {
           "line": {
            "color": "#2a3f5f"
           }
          },
          "ternary": {
           "aaxis": {
            "gridcolor": "white",
            "linecolor": "white",
            "ticks": ""
           },
           "baxis": {
            "gridcolor": "white",
            "linecolor": "white",
            "ticks": ""
           },
           "bgcolor": "#E5ECF6",
           "caxis": {
            "gridcolor": "white",
            "linecolor": "white",
            "ticks": ""
           }
          },
          "title": {
           "x": 0.05
          },
          "xaxis": {
           "automargin": true,
           "gridcolor": "white",
           "linecolor": "white",
           "ticks": "",
           "title": {
            "standoff": 15
           },
           "zerolinecolor": "white",
           "zerolinewidth": 2
          },
          "yaxis": {
           "automargin": true,
           "gridcolor": "white",
           "linecolor": "white",
           "ticks": "",
           "title": {
            "standoff": 15
           },
           "zerolinecolor": "white",
           "zerolinewidth": 2
          }
         }
        },
        "title": {
         "text": "Percentage of Defaulted Mortgages by State"
        }
       }
      }
     },
     "metadata": {},
     "output_type": "display_data"
    }
   ],
   "source": [
    "# Load the zip code mapping file\n",
    "zip_df = pd.read_excel(\"uszips.xlsx\")\n",
    "# Convert to string\n",
    "zip_df[\"zipcode\"] = zip_df[\"zip\"].astype(str).str.zfill(5)\n",
    "# Extract first three digits from padded zip code\n",
    "zip_df[\"zip_prefix\"] = zip_df[\"zipcode\"].str[:3]\n",
    "# Drop duplicates so that each three-digit prefix maps uniquely to a state.\n",
    "zip_mapping_df = zip_df.drop_duplicates(subset=[\"zip_prefix\"])[[\"zip_prefix\", \"state_id\"]]\n",
    "def transform_default_zip(zip_code):\n",
    "    \"\"\"\n",
    "    Transform the zip code to a three-digit prefix.\n",
    "    \"\"\"\n",
    "    zip_code = str(zip_code)\n",
    "    # Remove trailing \"00\" if present\n",
    "    if zip_code.endswith(\"00\"):\n",
    "        zip_code = zip_code[:-2]\n",
    "    # Return the first three characters if available\n",
    "    return zip_code[:3] if len(zip_code) >= 3 else zip_code\n",
    "\n",
    "df = training.copy()\n",
    "\n",
    "# Ensure the zipcode column is a string and apply the transformation to create a three-digit prefix\n",
    "df[\"zipcode\"] = df[\"zipcode\"].astype(str)\n",
    "df[\"zip_prefix\"] = df[\"zipcode\"].apply(transform_default_zip)\n",
    "\n",
    "# Merge the zip code mapping with the training data\n",
    "df = df.merge(zip_mapping_df, on=\"zip_prefix\", how=\"left\")\n",
    "\n",
    "# Calculate percentage of defaulted loans by state\n",
    "state_summary = df.groupby(\"state_id\", as_index=False).agg(\n",
    "    total_defaults=('default_flag', 'sum'),  # Total defaults\n",
    "    total_count=('default_flag', 'count')   # Total records\n",
    ")\n",
    "state_summary[\"default_rate\"] = (state_summary[\"total_defaults\"] / state_summary[\"total_count\"]) * 100\n",
    "\n",
    "# Using Plotly Express to create a choropleth map\n",
    "fig = px.choropleth(\n",
    "    state_summary,\n",
    "    locations=\"state_id\",              # Column with state abbreviations in uszips.xlsx\n",
    "    locationmode=\"USA-states\",         \n",
    "    color=\"default_rate\",\n",
    "    scope=\"usa\",\n",
    "    color_continuous_scale=\"Reds\",\n",
    "    labels={\"default_rate\": \"Default Rate (%)\"},\n",
    "    title=\"Percentage of Defaulted Mortgages by State\"\n",
    "    )\n",
    "fig.show()"
   ]
  },
  {
   "cell_type": "markdown",
   "id": "fdba00e8",
   "metadata": {},
   "source": [
    "Investigating the default rates across the states, we see that we have ranges between 0 and around 1.4%. In A Spatio-Temporal Machine Learning Model for Mortgage Credit Risk: Default Probabilities and Loan Portfolios, Kundig et al. uses the longitude and latitude of the first three digits of the loan’s zip code [2]. This allows them to use special data over 20 years to make a classifier model to account for long term fluctuations in the market for each region. Given our data is from 2017-2020, long term changes in the market won’t be as prevalent. Differences in default rates between states can be observed, suggesting this is an important factor to consider when classifying loans. These observed differences could be a result of the micro economy of states. We find Louisiana to have the highest default rate in our data, this could be a result of two devastating storms (hurricane Laura and Zeta) in 2020 on top of the Covid-19 pandemic."
   ]
  },
  {
   "cell_type": "markdown",
   "id": "a8b882a1",
   "metadata": {},
   "source": [
    "**Add new features**"
   ]
  },
  {
   "cell_type": "code",
   "execution_count": 40,
   "id": "16639fd5",
   "metadata": {},
   "outputs": [],
   "source": [
    "# Add a new feature 'is_harp_loan' to indicate if a loan is a HARP l\n",
    "d['is_harp_loan'] = ((d['rr_ind'] == 'Y') & (d['ltv'] > 80)).astype('object')\n",
    "\n",
    "# Add a new feature 'msa' to indicate if loan is in MSA or MD\n",
    "d['msa'] = d['cd_msa'].notnull().astype('object')\n",
    "\n",
    "# Add a new feature 'Nat_A' to indicate where the loan belong\n",
    "d['zipcode'] = d['zipcode'].astype(str)\n",
    "\n",
    "# Add a new feature for the national area code\n",
    "d['Nat_A'] = d['zipcode'].apply(lambda x: '0' if len(x) < 5 else x[0]).astype('object')"
   ]
  },
  {
   "cell_type": "markdown",
   "id": "3f03425b",
   "metadata": {},
   "source": [
    "In the dataset description harp loans were mentioned, these are loans which are both a Relief Refinance and have an Original Loan-to-Value ratio over 80. Adding this additional feature will aim to reduce the false negatives (classifying as default when actually prepaid) in our model. We found that current literature on mortgage loan classifiers prefer to use whether a loan is from a Metropolitan Statistical Area (MSA)/ Metropolitan Division (MD) or not. For this reason, we converted the MSA/ MD codes `cd_msa` to a binary variable `msa`. Finally, using findings in our EDA and from current literature, we found that region plays a role in default rates. To avoid overfitting, we used the national code from the zip code (the first digit) as an indicator of the loan’s location."
   ]
  },
  {
   "cell_type": "markdown",
   "id": "3bf787c1",
   "metadata": {},
   "source": [
    "**Removeing irrelevant features**:\n",
    "\n",
    "Whilst conducting our EDA we found some features were not contributing any significance to our research. Some features are the same value for all loans and for this reason we removed them from our working data set. Additionally, to avoid multicollinearity and relationships with the new features we added, we removed the old features. Finally, the `servicer_name` and `seller_name` have been found to be not significant for this classification model. For this reason, they were also dropped from the data set helping reduce the number of features we are working with.\n",
    "\n",
    "`id_loan`: change to index\n",
    "\n",
    "`prod_type`: constantly \"FRM\" throughout the dataset and shows no variation, drop\n",
    "\n",
    "`ppmt_pnlty`: consistently \"N\", no information gain, drop\n",
    "\n",
    "`io_ind`: consistently \"N\", no information gain, drop\n",
    "\n",
    "`dt_matr`: can be derived from the `dt_first_pi` and `orig_loan_term` and are of limited predictive value, drop (explain why keep `dt_first_pi`)\n",
    "\n",
    "`id_loan_rr`and `rr_ind`: relate to loan refinancing/ have multicollinearity, drop\n",
    "\n",
    "`servicer_name` and `seller_name`: drop, (by references)\n",
    "\n",
    "`cd_msa` and `zipcode`: create the new features which summary these features (by references)"
   ]
  },
  {
   "cell_type": "code",
   "execution_count": 41,
   "id": "0c45a6e9",
   "metadata": {},
   "outputs": [],
   "source": [
    "# Replace Index with id_loan\n",
    "d = d.set_index('id_loan')\n",
    "\n",
    "# Remove irrelevant features\n",
    "drop_cols = ['prod_type', 'ppmt_pnlty', 'io_ind', 'id_loan_rr','rr_ind','dt_matr','cd_msa','zipcode', 'seller_name','servicer_name']\n",
    "d.drop(columns=[c for c in drop_cols if c in d.columns], inplace=True)"
   ]
  },
  {
   "cell_type": "markdown",
   "id": "5f0d01af",
   "metadata": {},
   "source": [
    "**Handling NaN Values and Pseudo-NaN Values**:\n",
    "\n",
    "As mentioned in the introduction, we were told of pseudo-NaN values coded into our data set. To ensure we handle these correctly we implemented the following conversion. This allows us to appropriately conduct the EDA and address missingness in our features. \n",
    "\n",
    "Numerical:\n",
    "\n",
    "`fico`: typically ranges from 300 to 850, but a value of 9999 indicates not available\n",
    "\n",
    "`mi_pct`, `cltv`, `dti` and `ltv`: a value of 999 indicates not available\n",
    "\n",
    "`property_val`: a value of 9 indicates not available\n",
    "\n",
    "Categorical:\n",
    "\n",
    "`flag_sc`: 'NaN' indicates NaN\n",
    "\n",
    "`program_ind`: '9' indicates NaN\n",
    "\n",
    "`mi_cancel_ind`:  '7' and '9' indicate NaN"
   ]
  },
  {
   "cell_type": "code",
   "execution_count": 42,
   "id": "41cf9ff9",
   "metadata": {},
   "outputs": [],
   "source": [
    "# Replace pseudo-missing numeric codes with NaN\n",
    "d.replace({'fico': {9999: np.nan}, 'mi_pct': {999: np.nan}, 'cltv': {999: np.nan}, 'dti': {999: np.nan},\n",
    "           'ltv': {999: np.nan}, 'cnt_units': {99: np.nan}, 'property_val': {9: 'N'}}, inplace=True)\n",
    "# Replace categorical pseudo-missing codes with consistent label\n",
    "d['flag_sc'] = d['flag_sc'].fillna('N')\n",
    "d['program_ind'] = d['program_ind'].replace('9', np.nan)\n",
    "d['program_ind'] = d['program_ind'].fillna('N')\n",
    "d['mi_cancel_ind'] = d['mi_cancel_ind'].replace('7', np.nan)\n",
    "d['mi_cancel_ind'] = d['mi_cancel_ind'].fillna('N')\n",
    "# Convert dt_first_pi, cnt_units, cnt_borr, property_val column to object class since it is categorical\n",
    "d['dt_first_pi'] = d['dt_first_pi'].rank(method='dense').astype('object')\n",
    "d['property_val'] = d['property_val'].astype('object')\n",
    "d['cnt_borr'] = d['cnt_borr'].apply(lambda x: 'single' if x == 1 else 'multiple')"
   ]
  },
  {
   "cell_type": "markdown",
   "id": "e270b84e",
   "metadata": {},
   "source": [
    "To handle pseudo-NaN values, we apply different strategies based on variable type. For numerical features, special codes such as 999 or 9999 are replaced with NaN, since these values do not carry valid quantitative meaning and should be treated as true missing data. This allows for appropriate downstream handling, such as imputation or row exclusion, and prevents misleading the model with extreme or invalid values.\n",
    "\n",
    "In contrast, for categorical features, pseudo-NaN codes like '9' or '7' are replaced with a consistent label 'N', representing “Not Available.” This preserves the categorical structure of the data while allowing the model to treat missingness as a distinct, learnable category."
   ]
  },
  {
   "cell_type": "code",
   "execution_count": 43,
   "id": "1a91fe7f",
   "metadata": {},
   "outputs": [
    {
     "name": "stdout",
     "output_type": "stream",
     "text": [
      "Training set size: (101364, 24) Default rate: 0.0058896649698117675\n",
      "Test set size: (25341, 24) Default rate: 0.0058797995343514466\n"
     ]
    }
   ],
   "source": [
    "# Split the data into training and testing sets (stratified by default label)\n",
    "X = d.drop(columns=['default_flag'])\n",
    "y = d['default_flag']\n",
    "X_train, X_test, y_train, y_test = train_test_split(X, y, test_size=0.2, stratify=y, random_state=0)\n",
    "training = pd.concat([X_train, y_train], axis=1)\n",
    "\n",
    "print(\"Training set size:\", X_train.shape, \"Default rate:\", y_train.mean())\n",
    "print(\"Test set size:\", X_test.shape, \"Default rate:\", y_test.mean())"
   ]
  },
  {
   "cell_type": "markdown",
   "id": "699a58ce",
   "metadata": {},
   "source": [
    "Given we have adjusted the features and corrected missing data, we will reconstruct our test-train spit using the same stratified method as before."
   ]
  },
  {
   "cell_type": "code",
   "execution_count": 44,
   "id": "e05830e0",
   "metadata": {},
   "outputs": [
    {
     "name": "stdout",
     "output_type": "stream",
     "text": [
      "['dt_first_pi', 'flag_fthb', 'occpy_sts', 'channel', 'st', 'prop_type', 'loan_purpose', 'cnt_borr', 'flag_sc', 'program_ind', 'property_val', 'mi_cancel_ind', 'is_harp_loan', 'msa', 'Nat_A']\n",
      "['fico', 'mi_pct', 'cnt_units', 'cltv', 'dti', 'orig_upb', 'ltv', 'int_rt', 'orig_loan_term']\n"
     ]
    }
   ],
   "source": [
    "# Create a list of categorical columns\n",
    "categorical_features = d.select_dtypes(include=['object']).columns.tolist()\n",
    "print(categorical_features)\n",
    "\n",
    "# Create a list of numerical columns\n",
    "numerical_features = d.select_dtypes(include=['int64', 'float64']).columns.tolist()\n",
    "print(numerical_features)"
   ]
  },
  {
   "cell_type": "markdown",
   "id": "ed992b3a",
   "metadata": {},
   "source": [
    "Above we have provided a list of the features we will be using for the rest of our analysis; to reduce overfitting it is important to remove unnecessary features. We will be addressing this in our feature selection phase but before then we will conduct some exploratory data analysis to gain some basic insights into our data."
   ]
  },
  {
   "cell_type": "code",
   "execution_count": 45,
   "id": "ce7cec36",
   "metadata": {},
   "outputs": [
    {
     "data": {
      "image/png": "[encoded data removed]",
      "text/plain": [
       "<Figure size 640x400 with 1 Axes>"
      ]
     },
     "metadata": {},
     "output_type": "display_data"
    }
   ],
   "source": [
    "# Filter the data into two groups: defaulted and prepaid\n",
    "defaulted_loans = training[training['default_flag'] == 1]['fico']\n",
    "prepaid_loans = training[training['default_flag'] == 0]['fico']\n",
    "# Plot the distributions using KDE (Kernel Density Estimate)\n",
    "sns.kdeplot(defaulted_loans, label='Defaulted Loans', color='red', fill=True, alpha=0.5, common_norm=False)\n",
    "sns.kdeplot(prepaid_loans, label='Prepaid Loans', color='blue', fill=True, alpha=0.5, common_norm=False)\n",
    "# Add labels and title\n",
    "plt.title('FICO Score Distribution by Loan Status')\n",
    "plt.xlabel('FICO Score')\n",
    "plt.ylabel('Density')\n",
    "plt.legend(title='Loan Status', fontsize=10)\n",
    "plt.show()"
   ]
  },
  {
   "cell_type": "markdown",
   "id": "d1e0c5c9",
   "metadata": {},
   "source": [
    "Above we have the distribution of credit scores, coloured by whether they are prepaid or defaulted. We find the prepaid loans have a negative skew, this can partially be explained by the way `fico` is coded, as credit score above 850 are shown as not available. For defaulted loans, we see a more normal distribution around 700, this is noticeably lower than the mean for prepaid loans. This aligns with current literature, as a majority of studies use credit score in their classification model [1, 2, 3]. Above we have the distribution of credit scores, coloured by whether they are prepaid or defaulted. We find the prepaid loans have a negative skew, this can partially be explained by the way `fico` is coded, as credit score above 850 are shown as not available. For defaulted loans, we see a more normal distribution around 700, this is noticeably lower than the mean for prepaid loans. This aligns with current literature, as a majority of studies use credit score in their classification model [1, 2, 3]. "
   ]
  },
  {
   "cell_type": "code",
   "execution_count": 46,
   "id": "b1d8de31",
   "metadata": {},
   "outputs": [
    {
     "data": {
      "text/plain": [
       "Text(0, 0.5, 'DTI')"
      ]
     },
     "execution_count": 46,
     "metadata": {},
     "output_type": "execute_result"
    },
    {
     "data": {
      "image/png": "[encoded data removed]",
      "text/plain": [
       "<Figure size 640x400 with 1 Axes>"
      ]
     },
     "metadata": {},
     "output_type": "display_data"
    }
   ],
   "source": [
    "sns.boxplot(x='default_flag', y='dti', data=d, palette={'0': 'blue', '1': 'red'})\n",
    "plt.xticks([0, 1], ['Prepaid', 'Default'])\n",
    "plt.title('DTI by Loan Status')\n",
    "plt.xlabel('Loan Status')\n",
    "plt.ylabel('DTI')"
   ]
  },
  {
   "cell_type": "markdown",
   "id": "883eddd0",
   "metadata": {},
   "source": [
    "Another commonly used feature in loan classification is the Debt-to-Income ratio, investigating how `dti` differs between prepaid and defaulted loans, we see that the mean `dti` of defaulted loans is around 5 more than prepaid loans, Additionally, only outliers from defaulted loans have a `dti` lower than 15. This intuitively makes sense, given if an individual has a high debt-to-income ratio, they will have to use their income to pay for other loans putting more risk of defaulting on their mortgage. "
   ]
  },
  {
   "cell_type": "code",
   "execution_count": 50,
   "id": "fb470fc9",
   "metadata": {},
   "outputs": [
    {
     "name": "stdout",
     "output_type": "stream",
     "text": [
      "P-value: 0.0000\n"
     ]
    }
   ],
   "source": [
    "# Filter data for 'prepaid' and 'default' loan statuses\n",
    "filtered_data = training[training['default_flag'].isin([0, 1])]\n",
    "# Group by 'msa' and 'default_flag' to create a contingency table\n",
    "msa_loan_status = filtered_data.groupby(['msa', 'default_flag']).size().unstack(fill_value=0)\n",
    "# Perform a chi-square test of independence\n",
    "chi2, p, dof, expected = chi2_contingency(msa_loan_status)\n",
    "print(f\"P-value: {p:.4f}\")"
   ]
  },
  {
   "cell_type": "markdown",
   "id": "768a1605",
   "metadata": {},
   "source": [
    "The above code conducts a Chi-squared test on the relationship between `msa` and the loans status. We find the `msa` is statistically significant with a p-value less than 0.01. What this doesn’t tell us is how `msa` interacts with the loan’s status, loans from an MSA will have a higher and usually denser population, this could both improve individual’s income however it could be a sign of high living costs, increasing the risk of individuals defaulting on their mortgage.   "
   ]
  },
  {
   "cell_type": "markdown",
   "id": "50f78c53",
   "metadata": {},
   "source": [
    "**Missing data check**"
   ]
  },
  {
   "cell_type": "code",
   "execution_count": 38,
   "id": "0ed093b7",
   "metadata": {},
   "outputs": [
    {
     "name": "stdout",
     "output_type": "stream",
     "text": [
      "fico    0.019731\n",
      "cltv    0.000987\n",
      "dti     1.019099\n",
      "ltv     0.000987\n",
      "dtype: float64\n"
     ]
    }
   ],
   "source": [
    "numerical_features = [col for col in numerical_features if col in X_train.columns]\n",
    "missing_counts = X_train[numerical_features].isnull().sum()\n",
    "missing_percent = (missing_counts / len(X_train)) * 100\n",
    "print(missing_percent[missing_percent > 0])"
   ]
  },
  {
   "cell_type": "markdown",
   "id": "f648db15",
   "metadata": {},
   "source": []
  },
  {
   "cell_type": "code",
   "execution_count": 39,
   "id": "614fed02",
   "metadata": {},
   "outputs": [
    {
     "data": {
      "image/png": "[encoded data removed]",
      "text/plain": [
       "<Figure size 1200x320 with 4 Axes>"
      ]
     },
     "metadata": {},
     "output_type": "display_data"
    }
   ],
   "source": [
    "# Select numeric columns\n",
    "numeric_missing = ['fico', 'cltv', 'dti', 'ltv']\n",
    "# Create subplots\n",
    "fig, axes = plt.subplots(1, 4, figsize=(15, 4)) \n",
    "for i, col in enumerate(numeric_missing):\n",
    "    sns.histplot(X_train[col], bins=30, kde=True, ax=axes[i])\n",
    "    axes[i].set_title(f\"'{col}' Distribution\")\n",
    "    axes[i].set_xlabel(col)\n",
    "    axes[i].set_ylabel(\"Frequency\")\n",
    "plt.tight_layout()\n",
    "plt.show()"
   ]
  },
  {
   "cell_type": "markdown",
   "id": "a4e0cea0",
   "metadata": {},
   "source": [
    "Given all four of the numerical features with missing values are skewed, we will implement median imputation in our preprocessing pipeline to best replace these missing values. "
   ]
  },
  {
   "cell_type": "markdown",
   "id": "6ba4131b",
   "metadata": {},
   "source": [
    "**Investigating Relationships**"
   ]
  },
  {
   "cell_type": "code",
   "execution_count": 40,
   "id": "226b5ffd",
   "metadata": {},
   "outputs": [
    {
     "data": {
      "text/plain": [
       "<Axes: >"
      ]
     },
     "execution_count": 40,
     "metadata": {},
     "output_type": "execute_result"
    },
    {
     "data": {
      "image/png": "[encoded data removed]",
      "text/plain": [
       "<Figure size 640x400 with 2 Axes>"
      ]
     },
     "metadata": {},
     "output_type": "display_data"
    }
   ],
   "source": [
    "corr_matrix = pd.concat([X_train, y_train], axis=1).corr(numeric_only=True)\n",
    "target_corr = corr_matrix[['default_flag']].drop('default_flag').sort_values(by='default_flag', key=abs, ascending=False)\n",
    "sns.heatmap(target_corr, annot=True, cmap='coolwarm')"
   ]
  },
  {
   "cell_type": "markdown",
   "id": "dd29410d",
   "metadata": {},
   "source": [
    "The correlation heatmap shows that all numerical features have very weak linear relationships with the target variable default_flag. This is likely due to the highly imbalanced nature of the dataset, where the proportion of default cases is extremely low. In such settings, traditional correlation metrics tend to understate the predictive value of features, as the minority class is underrepresented in the statistical estimation. To address this, we apply SMOTE (Synthetic Minority Over-sampling Technique) to rebalance the dataset by generating synthetic default samples. This improves the model’s ability to learn patterns associated with the rare class and enhances performance on imbalanced classification tasks."
   ]
  },
  {
   "cell_type": "markdown",
   "id": "eb7c61b0",
   "metadata": {},
   "source": [
    "**3.5 Data Transformations**\n",
    "\n",
    "Later in this report we will be applying a range of models to best classify loans. To ensure the data is suitable for all the models, it is essential that we standardise our numerical features. This gives us the best chance to remove any bias in the scale of features. We implement this into our pipeline through our preprocessing pipelines. "
   ]
  },
  {
   "cell_type": "markdown",
   "id": "2109e419",
   "metadata": {},
   "source": [
    "**3.6 Feature Engineering**\n",
    "\n",
    "In order to appropriately consider our categorical features in our model, we implement one-hot-encoding. This allows us to model for individual categories within a feature. One major downside to this approach is that it dramatically increases our feature space. To ensure this doesn’t become an issue later, we will conduct tests in order to select only important features. Similar to “Investigating bankruptcy prediction models in the presence of extreme class imbalance and multiple stages of economy” [2], we will be using Random Forest to determine the importance of features. This has its drawbacks as a more considerate method could be implemented to obtain better results."
   ]
  },
  {
   "cell_type": "markdown",
   "id": "7bc9fe39",
   "metadata": {},
   "source": [
    "# Model Fitting and Tuning\n",
    "**4.1 Pipeline and Oversampling**"
   ]
  },
  {
   "cell_type": "code",
   "execution_count": 42,
   "id": "0c3ff40d",
   "metadata": {},
   "outputs": [],
   "source": [
    "# Create lists for imputation types (specific columns to impute with the median)\n",
    "median_impute = ['fico', 'cltv', 'dti', 'ltv', 'mi_pct']\n",
    "# Numerical imputer pipeline: \n",
    "numerical_transformer = Pipeline([\n",
    "    ('impute', ColumnTransformer([\n",
    "    (\"median_impute\", SimpleImputer(strategy='median'), median_impute)\n",
    "], remainder='passthrough')),\n",
    "    ('scaler', StandardScaler())])\n",
    "# Categorical transformer pipeline:\n",
    "categorical_transformer = Pipeline([\n",
    "    ('to_str', FunctionTransformer(lambda x: x.astype(str))),\n",
    "    ('onehot', OneHotEncoder(handle_unknown='ignore'))])\n",
    "# Column transformer: \n",
    "preprocessor = ColumnTransformer([\n",
    "    ('num', numerical_transformer, numerical_features),\n",
    "    ('cat', categorical_transformer, categorical_features)])\n",
    "# Fit the preprocessor on the training data and transform the training set.\n",
    "X_train_enc = preprocessor.fit_transform(X_train)\n",
    "# Transform the test set and any other active data.\n",
    "X_test_enc = preprocessor.transform(X_test)\n",
    "X_active_enc = preprocessor.transform(X_active)"
   ]
  },
  {
   "cell_type": "markdown",
   "id": "203c27fa",
   "metadata": {},
   "source": [
    "After encoding, the dimensionality of the training feature matrix increases significantly from 24 to 158 due to the one-hot encoding of categorical variables. The pipeline ensures that the same transformations are consistently applied to both the training and testing data.\n",
    "\n",
    "Before training the model, it is necessary to address the issue of an underrepresented number of default samples. We applied the SMOTE algorithm to oversample the positive class in the training set, increasing the number of default samples to be comparable to the prepaid samples, thereby balancing the training data."
   ]
  },
  {
   "cell_type": "code",
   "execution_count": 43,
   "id": "8eb3d177",
   "metadata": {},
   "outputs": [],
   "source": [
    "# Apply SMOTE to oversample the training set\n",
    "smote = SMOTE(random_state=0)\n",
    "X_train_res, y_train_res = smote.fit_resample(X_train_enc, y_train)"
   ]
  },
  {
   "cell_type": "markdown",
   "id": "b04c5713",
   "metadata": {},
   "source": [
    "After oversampling, the number of training samples increases significantly, with default and prepaid cases each accounting for 50%. This balanced distribution provides the model with sufficient default cases to learn from, helping to alleviate the issue of the model being biased toward predicting the majority class.\n",
    "\n",
    "After applying one-hot encoding, we observed that the number of feature variables increased from 24 to 158, which posed significant challenges for subsequent modeling. To address this, through reference, we employed a two-step feature selection method. First, we used the Filter method (SelectKBest) to select the top 50 features most relevant to the target variable, evaluating their importance based on the ANOVA F-value. Second, we applied the Random Forest method to further refine the features, selecting those with an importance score higher than the median in the Random Forest model. This process resulted in retaining the most important features, including `fico`, `mi_pct`, `cnt_units`, `cltv`, `dti`, `ltv`, `int_rt`, `dt_first_pi_11.0`, `flag_fthb_N`, `flag_fthb_Y`, `channel_R`, `st_FL`, `prop_type_PU`, `prop_type_SF`, `loan_purpose_C`, `cnt_borr_multiple`, `cnt_borr_single`, `property_val_1`, `property_val_3`, `msa_False`, `Nat_A_0`, `Nat_A_2`, `Nat_A_3`, `Nat_A_5`, `Nat_A_8`, thereby reducing the feature dimensionality and improving the efficiency of model training."
   ]
  },
  {
   "cell_type": "code",
   "execution_count": 44,
   "id": "6d782dea",
   "metadata": {},
   "outputs": [],
   "source": [
    "# Step1: Filter-based feature selection\n",
    "filter_selector = SelectKBest(score_func=f_classif, k=50)\n",
    "filter_selector.fit(X_train_res, y_train_res)\n",
    "X_train_res_filter = filter_selector.transform(X_train_res)\n",
    "# Step2: Random Forest feature selection\n",
    "rf = RandomForestClassifier(n_estimators=100, random_state=0)\n",
    "rf.fit(X_train_res_filter, y_train_res)\n",
    "model_selector = SelectFromModel(rf, prefit=True, threshold=\"median\")\n",
    "X_train_final = model_selector.transform(X_train_res_filter)"
   ]
  },
  {
   "cell_type": "code",
   "execution_count": 48,
   "id": "2698e4a6-6d0b-49f2-8e6d-1a20822bab97",
   "metadata": {},
   "outputs": [],
   "source": [
    "# Define numeric features and get one-hot encoded categorical feature names\n",
    "numeric_features = numerical_features\n",
    "onehot = preprocessor.named_transformers_['cat'].named_steps['onehot']\n",
    "categorical_feature_names = onehot.get_feature_names_out(categorical_features)\n",
    "feature_names_encoded = np.concatenate([numeric_features, categorical_feature_names])\n",
    "filter_support = filter_selector.get_support(indices=True) # Step1 selection\n",
    "rf_support = model_selector.get_support(indices=True) # Step2 selection based on Step1\n",
    "final_feature_indices = filter_support[rf_support]\n",
    "final_feature_names = feature_names_encoded[final_feature_indices] # Final feature selection\n",
    "X_test_final = X_test_enc[:, final_feature_indices]\n",
    "X_active_final = X_active_enc[:, final_feature_indices]"
   ]
  },
  {
   "cell_type": "markdown",
   "id": "45b9ca96",
   "metadata": {},
   "source": [
    "**4.2 Baseline Model: Logistic Model**\n",
    "\n",
    "We selected Logistic Regression as the baseline model and evaluated its performance using 5-fold cross-validation. The model handles the class imbalance issue by using class_weight='balanced' and sets the maximum number of iterations to 1000 to ensure adequate training. The evaluation results show that the model achieves an accuracy of 0.715, precision of 0.709, recall of 0.730, F1 score of 0.719, and AUC of 0.782, indicating a balanced performance in distinguishing between prepaid and defaulted loans. However, by examining the confusion matrix, we observed a relatively high number of false positives (FP), suggesting that Logistic Regression may not handle the prediction task between the two classes effectively. Nevertheless, this model serves as a reference for the selection and performance improvement of subsequent models."
   ]
  },
  {
   "cell_type": "code",
   "execution_count": 49,
   "id": "79e0fae8-73c7-4fab-9896-167e20aa0de1",
   "metadata": {},
   "outputs": [
    {
     "data": {
      "text/plain": [
       "array([[70579, 30188],\n",
       "       [27222, 73545]])"
      ]
     },
     "execution_count": 49,
     "metadata": {},
     "output_type": "execute_result"
    }
   ],
   "source": [
    "# Use StratifiedKFold for 5-fold cross-validation\n",
    "cv = StratifiedKFold(n_splits=5, shuffle=True, random_state=42)\n",
    "# Define Logistic Regression model with balanced class weights\n",
    "logistic = Pipeline([\n",
    "    ('clf', LogisticRegression(max_iter=1000, class_weight='balanced', random_state=42))])\n",
    "# Perform cross-validation to get predicted class labels and probabilities\n",
    "y_pred_cv = cross_val_predict(logistic, X_train_final, y_train_res, cv=cv)\n",
    "y_prob_cv = cross_val_predict(logistic, X_train_final, y_train_res, cv=cv, method='predict_proba')[:, 1]\n",
    "# Compute the confusion matrix for predicted vs actual labels\n",
    "confusion_matrix(y_train_res, y_pred_cv)"
   ]
  },
  {
   "cell_type": "markdown",
   "id": "beb339e7-b9fe-4e9b-9b78-7bf4813cea07",
   "metadata": {},
   "source": [
    "**4.3 Model Training**\n",
    "\n",
    "We trained and evaluated four classification models using Stratified K-Fold (5-fold) cross-validation for performance assessment. The models included:\n",
    "1. Support Vector Machine: This model is capable of capturing non-linear decision boundaries in the feature space.\n",
    "2. Decision Tree: A model that performs non-linear splits but is prone to overfitting if not pruned properly.\n",
    "3. Random Forest: An ensemble of decision trees that enhances generalization and mitigates overfitting.\n",
    "4. K-Nearest Neighbors: A non-parametric model that classifies a sample based on the majority class of its neighbors.\n",
    "\n",
    "The models are evaluated based on their performance in terms of accuracy, precision, recall, F1-score, and AUC.\n",
    "\n",
    "- SVM: Achieved an accuracy of 0.858, with a precision of 0.832, recall of 0.898, F1-score of 0.864, and AUC of 0.936.\n",
    "- Decision Tree: Achieved an accuracy of 0.989, with a precision of 0.986, recall of 0.992, F1-score of 0.989, and AUC of 0.989.\n",
    "- Random Forest: Achieved an accuracy of 0.997, with precision of 0.999, recall of 0.995, F1-score of 0.997, and AUC of 1.000.\n",
    "- KNN: Achieved an accuracy of 0.973, precision of 0.949, recall of 1.000, F1-score of 0.974, and AUC of 0.991.\n",
    "\n",
    "Although all models achieved high accuracy, this metric alone can be misleading in the context of imbalanced classification. Therefore, we placed greater emphasis on more informative metrics such as precision, recall, F1-score, and ROC AUC. For the SVM model, while capable of capturing non-linear boundaries, exhibited only moderate precision (0.832) and required substantial computational resources due to the dataset size, making it impractical for further tuning. For the Decision Tree model showed performance comparable to Random Forest, but it is more prone to overfitting and lacks the generalization ability of ensemble methods. For the KNN model achieved a perfect recall of 1.000, but it demands large memory, suffers from slow prediction speed, and is sensitive to noise, which limits its scalability.\n",
    "\n",
    "In contrast, Random Forest consistently outperformed all other models across metrics. These indicate its superior capability in distinguishing defaulted from non-defaulted loans. Notably, Random Forest also significantly outperformed the baseline Logistic Regression model, which justifies the use of more complex models and appropriate imbalance-handling strategies. Given its robustness, scalability, and excellent cross-validation performance, we selected Random Forest as the final model for further tuning and deployment."
   ]
  },
  {
   "cell_type": "code",
   "execution_count": 50,
   "id": "03660b47-31d4-47ca-b48f-9fee51bc557b",
   "metadata": {},
   "outputs": [
    {
     "data": {
      "text/plain": [
       "array([[100694,     73],\n",
       "       [   511, 100256]])"
      ]
     },
     "execution_count": 50,
     "metadata": {},
     "output_type": "execute_result"
    }
   ],
   "source": [
    "# Use StratifiedKFold for 5-fold cross-validation\n",
    "cv = StratifiedKFold(n_splits=5, shuffle=True, random_state=42)\n",
    "# Define Random Forest model with balanced class weights\n",
    "rf = Pipeline([\n",
    "    ('clf', RandomForestClassifier(n_estimators=100, random_state=42, class_weight='balanced'))])\n",
    "# Perform cross-validation to get predicted class labels and probabilities\n",
    "y_pred_cv = cross_val_predict(rf, X_train_final, y_train_res, cv=cv)\n",
    "y_prob_cv = cross_val_predict(rf, X_train_final, y_train_res, cv=cv, method='predict_proba')[:, 1]\n",
    "# Compute the confusion matrix for predicted vs actual labels\n",
    "confusion_matrix(y_train_res, y_pred_cv)"
   ]
  },
  {
   "cell_type": "markdown",
   "id": "0fda68f3-76cc-4af2-bfdf-841824856d30",
   "metadata": {},
   "source": [
    "**4.4 Hyperparameter Tuning of the Selected Model**\n",
    "\n",
    "Having chosen Random Forest as our best-performing model, we performed hyperparameter tuning using RandomizedSearchCV (with 5-fold cross-validation on the training set) to further improve its performance by compare the metric of 'F1-score'. We experimented with the following hyperparameters: `Number of Trees`, `Tree Depth`, `Minimum Samples Split and per Leaf`.\n",
    "\n",
    "The best combination of parameters identified was: `n_estimators=142`, `max_depth=None`, `min_samples_split=9`, and `min_samples_leaf=1`. This configuration achieved a best F1 score of approximately 0.9788, indicating a substantial performance gain over the baseline model. These results suggest that fully grown trees and fine-grained node splitting contributed to the model’s enhanced ability to distinguish defaults from non-defaults. The final model was then retrained on the full training set using these optimized parameters."
   ]
  },
  {
   "cell_type": "code",
   "execution_count": 54,
   "id": "e0c93f17-7a20-4516-9ea2-d5fc8e61f888",
   "metadata": {},
   "outputs": [
    {
     "name": "stdout",
     "output_type": "stream",
     "text": [
      "Fitting 5 folds for each of 30 candidates, totalling 150 fits\n"
     ]
    }
   ],
   "source": [
    "X_sample, y_sample = resample(X_train_final, y_train_res, n_samples=20000, random_state=42, stratify=y_train_res)\n",
    "# Define the hyperparameter distribution for RandomizedSearchCV\n",
    "param_dist = {'clf__n_estimators': randint(80, 151),\n",
    "    'clf__max_depth': [None, 5, 10, 15, 20],\n",
    "    'clf__min_samples_split': randint(2, 11),\n",
    "    'clf__min_samples_leaf': randint(1, 6)}\n",
    "# Set up RandomizedSearchCV with cross-validation, scoring by F1\n",
    "random_search = RandomizedSearchCV(rf, param_distributions=param_dist, n_iter=30, cv=cv,\n",
    "    scoring='f1', random_state=42, n_jobs=-1, verbose=1)\n",
    "random_search.fit(X_sample, y_sample) # Fit the model to the resampled data\n",
    "best_rf_final = random_search.best_estimator_ # Get the best model"
   ]
  },
  {
   "cell_type": "markdown",
   "id": "66f0a15e-1155-487a-b06b-e6aff7a6befa",
   "metadata": {},
   "source": [
    "**4.5 Final Model Evaluation**\n",
    "\n",
    "After fine-tuning the Random Forest model, we achieved excellent results across multiple evaluation metrics, with a precision of 0.999, recall of 0.994, F1-score of 0.997, and AUC of 1.000. The confusion matrix further illustrates that the model correctly classified 100,766 non-default loans and 100,471 defaulted loans. Additionally, false positives decreased from 73 to 1, and false negatives reduced from 511 to 296, indicating that the fine-tuned model performs well in target classification."
   ]
  },
  {
   "cell_type": "code",
   "execution_count": 55,
   "id": "0168a6da-e0e9-486b-87d4-ac293d595bf3",
   "metadata": {},
   "outputs": [
    {
     "data": {
      "text/plain": [
       "array([[100766,      1],\n",
       "       [   296, 100471]])"
      ]
     },
     "execution_count": 55,
     "metadata": {},
     "output_type": "execute_result"
    }
   ],
   "source": [
    "# Fit the best Random Forest model to the entire training data\n",
    "best_rf_final.fit(X_train_final, y_train_res)\n",
    "# Evaluate the model using 5-fold cross-validation on multiple metrics\n",
    "cv_results = cross_validate(best_rf_final, X_train_final, y_train_res, cv=cv, scoring=['accuracy', 'precision', 'recall', 'f1', 'roc_auc'])\n",
    "y_pred_cv = best_rf_final.predict(X_train_final) # Predict class labels for the training data\n",
    "# Compute the confusion matrix for predicted vs actual labels\n",
    "confusion_matrix(y_train_res, y_pred_cv)"
   ]
  },
  {
   "cell_type": "markdown",
   "id": "3f2a706b-0d3f-4fb8-ae17-98d51c1f368f",
   "metadata": {},
   "source": [
    "After applying SHAP to interpret the feature influences in our Random Forest model, we identified several critical features driving the likelihood of loan default. Property Type was found to have the most significant impact, with single-family homes (SF) showing a higher risk of default compared to Planned Unit Developments (PU). This suggests that certain property types, potentially influenced by socio-economic factors or specific loan terms, are more likely to result in defaults. Similarly, Credit Score (`fico`) had a strong influence on default risk, as lower credit scores were strongly associated with higher chances of default, while higher scores reduced the risk, which aligns with expectations about creditworthiness.\n",
    "\n",
    "Additionly, Number of Borrowers (`cnt_borr`) also played a significant role in the default prediction. Whether the loan had one or multiple borrowers, the SHAP analysis showed that a higher number of borrowers correlated with a higher default probability. Furthermore, Channel of Loan Origination (`channel_R`) demonstrated that loans originated through retail channels had a higher risk of default. Loan-to-Value (`ltv`) and Interest Rate (`int_rt`) were also important features, with higher LTV ratios and interest rates both contributing to an increased likelihood of default, highlighting that these factors often correlate with higher-risk loans.\n",
    "\n",
    "To further validate these findings, we examined the feature importance rankings from the Random Forest model based on Gini impurity reduction. The top-ranked features, including `fico`, `cnt_borr`, and `prop_type`, confirmed the results from the SHAP analysis, with `fico` and `cnt_borr` standing out as key predictors. The importance of `int_rt` further supports the notion that higher interest rates are a strong indicator of credit risk. Although state-level dummies had lower importance, they did suggest that geographic location may influence the likelihood of loan default, indicating that regional factors could play a role in default prediction, albeit to a lesser extent."
   ]
  },
  {
   "cell_type": "code",
   "execution_count": 56,
   "id": "06199167",
   "metadata": {},
   "outputs": [
    {
     "data": {
      "image/png": "[encoded data removed]",
      "text/plain": [
       "<Figure size 560x320 with 1 Axes>"
      ]
     },
     "metadata": {},
     "output_type": "display_data"
    }
   ],
   "source": [
    "# Extract the actual Random Forest model from the pipeline\n",
    "rf_model = best_rf_final.named_steps['clf']\n",
    "# Calculate the standard deviation of feature importances for each tree\n",
    "std = np.std([tree.feature_importances_ for tree in rf_model.estimators_], axis=0)\n",
    "# Create a DataFrame with feature importances and their standard deviations\n",
    "df_features = pd.DataFrame({'importance': rf_model.feature_importances_,'std': std}, index=final_feature_names)\n",
    "df_features.sort_values('importance', ascending=True, inplace=True) # Sort the features by importance\n",
    "# Plot horizontal bar chart\n",
    "importances_rf = df_features['importance']\n",
    "std_sorted = df_features['std']\n",
    "ax = importances_rf.plot.barh(xerr=std_sorted, color='steelblue', alpha=0.7, capsize=3, figsize=(7, 4))\n",
    "ax.set_title(\"Random Forest: Feature Importances\")\n",
    "ax.set_xlabel(\"Feature Importance\")\n",
    "ax.set_ylabel(\"Features\")\n",
    "plt.tight_layout()\n",
    "plt.show()"
   ]
  },
  {
   "cell_type": "code",
   "execution_count": 58,
   "id": "fd078ce4",
   "metadata": {},
   "outputs": [
    {
     "name": "stderr",
     "output_type": "stream",
     "text": [
      "100%|===================| 39996/40000 [61:19<00:00]        "
     ]
    },
    {
     "name": "stdout",
     "output_type": "stream",
     "text": [
      "\n",
      "=== SHAP for Default ===\n"
     ]
    },
    {
     "data": {
      "image/png": "[encoded data removed]",
      "text/plain": [
       "<Figure size 640x520 with 1 Axes>"
      ]
     },
     "metadata": {},
     "output_type": "display_data"
    },
    {
     "data": {
      "image/png": "[encoded data removed]",
      "text/plain": [
       "<Figure size 640x440 with 2 Axes>"
      ]
     },
     "metadata": {},
     "output_type": "display_data"
    }
   ],
   "source": [
    "X_sample_dense = X_sample.toarray() # Convert sparse matrix to dense for sampling\n",
    "# Create SHAP Explainer for the tree model\n",
    "explainer = shap.Explainer(rf_model, X_sample_dense, feature_names=final_feature_names)\n",
    "shap_values = explainer(X_sample_dense) # Calculate SHAP values\n",
    "print(f\"\\n=== SHAP for Default ===\") # Print SHAP values for the positive class (class 1)\n",
    "shap_values_class = shap_values[..., 1]\n",
    "# Plot bar chart showing average absolute feature impact\n",
    "shap.plots.bar(shap_values_class, max_display=10)\n",
    "# Plot beeswarm chart showing feature distribution across samples\n",
    "shap.plots.beeswarm(shap_values_class, max_display=10)\n",
    "plt.show()"
   ]
  },
  {
   "cell_type": "markdown",
   "id": "0ce3933d-30e9-48f8-a052-bb1e1ce57abe",
   "metadata": {},
   "source": [
    "**4.6 Testing the Best Random Forest Model**\n",
    "\n",
    "We validated the Random Forest model using the initially reserved test set. The Logistic Regression model achieved an accuracy of 0.702, precision of 0.014, recall of 0.705, and an F1-score of 0.027. These results suggest that while the model correctly identifies non-defaults, its performance on the minority class (defaults) is significantly poor. The confusion matrix highlights this imbalance, showing that the model fails to correctly identify a large portion of false positives, which is crucial for predicting loan defaults. In contrast, the best-tuned Random Forest model performs much better. This model achieved an accuracy of 0.962, precision of 0.0245, recall of 0.1409, and an F1-score of 0.0417. Although the precision is still low, the F1-score is more than twice that of the Logistic Regression model, indicating its superior ability to detect default loans. The Random Forest model’s ROC curve shows clear improvement with an AUC of 0.700, marking significant progress compared to the baseline Logistic Regression model. Moreover, the confusion matrix of the Random Forest model shows a significant reduction in the number of false positives compared to the Logistic Regression model, demonstrating better performance. However, the relatively low F1-score still indicates room for further improvement in balancing precision and recall."
   ]
  },
  {
   "cell_type": "code",
   "execution_count": 59,
   "id": "c9c5bc70-02f8-4ae6-9e44-b0197eda1d05",
   "metadata": {},
   "outputs": [
    {
     "data": {
      "text/plain": [
       "array([[17690,  7502],\n",
       "       [   44,   105]])"
      ]
     },
     "execution_count": 59,
     "metadata": {},
     "output_type": "execute_result"
    }
   ],
   "source": [
    "# Train the logistic regression model on the training data\n",
    "logistic.fit(X_train_final, y_train_res)\n",
    "# Make predictions on the test data\n",
    "y_pred_test = logistic.predict(X_test_final)\n",
    "y_prob_test = logistic.predict_proba(X_test_final)[:, 1]\n",
    "# Generate classification report and confusion matrix\n",
    "classification_report(y_test, y_pred_test)\n",
    "confusion_matrix(y_test, y_pred_test)"
   ]
  },
  {
   "cell_type": "code",
   "execution_count": 61,
   "id": "8a806195-77c7-40ee-9b83-b1735b935077",
   "metadata": {},
   "outputs": [
    {
     "name": "stdout",
     "output_type": "stream",
     "text": [
      "[[24344   848]\n",
      " [  128    21]]\n"
     ]
    },
    {
     "data": {
      "image/png": "[encoded data removed]",
      "text/plain": [
       "<Figure size 640x400 with 1 Axes>"
      ]
     },
     "metadata": {},
     "output_type": "display_data"
    }
   ],
   "source": [
    "# Make predictions on the test data\n",
    "y_prob_test = best_rf_final.predict_proba(X_test_final)[:, 1]\n",
    "y_pred_new = (y_prob_test >= 0.1).astype(int)\n",
    "# Generate classification report and confusion matrix\n",
    "classification_report(y_test, y_pred_new)\n",
    "print(confusion_matrix(y_test, y_pred_new))\n",
    "fpr, tpr, thresholds = roc_curve(y_test, y_prob_test) # Compute ROC curve and AUC\n",
    "roc_auc = roc_auc_score(y_test, y_prob_test)\n",
    "plt.plot(fpr, tpr, color='darkorange', lw=2, label='ROC Curve (AUC = %0.3f)' % roc_auc)\n",
    "plt.plot([0, 1], [0, 1], color='navy', lw=2, linestyle='--', label='Random Guess')\n",
    "plt.xlabel('False Positive Rate')\n",
    "plt.ylabel('True Positive Rate')\n",
    "plt.title('ROC Curve on Test Set')\n",
    "plt.legend(loc=\"lower right\")\n",
    "plt.show()"
   ]
  },
  {
   "cell_type": "markdown",
   "id": "308a9c84",
   "metadata": {},
   "source": [
    "# Discussion & Conclusions\n",
    "\n",
    "**General Overview of Final Model**\n",
    "\n",
    "Our final model employs a Random Forest classifier to predict mortgage loan defaults, with the parameters `n_estimators=142`, `max_depth=None`, `min_samples_split=9`, and `min_samples_leaf=1`. The target variable, loan_status, is used to predict whether a loan will default or not. The model primarily retains features such as credit score, number of borrowers, and property type, indicating that the borrower's personal information is the most crucial predictor for loan default. The model also includes features like loan-to-value ratio, interest rate, and channel, which, although having relatively smaller influences, still contribute to the prediction. Additionally, we applied SHAP to interpret the model’s decision-making process, which confirmed a high degree of consistency with the Random Forest results. This approach significantly reduced the number of predictive factors, improving the model's interpretability while preserving most of its predictive power.\n",
    "\n",
    "**Performance and Reliability**\n",
    "\n",
    "The performance of the Random Forest model was evaluated using several metrics, including accuracy, precision, recall, F1-score, and ROC-AUC. The model achieved an accuracy of 96.2% and an AUC of 0.706 on the test set, demonstrating significant improvement over the baseline Logistic Regression model. The confusion matrix revealed that the Random Forest model correctly classified a higher proportion of non-default loans and significantly reduced false positives, making it a more reliable tool for distinguishing between defaulted and non-defaulted loans. Although the precision remains relatively low at 0.0245, the F1-score of 0.0417 indicates that the model is better at detecting default loans compared to the Logistic Regression model. However, while the model shows reliable performance, there is still room for improvement, especially in handling the minority class (defaults).\n",
    "\n",
    "**Potential Limitations**\n",
    "\n",
    "Despite the strong performance of the Random Forest model, there are notable limitations. The F1-socre remains low, indicating that the model may not always correctly identify defaults, which could be problematic for a financial institution looking to minimize risk. Additionally, while SHAP helps interpret feature influences, the inherent complexity of Random Forests limits their interpretability compared to simpler models like Logistic Regression. Fully understanding the interactions between features remains challenging.\n",
    "\n",
    "**Recommendations on Factors**\n",
    "\n",
    "Based on the model’s insights, we recommend focusing on the following factors that may increase the risk of mortgage defaults: \n",
    "1. Credit Score (`fico`): Loans with lower credit scores are more likely to default. Financial institutions should consider strengthening their criteria for lending to borrowers with poor credit histories, possibly by offering them additional guidance or higher interest rates.\n",
    "2. Number of Borrowers (`cnt_borr`): Loans with more than one borrower tend to have a higher risk of default. Banks should evaluate the financial stability of all borrowers involved in a loan, as joint borrowers may introduce additional complexities in repayment.\n",
    "3. Property Type (`prop_type`): Certain property types, such as single-family homes (SF), show a higher risk of default compared to others. Understanding the specific risks associated with different property types can help banks make more informed lending decisions.\n",
    "\n",
    "As demonstrated by the code below, we can predict that two currently active loans, F17Q20209919 and F19Q20327777, have default probabilities of 91.1% and 88.4%, respectively. Upon examining the features of these loans, we found that both have relatively low credit scores and their Property Type is classified as single-family homes (SF), which, according to our model, is strongly associated with a higher risk of default. These findings suggest that both loans should be closely monitored by the company, as they are at significant risk of default in the near future."
   ]
  },
  {
   "cell_type": "code",
   "execution_count": 63,
   "id": "996ab3dd-17e3-48b8-b9ea-c05e8922a522",
   "metadata": {},
   "outputs": [
    {
     "name": "stdout",
     "output_type": "stream",
     "text": [
      "              default_probability  predicted_default\n",
      "id_loan                                             \n",
      "F17Q20209919             0.911389                  1\n",
      "F19Q20327777             0.884089                  1\n",
      "F18Q10089196             0.788847                  0\n",
      "F19Q30135809             0.779429                  0\n"
     ]
    }
   ],
   "source": [
    "# Predict probabilities of default for active loans\n",
    "y_prob_active = best_rf_final.predict_proba(X_active_final)[:, 1]\n",
    "y_pred_active = (y_prob_active >= 0.8).astype(int) # Set a threshold \n",
    "# Display the active loans with predicted probabilities and labels\n",
    "active_loans_with_predictions = X_active.copy()\n",
    "active_loans_with_predictions['default_probability'] = y_prob_active\n",
    "active_loans_with_predictions['predicted_default'] = y_pred_active\n",
    "active_loans_with_predictions = active_loans_with_predictions[['default_probability', 'predicted_default']]\n",
    "# Display the top loans\n",
    "high_risk_loans = active_loans_with_predictions.sort_values(by='default_probability', ascending=False).head(4)\n",
    "print(high_risk_loans)"
   ]
  },
  {
   "cell_type": "markdown",
   "id": "b7f397a7-a98d-41d3-bccb-8cf5b34fb2c4",
   "metadata": {},
   "source": [
    "**Conclusion**\n",
    "\n",
    "The Random Forest model is a powerful and reliable tool for predicting mortgage defaults, with key features like credit score, the number of borrowers, and property type playing significant roles in predictions. However, there is still room for improvement, particularly in balancing precision and recall to reduce false positives. The model can be further enhanced by adding more features and adjusting its configuration. Its implementation enables financial institutions to better assess and mitigate risk by identifying high-risk loans, helping lenders make more informed decisions and improve financial stability."
   ]
  },
  {
   "cell_type": "markdown",
   "id": "ebb8539f",
   "metadata": {},
   "source": [
    "# Generative AI statement\n",
    "\n",
    "In this report AI (specifically Chat-GPT) was used to help find the references below, as well as write code to produce the figures for the default rate by state and credit score density plot. "
   ]
  },
  {
   "cell_type": "markdown",
   "id": "09db6349",
   "metadata": {},
   "source": [
    "# References\n",
    "\n",
    "A Spatio-Temporal Machine Learning Model for Mortgage Credit Risk: Default Probabilities and Loan Portfolios. (2024). ResearchGate. [online] doi:https://doi.org/10.48550//arXiv.2410.02846. [1]\n",
    "\n",
    "Investigating bankruptcy prediction models in the presence of extreme class imbalance and multiple stages of economy | Request PDF. (2019). ResearchGate. [online] doi:https://doi.org/10.48550//arXiv.1911.09858. [2]\n",
    "\n",
    "Zandi, S., Kamesh Korangi, María Óskarsdóttir, Mues, C. and Bravo, C. (2024). Attention-based dynamic multilayer graph neural networks for loan default prediction. European Journal of Operational Research. [online] doi:https://doi.org/10.1016/j.ejor.2024.09.025. [3]‌"
   ]
  },
  {
   "cell_type": "code",
   "execution_count": 7,
   "id": "0e3625a7",
   "metadata": {},
   "outputs": [
    {
     "name": "stdout",
     "output_type": "stream",
     "text": [
      "This application is used to convert notebook files (*.ipynb)\n",
      "        to various other formats.\n",
      "\n",
      "        WARNING: THE COMMANDLINE INTERFACE MAY CHANGE IN FUTURE RELEASES.\n",
      "\n",
      "Options\n",
      "=======\n",
      "The options below are convenience aliases to configurable class-options,\n",
      "as listed in the \"Equivalent to\" description-line of the aliases.\n",
      "To see all configurable class-options for some <cmd>, use:\n",
      "    <cmd> --help-all\n",
      "\n",
      "--debug\n",
      "    set log level to logging.DEBUG (maximize logging output)\n",
      "    Equivalent to: [--Application.log_level=10]\n",
      "--show-config\n",
      "    Show the application's configuration (human-readable format)\n",
      "    Equivalent to: [--Application.show_config=True]\n",
      "--show-config-json\n",
      "    Show the application's configuration (json format)\n",
      "    Equivalent to: [--Application.show_config_json=True]\n",
      "--generate-config\n",
      "    generate default config file\n",
      "    Equivalent to: [--JupyterApp.generate_config=True]\n",
      "-y\n",
      "    Answer yes to any questions instead of prompting.\n",
      "    Equivalent to: [--JupyterApp.answer_yes=True]\n",
      "--execute\n",
      "    Execute the notebook prior to export.\n",
      "    Equivalent to: [--ExecutePreprocessor.enabled=True]\n",
      "--allow-errors\n",
      "    Continue notebook execution even if one of the cells throws an error and include the error message in the cell output (the default behaviour is to abort conversion). This flag is only relevant if '--execute' was specified, too.\n",
      "    Equivalent to: [--ExecutePreprocessor.allow_errors=True]\n",
      "--stdin\n",
      "    read a single notebook file from stdin. Write the resulting notebook with default basename 'notebook.*'\n",
      "    Equivalent to: [--NbConvertApp.from_stdin=True]\n",
      "--stdout\n",
      "    Write notebook output to stdout instead of files.\n",
      "    Equivalent to: [--NbConvertApp.writer_class=StdoutWriter]\n",
      "--inplace\n",
      "    Run nbconvert in place, overwriting the existing notebook (only\n",
      "            relevant when converting to notebook format)\n",
      "    Equivalent to: [--NbConvertApp.use_output_suffix=False --NbConvertApp.export_format=notebook --FilesWriter.build_directory=]\n",
      "--clear-output\n",
      "    Clear output of current file and save in place,\n",
      "            overwriting the existing notebook.\n",
      "    Equivalent to: [--NbConvertApp.use_output_suffix=False --NbConvertApp.export_format=notebook --FilesWriter.build_directory= --ClearOutputPreprocessor.enabled=True]\n",
      "--coalesce-streams\n",
      "    Coalesce consecutive stdout and stderr outputs into one stream (within each cell).\n",
      "    Equivalent to: [--NbConvertApp.use_output_suffix=False --NbConvertApp.export_format=notebook --FilesWriter.build_directory= --CoalesceStreamsPreprocessor.enabled=True]\n",
      "--no-prompt\n",
      "    Exclude input and output prompts from converted document.\n",
      "    Equivalent to: [--TemplateExporter.exclude_input_prompt=True --TemplateExporter.exclude_output_prompt=True]\n",
      "--no-input\n",
      "    Exclude input cells and output prompts from converted document.\n",
      "            This mode is ideal for generating code-free reports.\n",
      "    Equivalent to: [--TemplateExporter.exclude_output_prompt=True --TemplateExporter.exclude_input=True --TemplateExporter.exclude_input_prompt=True]\n",
      "--allow-chromium-download\n",
      "    Whether to allow downloading chromium if no suitable version is found on the system.\n",
      "    Equivalent to: [--WebPDFExporter.allow_chromium_download=True]\n",
      "--disable-chromium-sandbox\n",
      "    Disable chromium security sandbox when converting to PDF..\n",
      "    Equivalent to: [--WebPDFExporter.disable_sandbox=True]\n",
      "--show-input\n",
      "    Shows code input. This flag is only useful for dejavu users.\n",
      "    Equivalent to: [--TemplateExporter.exclude_input=False]\n",
      "--embed-images\n",
      "    Embed the images as base64 dataurls in the output. This flag is only useful for the HTML/WebPDF/Slides exports.\n",
      "    Equivalent to: [--HTMLExporter.embed_images=True]\n",
      "--sanitize-html\n",
      "    Whether the HTML in Markdown cells and cell outputs should be sanitized..\n",
      "    Equivalent to: [--HTMLExporter.sanitize_html=True]\n",
      "--log-level=<Enum>\n",
      "    Set the log level by value or name.\n",
      "    Choices: any of [0, 10, 20, 30, 40, 50, 'DEBUG', 'INFO', 'WARN', 'ERROR', 'CRITICAL']\n",
      "    Default: 30\n",
      "    Equivalent to: [--Application.log_level]\n",
      "--config=<Unicode>\n",
      "    Full path of a config file.\n",
      "    Default: ''\n",
      "    Equivalent to: [--JupyterApp.config_file]\n",
      "--to=<Unicode>\n",
      "    The export format to be used, either one of the built-in formats\n",
      "            ['asciidoc', 'custom', 'html', 'latex', 'markdown', 'notebook', 'pdf', 'python', 'qtpdf', 'qtpng', 'rst', 'script', 'slides', 'webpdf']\n",
      "            or a dotted object name that represents the import path for an\n",
      "            ``Exporter`` class\n",
      "    Default: ''\n",
      "    Equivalent to: [--NbConvertApp.export_format]\n",
      "--template=<Unicode>\n",
      "    Name of the template to use\n",
      "    Default: ''\n",
      "    Equivalent to: [--TemplateExporter.template_name]\n",
      "--template-file=<Unicode>\n",
      "    Name of the template file to use\n",
      "    Default: None\n",
      "    Equivalent to: [--TemplateExporter.template_file]\n",
      "--theme=<Unicode>\n",
      "    Template specific theme(e.g. the name of a JupyterLab CSS theme distributed\n",
      "    as prebuilt extension for the lab template)\n",
      "    Default: 'light'\n",
      "    Equivalent to: [--HTMLExporter.theme]\n",
      "--sanitize_html=<Bool>\n",
      "    Whether the HTML in Markdown cells and cell outputs should be sanitized.This\n"
     ]
    },
    {
     "name": "stderr",
     "output_type": "stream",
     "text": [
      "[NbConvertApp] WARNING | pattern 'project2.ipynb' matched no files\n"
     ]
    },
    {
     "name": "stdout",
     "output_type": "stream",
     "text": [
      "    should be set to True by nbviewer or similar tools.\n",
      "    Default: False\n",
      "    Equivalent to: [--HTMLExporter.sanitize_html]\n",
      "--writer=<DottedObjectName>\n",
      "    Writer class used to write the\n",
      "                                        results of the conversion\n",
      "    Default: 'FilesWriter'\n",
      "    Equivalent to: [--NbConvertApp.writer_class]\n",
      "--post=<DottedOrNone>\n",
      "    PostProcessor class used to write the\n",
      "                                        results of the conversion\n",
      "    Default: ''\n",
      "    Equivalent to: [--NbConvertApp.postprocessor_class]\n",
      "--output=<Unicode>\n",
      "    Overwrite base name use for output files.\n",
      "                Supports pattern replacements '{notebook_name}'.\n",
      "    Default: '{notebook_name}'\n",
      "    Equivalent to: [--NbConvertApp.output_base]\n",
      "--output-dir=<Unicode>\n",
      "    Directory to write output(s) to. Defaults\n",
      "                                  to output to the directory of each notebook. To recover\n",
      "                                  previous default behaviour (outputting to the current\n",
      "                                  working directory) use . as the flag value.\n",
      "    Default: ''\n",
      "    Equivalent to: [--FilesWriter.build_directory]\n",
      "--reveal-prefix=<Unicode>\n",
      "    The URL prefix for reveal.js (version 3.x).\n",
      "            This defaults to the reveal CDN, but can be any url pointing to a copy\n",
      "            of reveal.js.\n",
      "            For speaker notes to work, this must be a relative path to a local\n",
      "            copy of reveal.js: e.g., \"reveal.js\".\n",
      "            If a relative path is given, it must be a subdirectory of the\n",
      "            current directory (from which the server is run).\n",
      "            See the usage documentation\n",
      "            (https://nbconvert.readthedocs.io/en/latest/usage.html#reveal-js-html-slideshow)\n",
      "            for more details.\n",
      "    Default: ''\n",
      "    Equivalent to: [--SlidesExporter.reveal_url_prefix]\n",
      "--nbformat=<Enum>\n",
      "    The nbformat version to write.\n",
      "            Use this to downgrade notebooks.\n",
      "    Choices: any of [1, 2, 3, 4]\n",
      "    Default: 4\n",
      "    Equivalent to: [--NotebookExporter.nbformat_version]\n",
      "\n",
      "Examples\n",
      "--------\n",
      "\n",
      "    The simplest way to use nbconvert is\n",
      "\n",
      "            > jupyter nbconvert mynotebook.ipynb --to html\n",
      "\n",
      "            Options include ['asciidoc', 'custom', 'html', 'latex', 'markdown', 'notebook', 'pdf', 'python', 'qtpdf', 'qtpng', 'rst', 'script', 'slides', 'webpdf'].\n",
      "\n",
      "            > jupyter nbconvert --to latex mynotebook.ipynb\n",
      "\n",
      "            Both HTML and LaTeX support multiple output templates. LaTeX includes\n",
      "            'base', 'article' and 'report'.  HTML includes 'basic', 'lab' and\n",
      "            'classic'. You can specify the flavor of the format used.\n",
      "\n",
      "            > jupyter nbconvert --to html --template lab mynotebook.ipynb\n",
      "\n",
      "            You can also pipe the output to stdout, rather than a file\n",
      "\n",
      "            > jupyter nbconvert mynotebook.ipynb --stdout\n",
      "\n",
      "            PDF is generated via latex\n",
      "\n",
      "            > jupyter nbconvert mynotebook.ipynb --to pdf\n",
      "\n",
      "            You can get (and serve) a Reveal.js-powered slideshow\n",
      "\n",
      "            > jupyter nbconvert myslides.ipynb --to slides --post serve\n",
      "\n",
      "            Multiple notebooks can be given at the command line in a couple of\n",
      "            different ways:\n",
      "\n",
      "            > jupyter nbconvert notebook*.ipynb\n",
      "            > jupyter nbconvert notebook1.ipynb notebook2.ipynb\n",
      "\n",
      "            or you can specify the notebooks list in a config file, containing::\n",
      "\n",
      "                c.NbConvertApp.notebooks = [\"my_notebook.ipynb\"]\n",
      "\n",
      "            > jupyter nbconvert --config mycfg.py\n",
      "\n",
      "To see all available configurables, use `--help-all`.\n",
      "\n"
     ]
    }
   ],
   "source": [
    "# Run the following to render to PDF\n",
    "!jupyter nbconvert --to pdf project2.ipynb"
   ]
  }
 ],
 "metadata": {
  "kernelspec": {
   "display_name": "Python 3",
   "language": "python",
   "name": "python3"
  },
  "language_info": {
   "codemirror_mode": {
    "name": "ipython",
    "version": 3
   },
   "file_extension": ".py",
   "mimetype": "text/x-python",
   "name": "python",
   "nbconvert_exporter": "python",
   "pygments_lexer": "ipython3",
   "version": "3.11.1"
  },
  "toc": {
   "base_numbering": 1,
   "nav_menu": {},
   "number_sections": true,
   "sideBar": true,
   "skip_h1_title": false,
   "title_cell": "Table of Contents",
   "title_sidebar": "Contents",
   "toc_cell": false,
   "toc_position": {},
   "toc_section_display": true,
   "toc_window_display": false
  }
 },
 "nbformat": 4,
 "nbformat_minor": 5
}
