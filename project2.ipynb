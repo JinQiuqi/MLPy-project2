{
 "cells": [
  {
   "cell_type": "markdown",
   "id": "8281b6f8",
   "metadata": {},
   "source": [
    "# Machine Learning in Python - Project 2\n",
    "\n",
    "Due Friday, Apr 11th by 4 pm.\n",
    "\n",
    "*Include contributors names in notebook metadata or here*"
   ]
  },
  {
   "cell_type": "markdown",
   "id": "821233d2",
   "metadata": {},
   "source": [
    "## Setup\n",
    "\n",
    "*Install any packages here, define any functions if neeed, and load data*"
   ]
  },
  {
   "cell_type": "code",
   "execution_count": 1,
   "id": "7e1ba94a",
   "metadata": {},
   "outputs": [],
   "source": [
    "# Add any additional libraries or submodules below\n",
    "import missingno as msno\n",
    "from imblearn.over_sampling import SMOTE\n",
    "# Data libraries\n",
    "import pandas as pd\n",
    "import numpy as np\n",
    "\n",
    "# Plotting libraries\n",
    "import matplotlib.pyplot as plt\n",
    "import seaborn as sns\n",
    "\n",
    "# Plotting defaults\n",
    "plt.rcParams['figure.figsize'] = (8,5)\n",
    "plt.rcParams['figure.dpi'] = 80\n",
    "\n",
    "# sklearn modules\n",
    "import sklearn\n",
    "from sklearn.preprocessing import LabelEncoder, StandardScaler, OneHotEncoder, FunctionTransformer\n",
    "from sklearn.model_selection import train_test_split\n",
    "from sklearn.pipeline import Pipeline\n",
    "from sklearn.compose import ColumnTransformer\n",
    "from sklearn.impute import SimpleImputer\n",
    "from sklearn.linear_model import LogisticRegression\n",
    "from sklearn.svm import SVC\n",
    "from sklearn.tree import DecisionTreeClassifier\n",
    "from sklearn.ensemble import RandomForestClassifier\n",
    "from sklearn.neural_network import MLPClassifier\n",
    "from sklearn.model_selection import cross_val_score"
   ]
  },
  {
   "cell_type": "code",
   "execution_count": 2,
   "id": "62abe5f5",
   "metadata": {},
   "outputs": [
    {
     "name": "stderr",
     "output_type": "stream",
     "text": [
      "C:\\Users\\京柒柒\\AppData\\Local\\Temp\\ipykernel_13732\\2212289888.py:2: DtypeWarning: Columns (26,28) have mixed types. Specify dtype option on import or set low_memory=False.\n",
      "  d = pd.read_csv(\"freddiemac.csv\")\n"
     ]
    },
    {
     "data": {
      "text/html": [
       "<div>\n",
       "<style scoped>\n",
       "    .dataframe tbody tr th:only-of-type {\n",
       "        vertical-align: middle;\n",
       "    }\n",
       "\n",
       "    .dataframe tbody tr th {\n",
       "        vertical-align: top;\n",
       "    }\n",
       "\n",
       "    .dataframe thead th {\n",
       "        text-align: right;\n",
       "    }\n",
       "</style>\n",
       "<table border=\"1\" class=\"dataframe\">\n",
       "  <thead>\n",
       "    <tr style=\"text-align: right;\">\n",
       "      <th></th>\n",
       "      <th>fico</th>\n",
       "      <th>dt_first_pi</th>\n",
       "      <th>flag_fthb</th>\n",
       "      <th>dt_matr</th>\n",
       "      <th>cd_msa</th>\n",
       "      <th>mi_pct</th>\n",
       "      <th>cnt_units</th>\n",
       "      <th>occpy_sts</th>\n",
       "      <th>cltv</th>\n",
       "      <th>dti</th>\n",
       "      <th>...</th>\n",
       "      <th>seller_name</th>\n",
       "      <th>servicer_name</th>\n",
       "      <th>flag_sc</th>\n",
       "      <th>id_loan_rr</th>\n",
       "      <th>program_ind</th>\n",
       "      <th>rr_ind</th>\n",
       "      <th>property_val</th>\n",
       "      <th>io_ind</th>\n",
       "      <th>mi_cancel_ind</th>\n",
       "      <th>loan_status</th>\n",
       "    </tr>\n",
       "  </thead>\n",
       "  <tbody>\n",
       "    <tr>\n",
       "      <th>0</th>\n",
       "      <td>809</td>\n",
       "      <td>201705</td>\n",
       "      <td>N</td>\n",
       "      <td>204704</td>\n",
       "      <td>NaN</td>\n",
       "      <td>0</td>\n",
       "      <td>1</td>\n",
       "      <td>P</td>\n",
       "      <td>75</td>\n",
       "      <td>38</td>\n",
       "      <td>...</td>\n",
       "      <td>Other sellers</td>\n",
       "      <td>SPECIALIZED LOAN SERVICING LLC</td>\n",
       "      <td>NaN</td>\n",
       "      <td>NaN</td>\n",
       "      <td>9</td>\n",
       "      <td>NaN</td>\n",
       "      <td>2</td>\n",
       "      <td>N</td>\n",
       "      <td>7</td>\n",
       "      <td>prepaid</td>\n",
       "    </tr>\n",
       "    <tr>\n",
       "      <th>1</th>\n",
       "      <td>702</td>\n",
       "      <td>201703</td>\n",
       "      <td>N</td>\n",
       "      <td>203202</td>\n",
       "      <td>NaN</td>\n",
       "      <td>0</td>\n",
       "      <td>1</td>\n",
       "      <td>P</td>\n",
       "      <td>80</td>\n",
       "      <td>36</td>\n",
       "      <td>...</td>\n",
       "      <td>Other sellers</td>\n",
       "      <td>Other servicers</td>\n",
       "      <td>NaN</td>\n",
       "      <td>NaN</td>\n",
       "      <td>9</td>\n",
       "      <td>NaN</td>\n",
       "      <td>2</td>\n",
       "      <td>N</td>\n",
       "      <td>7</td>\n",
       "      <td>active</td>\n",
       "    </tr>\n",
       "    <tr>\n",
       "      <th>2</th>\n",
       "      <td>792</td>\n",
       "      <td>201703</td>\n",
       "      <td>N</td>\n",
       "      <td>204702</td>\n",
       "      <td>NaN</td>\n",
       "      <td>0</td>\n",
       "      <td>1</td>\n",
       "      <td>S</td>\n",
       "      <td>60</td>\n",
       "      <td>36</td>\n",
       "      <td>...</td>\n",
       "      <td>Other sellers</td>\n",
       "      <td>Other servicers</td>\n",
       "      <td>NaN</td>\n",
       "      <td>NaN</td>\n",
       "      <td>9</td>\n",
       "      <td>NaN</td>\n",
       "      <td>2</td>\n",
       "      <td>N</td>\n",
       "      <td>7</td>\n",
       "      <td>prepaid</td>\n",
       "    </tr>\n",
       "    <tr>\n",
       "      <th>3</th>\n",
       "      <td>776</td>\n",
       "      <td>201703</td>\n",
       "      <td>N</td>\n",
       "      <td>204702</td>\n",
       "      <td>NaN</td>\n",
       "      <td>0</td>\n",
       "      <td>1</td>\n",
       "      <td>S</td>\n",
       "      <td>80</td>\n",
       "      <td>18</td>\n",
       "      <td>...</td>\n",
       "      <td>Other sellers</td>\n",
       "      <td>Other servicers</td>\n",
       "      <td>NaN</td>\n",
       "      <td>NaN</td>\n",
       "      <td>9</td>\n",
       "      <td>NaN</td>\n",
       "      <td>2</td>\n",
       "      <td>N</td>\n",
       "      <td>7</td>\n",
       "      <td>prepaid</td>\n",
       "    </tr>\n",
       "    <tr>\n",
       "      <th>4</th>\n",
       "      <td>790</td>\n",
       "      <td>201703</td>\n",
       "      <td>N</td>\n",
       "      <td>204702</td>\n",
       "      <td>41620.0</td>\n",
       "      <td>0</td>\n",
       "      <td>1</td>\n",
       "      <td>I</td>\n",
       "      <td>75</td>\n",
       "      <td>42</td>\n",
       "      <td>...</td>\n",
       "      <td>Other sellers</td>\n",
       "      <td>PNC BANK, NA</td>\n",
       "      <td>NaN</td>\n",
       "      <td>NaN</td>\n",
       "      <td>9</td>\n",
       "      <td>NaN</td>\n",
       "      <td>2</td>\n",
       "      <td>N</td>\n",
       "      <td>7</td>\n",
       "      <td>active</td>\n",
       "    </tr>\n",
       "  </tbody>\n",
       "</table>\n",
       "<p>5 rows × 33 columns</p>\n",
       "</div>"
      ],
      "text/plain": [
       "   fico  dt_first_pi flag_fthb  dt_matr   cd_msa  mi_pct  cnt_units occpy_sts  \\\n",
       "0   809       201705         N   204704      NaN       0          1         P   \n",
       "1   702       201703         N   203202      NaN       0          1         P   \n",
       "2   792       201703         N   204702      NaN       0          1         S   \n",
       "3   776       201703         N   204702      NaN       0          1         S   \n",
       "4   790       201703         N   204702  41620.0       0          1         I   \n",
       "\n",
       "   cltv  dti  ...    seller_name                   servicer_name  flag_sc  \\\n",
       "0    75   38  ...  Other sellers  SPECIALIZED LOAN SERVICING LLC      NaN   \n",
       "1    80   36  ...  Other sellers                 Other servicers      NaN   \n",
       "2    60   36  ...  Other sellers                 Other servicers      NaN   \n",
       "3    80   18  ...  Other sellers                 Other servicers      NaN   \n",
       "4    75   42  ...  Other sellers                    PNC BANK, NA      NaN   \n",
       "\n",
       "  id_loan_rr program_ind rr_ind property_val io_ind  mi_cancel_ind loan_status  \n",
       "0        NaN           9    NaN            2      N              7     prepaid  \n",
       "1        NaN           9    NaN            2      N              7      active  \n",
       "2        NaN           9    NaN            2      N              7     prepaid  \n",
       "3        NaN           9    NaN            2      N              7     prepaid  \n",
       "4        NaN           9    NaN            2      N              7      active  \n",
       "\n",
       "[5 rows x 33 columns]"
      ]
     },
     "execution_count": 2,
     "metadata": {},
     "output_type": "execute_result"
    }
   ],
   "source": [
    "# Load data in easyshare.csv\n",
    "d = pd.read_csv(\"freddiemac.csv\")\n",
    "d.head()"
   ]
  },
  {
   "cell_type": "markdown",
   "id": "28603fe7",
   "metadata": {},
   "source": [
    "# Introduction\n",
    "\n",
    "*This section should include a brief introduction to the task and the data (assume this is a report you are delivering to a professional body (e.g. Freddie Mac).*\n",
    "\n",
    "*Briefly outline the approaches being used and the conclusions that you are able to draw.*"
   ]
  },
  {
   "cell_type": "markdown",
   "id": "af4bc461",
   "metadata": {},
   "source": [
    "# Exploratory Data Analysis and Feature Engineering\n",
    "\n",
    "*Include a detailed discussion of the data with a particular emphasis on the features of the data that are relevant for the subsequent modeling. Including visualizations of the data is strongly encouraged - all code and plots must also be described in the write up. Think carefully about whether each plot needs to be included in your final draft and the appropriate type of plot and summary for each variable type - your report should include figures but they should be as focused and impactful as possible.*\n",
    "\n",
    "*You should also split your data into training and testing sets, ideally before you look to much into the features and relationships with the target*\n",
    "\n",
    "*Additionally, this section should also motivate and describe any preprocessing / feature engineering of the data. Specifically, this should be any code that you use to generate new columns in the data frame `d`. Pipelines should be used and feature engineering steps that are be performed as part of an sklearn pipeline can be mentioned here but should be implemented in the following section.*\n",
    "\n",
    "*All code and figures should be accompanied by text that provides an overview / context to what is being done or presented.*"
   ]
  },
  {
   "cell_type": "markdown",
   "id": "1c736885",
   "metadata": {},
   "source": [
    "**3.1 Data Preparation**"
   ]
  },
  {
   "cell_type": "code",
   "execution_count": 3,
   "id": "96c5ef5e",
   "metadata": {},
   "outputs": [
    {
     "data": {
      "text/plain": [
       "prepaid    62.9795\n",
       "active     36.6475\n",
       "default     0.3730\n",
       "Name: loan_status, dtype: float64"
      ]
     },
     "execution_count": 3,
     "metadata": {},
     "output_type": "execute_result"
    }
   ],
   "source": [
    "# Proportion view of loan_status\n",
    "d[\"loan_status\"].value_counts(normalize=True) * 100"
   ]
  },
  {
   "cell_type": "markdown",
   "id": "616e9c60",
   "metadata": {},
   "source": [
    "统计结果显示绝大部分贷款已提前还清或仍在正常偿还，违约样本极少。数据显示，在20万笔贷款中，违约约仅占0.37%，呈现出高度不平衡的类别分布。由于“active”贷款尚未有最终结果，根据业务指示，我们只关注区分提前还清和违约两类。因此，在后续建模中，我们将过滤掉loan_status为“active”的贷款，仅使用“prepaid”和“default”两类来训练模型，并将“default”视作正类。\n",
    "Statistical results show that the vast majority of loans have either been prepaid or are still in normal repayment, with default cases being relatively rare. The data indicates that among 200000 loans, defaults account for only about 0.37%, reflecting a highly imbalanced class distribution. Since “active” loans do not yet have a final outcome, and based on business guidance, we focus only on distinguishing between prepaid and defaulted loans. Therefore, in the subsequent modeling process, we will filter out loans with a `loan_status` of “active” and use only “prepaid” and “default” loans for training, treating “default” as the positive class. This approach avoids labeling unresolved loans as negative samples, thereby enhancing the model's accuracy in predicting future defaults."
   ]
  },
  {
   "cell_type": "code",
   "execution_count": 4,
   "id": "f05ecb66",
   "metadata": {},
   "outputs": [],
   "source": [
    "# Filter out loans that are still being repaid, keeping only prepaid and defaulted samples\n",
    "d = d[d['loan_status'] != 'active'].copy()\n",
    "\n",
    "# Add a new label column: default = 1, prepaid = 0\n",
    "d['default_flag'] = (d['loan_status'] == 'default').astype(int)"
   ]
  },
  {
   "cell_type": "code",
   "execution_count": 5,
   "id": "17a6136d",
   "metadata": {},
   "outputs": [
    {
     "data": {
      "image/png": "[encoded data removed]",
      "text/plain": [
       "<Figure size 720x160 with 1 Axes>"
      ]
     },
     "metadata": {},
     "output_type": "display_data"
    },
    {
     "name": "stdout",
     "output_type": "stream",
     "text": [
      "cd_msa         8.913618\n",
      "flag_sc       95.687621\n",
      "id_loan_rr    98.974784\n",
      "rr_ind        98.974784\n",
      "dtype: float64\n"
     ]
    }
   ],
   "source": [
    "missing_counts = d.isnull().sum()\n",
    "missing_percent = (missing_counts / len(d)) * 100\n",
    "# Get the maximum missing percentage\n",
    "max_missing = missing_percent.max()\n",
    "# Visualize missingness\n",
    "msno.matrix(d, figsize=(9, 2), fontsize=10, sparkline=False)\n",
    "plt.title(\"Missing Values Matrix\")\n",
    "plt.show()\n",
    "print(missing_percent[missing_percent > 0])"
   ]
  },
  {
   "cell_type": "markdown",
   "id": "3bf787c1",
   "metadata": {},
   "source": [
    "**Remove irrelevant features**:\n",
    "\n",
    "`id_loan`: change to index\n",
    "\n",
    "`prod_type`: constantly \"FRM\" throughout the dataset and shows no variation, drop\n",
    "\n",
    "`ppmt_pnlty`: consistently \"N\", no information gain, drop\n",
    "\n",
    "`io_ind`: consistently \"N\", no information gain, drop\n",
    "\n",
    "`id_loan_rr`and `rr_ind`: relate to loan refinancing, contain values only in ~1% of samples and are not useful for prediction, drop\n",
    "\n",
    "`dt_first_pi` and `dt_matr`: can be derived from the `orig_loan_term` and are of limited predictive value, drop\n",
    "\n",
    "`zipcode` and `cd_msa`: high-cardinality geographic variables/missing rate about 8.9%, not to use them directly to avoid increasing dimensionality and noise, drop\n",
    "\n",
    "`servicer_name` and `seller_name`: they have too many categories and are difficult to incorporate effectively, drop, (by references)"
   ]
  },
  {
   "cell_type": "code",
   "execution_count": 6,
   "id": "0c45a6e9",
   "metadata": {},
   "outputs": [
    {
     "data": {
      "text/html": [
       "<div>\n",
       "<style scoped>\n",
       "    .dataframe tbody tr th:only-of-type {\n",
       "        vertical-align: middle;\n",
       "    }\n",
       "\n",
       "    .dataframe tbody tr th {\n",
       "        vertical-align: top;\n",
       "    }\n",
       "\n",
       "    .dataframe thead th {\n",
       "        text-align: right;\n",
       "    }\n",
       "</style>\n",
       "<table border=\"1\" class=\"dataframe\">\n",
       "  <thead>\n",
       "    <tr style=\"text-align: right;\">\n",
       "      <th></th>\n",
       "      <th>fico</th>\n",
       "      <th>flag_fthb</th>\n",
       "      <th>mi_pct</th>\n",
       "      <th>cnt_units</th>\n",
       "      <th>occpy_sts</th>\n",
       "      <th>cltv</th>\n",
       "      <th>dti</th>\n",
       "      <th>orig_upb</th>\n",
       "      <th>ltv</th>\n",
       "      <th>int_rt</th>\n",
       "      <th>...</th>\n",
       "      <th>st</th>\n",
       "      <th>prop_type</th>\n",
       "      <th>loan_purpose</th>\n",
       "      <th>orig_loan_term</th>\n",
       "      <th>cnt_borr</th>\n",
       "      <th>flag_sc</th>\n",
       "      <th>program_ind</th>\n",
       "      <th>property_val</th>\n",
       "      <th>mi_cancel_ind</th>\n",
       "      <th>default_flag</th>\n",
       "    </tr>\n",
       "    <tr>\n",
       "      <th>id_loan</th>\n",
       "      <th></th>\n",
       "      <th></th>\n",
       "      <th></th>\n",
       "      <th></th>\n",
       "      <th></th>\n",
       "      <th></th>\n",
       "      <th></th>\n",
       "      <th></th>\n",
       "      <th></th>\n",
       "      <th></th>\n",
       "      <th></th>\n",
       "      <th></th>\n",
       "      <th></th>\n",
       "      <th></th>\n",
       "      <th></th>\n",
       "      <th></th>\n",
       "      <th></th>\n",
       "      <th></th>\n",
       "      <th></th>\n",
       "      <th></th>\n",
       "      <th></th>\n",
       "    </tr>\n",
       "  </thead>\n",
       "  <tbody>\n",
       "    <tr>\n",
       "      <th>F17Q10000002</th>\n",
       "      <td>809</td>\n",
       "      <td>N</td>\n",
       "      <td>0</td>\n",
       "      <td>1</td>\n",
       "      <td>P</td>\n",
       "      <td>75</td>\n",
       "      <td>38</td>\n",
       "      <td>195000</td>\n",
       "      <td>75</td>\n",
       "      <td>4.250</td>\n",
       "      <td>...</td>\n",
       "      <td>PA</td>\n",
       "      <td>SF</td>\n",
       "      <td>N</td>\n",
       "      <td>360</td>\n",
       "      <td>1</td>\n",
       "      <td>NaN</td>\n",
       "      <td>9</td>\n",
       "      <td>2</td>\n",
       "      <td>7</td>\n",
       "      <td>0</td>\n",
       "    </tr>\n",
       "    <tr>\n",
       "      <th>F17Q10000064</th>\n",
       "      <td>792</td>\n",
       "      <td>N</td>\n",
       "      <td>0</td>\n",
       "      <td>1</td>\n",
       "      <td>S</td>\n",
       "      <td>60</td>\n",
       "      <td>36</td>\n",
       "      <td>87000</td>\n",
       "      <td>60</td>\n",
       "      <td>3.375</td>\n",
       "      <td>...</td>\n",
       "      <td>MI</td>\n",
       "      <td>SF</td>\n",
       "      <td>N</td>\n",
       "      <td>360</td>\n",
       "      <td>2</td>\n",
       "      <td>NaN</td>\n",
       "      <td>9</td>\n",
       "      <td>2</td>\n",
       "      <td>7</td>\n",
       "      <td>0</td>\n",
       "    </tr>\n",
       "    <tr>\n",
       "      <th>F17Q10000065</th>\n",
       "      <td>776</td>\n",
       "      <td>N</td>\n",
       "      <td>0</td>\n",
       "      <td>1</td>\n",
       "      <td>S</td>\n",
       "      <td>80</td>\n",
       "      <td>18</td>\n",
       "      <td>106000</td>\n",
       "      <td>80</td>\n",
       "      <td>4.250</td>\n",
       "      <td>...</td>\n",
       "      <td>NY</td>\n",
       "      <td>SF</td>\n",
       "      <td>P</td>\n",
       "      <td>360</td>\n",
       "      <td>2</td>\n",
       "      <td>NaN</td>\n",
       "      <td>9</td>\n",
       "      <td>2</td>\n",
       "      <td>7</td>\n",
       "      <td>0</td>\n",
       "    </tr>\n",
       "    <tr>\n",
       "      <th>F17Q10000176</th>\n",
       "      <td>687</td>\n",
       "      <td>N</td>\n",
       "      <td>0</td>\n",
       "      <td>1</td>\n",
       "      <td>P</td>\n",
       "      <td>80</td>\n",
       "      <td>45</td>\n",
       "      <td>619000</td>\n",
       "      <td>75</td>\n",
       "      <td>3.875</td>\n",
       "      <td>...</td>\n",
       "      <td>HI</td>\n",
       "      <td>PU</td>\n",
       "      <td>C</td>\n",
       "      <td>360</td>\n",
       "      <td>2</td>\n",
       "      <td>NaN</td>\n",
       "      <td>9</td>\n",
       "      <td>2</td>\n",
       "      <td>7</td>\n",
       "      <td>0</td>\n",
       "    </tr>\n",
       "    <tr>\n",
       "      <th>F17Q10000301</th>\n",
       "      <td>758</td>\n",
       "      <td>N</td>\n",
       "      <td>0</td>\n",
       "      <td>1</td>\n",
       "      <td>P</td>\n",
       "      <td>53</td>\n",
       "      <td>999</td>\n",
       "      <td>64000</td>\n",
       "      <td>53</td>\n",
       "      <td>3.125</td>\n",
       "      <td>...</td>\n",
       "      <td>CA</td>\n",
       "      <td>SF</td>\n",
       "      <td>N</td>\n",
       "      <td>180</td>\n",
       "      <td>1</td>\n",
       "      <td>NaN</td>\n",
       "      <td>9</td>\n",
       "      <td>3</td>\n",
       "      <td>7</td>\n",
       "      <td>0</td>\n",
       "    </tr>\n",
       "  </tbody>\n",
       "</table>\n",
       "<p>5 rows × 21 columns</p>\n",
       "</div>"
      ],
      "text/plain": [
       "              fico flag_fthb  mi_pct  cnt_units occpy_sts  cltv  dti  \\\n",
       "id_loan                                                                \n",
       "F17Q10000002   809         N       0          1         P    75   38   \n",
       "F17Q10000064   792         N       0          1         S    60   36   \n",
       "F17Q10000065   776         N       0          1         S    80   18   \n",
       "F17Q10000176   687         N       0          1         P    80   45   \n",
       "F17Q10000301   758         N       0          1         P    53  999   \n",
       "\n",
       "              orig_upb  ltv  int_rt  ...  st prop_type loan_purpose  \\\n",
       "id_loan                              ...                              \n",
       "F17Q10000002    195000   75   4.250  ...  PA        SF            N   \n",
       "F17Q10000064     87000   60   3.375  ...  MI        SF            N   \n",
       "F17Q10000065    106000   80   4.250  ...  NY        SF            P   \n",
       "F17Q10000176    619000   75   3.875  ...  HI        PU            C   \n",
       "F17Q10000301     64000   53   3.125  ...  CA        SF            N   \n",
       "\n",
       "             orig_loan_term  cnt_borr  flag_sc program_ind property_val  \\\n",
       "id_loan                                                                   \n",
       "F17Q10000002            360         1      NaN           9            2   \n",
       "F17Q10000064            360         2      NaN           9            2   \n",
       "F17Q10000065            360         2      NaN           9            2   \n",
       "F17Q10000176            360         2      NaN           9            2   \n",
       "F17Q10000301            180         1      NaN           9            3   \n",
       "\n",
       "              mi_cancel_ind default_flag  \n",
       "id_loan                                   \n",
       "F17Q10000002              7            0  \n",
       "F17Q10000064              7            0  \n",
       "F17Q10000065              7            0  \n",
       "F17Q10000176              7            0  \n",
       "F17Q10000301              7            0  \n",
       "\n",
       "[5 rows x 21 columns]"
      ]
     },
     "execution_count": 6,
     "metadata": {},
     "output_type": "execute_result"
    }
   ],
   "source": [
    "# Replace Index with id_loan\n",
    "d = d.set_index('id_loan')\n",
    "\n",
    "# Remove irrelevant features\n",
    "drop_cols = ['loan_status','prod_type', 'ppmt_pnlty', 'io_ind', 'id_loan_rr','rr_ind', 'dt_first_pi','dt_matr',\n",
    "             'zipcode','cd_msa', 'seller_name','servicer_name']\n",
    "d.drop(columns=[c for c in drop_cols if c in d.columns], inplace=True)\n",
    "\n",
    "d.head()"
   ]
  },
  {
   "cell_type": "markdown",
   "id": "5f0d01af",
   "metadata": {},
   "source": [
    "**Handling NaN Values and Pseudo-NaN Values**:\n",
    "\n",
    "numerical:\n",
    "\n",
    "`fico`: typically ranges from 300 to 850, but a value of 9999 indicates not available\n",
    "\n",
    "`mi_pct`, `cltv`, `dti` and `ltv`: a value of 999 indicates not available\n",
    "\n",
    "`property_val`: a value of 9 indicates not available\n",
    "\n",
    "categorical:\n",
    "\n",
    "`flag_sc`: 'NaN' indicates NaN\n",
    "\n",
    "`program_ind`: '9' indicates NaN\n",
    "\n",
    "`mi_cancel_ind`:  '7' and '9' indicate NaN"
   ]
  },
  {
   "cell_type": "code",
   "execution_count": 7,
   "id": "41cf9ff9",
   "metadata": {
    "scrolled": true
   },
   "outputs": [],
   "source": [
    "# Replace pseudo-missing numeric codes with NaN\n",
    "d.replace({'fico': {9999: np.nan}, 'mi_pct': {999: np.nan}, 'cltv': {999: np.nan}, 'dti': {999: np.nan},\n",
    "           'ltv': {999: np.nan}, 'property_val': {9: 'N'}}, inplace=True)\n",
    "\n",
    "# Replace categorical pseudo-missing codes with consistent label\n",
    "d['flag_sc'] = d['flag_sc'].fillna('N')\n",
    "d['program_ind'] = d['program_ind'].replace('9', 'N')\n",
    "d['mi_cancel_ind'] = d['mi_cancel_ind'].replace({'7': 'N', '9': 'N'})"
   ]
  },
  {
   "cell_type": "markdown",
   "id": "e270b84e",
   "metadata": {},
   "source": [
    "To handle pseudo-NaN values, we apply different strategies based on variable type. For numerical features, special codes such as 999 or 9999 are replaced with NaN, since these values do not carry valid quantitative meaning and should be treated as true missing data. This allows for appropriate downstream handling, such as imputation or row exclusion, and prevents misleading the model with extreme or invalid values.\n",
    "\n",
    "In contrast, for categorical features, pseudo-NaN codes like '9' or '7' are replaced with a consistent label 'N', representing “Not Available.” This preserves the categorical structure of the data while allowing the model to treat missingness as a distinct, learnable category."
   ]
  },
  {
   "cell_type": "code",
   "execution_count": 8,
   "id": "0ef0e20a",
   "metadata": {},
   "outputs": [
    {
     "name": "stdout",
     "output_type": "stream",
     "text": [
      "['flag_fthb', 'cnt_units', 'occpy_sts', 'channel', 'st', 'prop_type', 'loan_purpose', 'cnt_borr', 'flag_sc', 'program_ind', 'property_val', 'mi_cancel_ind']\n",
      "['fico', 'mi_pct', 'cltv', 'dti', 'orig_upb', 'ltv', 'int_rt', 'orig_loan_term']\n"
     ]
    }
   ],
   "source": [
    "# Convert cnt_units, cnt_borr, property_val column to object class since it is categorical\n",
    "d['cnt_units'] = d['cnt_units'].astype('object')\n",
    "d['cnt_borr'] = d['cnt_borr'].astype('object')\n",
    "d['property_val'] = d['property_val'].astype('object')\n",
    "\n",
    "# Create a list of categorical columns\n",
    "categorical_features = d.select_dtypes(include=['object']).columns.tolist()\n",
    "print(categorical_features)\n",
    "\n",
    "# Create a list of numerical columns\n",
    "numerical_features = d.select_dtypes(include=['int64', 'float64']).columns.tolist()\n",
    "print(numerical_features)"
   ]
  },
  {
   "cell_type": "markdown",
   "id": "cc30dd41",
   "metadata": {},
   "source": [
    "**3.2 Test-Training Split**"
   ]
  },
  {
   "cell_type": "code",
   "execution_count": 9,
   "id": "3e5add55",
   "metadata": {},
   "outputs": [
    {
     "name": "stdout",
     "output_type": "stream",
     "text": [
      "Training set size: (101364, 20) Default rate: 0.0058896649698117675\n",
      "Test set size: (25341, 20) Default rate: 0.0058797995343514466\n"
     ]
    }
   ],
   "source": [
    "# Split the data into training and testing sets (stratified by default label)\n",
    "X = d.drop(columns=['default_flag'])\n",
    "y = d['default_flag']\n",
    "X_train, X_test, y_train, y_test = train_test_split(X, y, test_size=0.2, stratify=y, random_state=0)\n",
    "\n",
    "print(\"Training set size:\", X_train.shape, \"Default rate:\", y_train.mean())\n",
    "print(\"Test set size:\", X_test.shape, \"Default rate:\", y_test.mean())"
   ]
  },
  {
   "cell_type": "markdown",
   "id": "50f78c53",
   "metadata": {},
   "source": [
    "**3.3 Missing data check**"
   ]
  },
  {
   "cell_type": "code",
   "execution_count": 10,
   "id": "0ed093b7",
   "metadata": {},
   "outputs": [
    {
     "data": {
      "image/png": "[encoded data removed]",
      "text/plain": [
       "<Figure size 720x160 with 1 Axes>"
      ]
     },
     "metadata": {},
     "output_type": "display_data"
    },
    {
     "name": "stdout",
     "output_type": "stream",
     "text": [
      "Maximum missing percentage for a variable: 1.02%\n",
      "fico    0.019731\n",
      "cltv    0.000987\n",
      "dti     1.019099\n",
      "ltv     0.000987\n",
      "dtype: float64\n"
     ]
    }
   ],
   "source": [
    "missing_counts = X_train.isnull().sum()\n",
    "missing_percent = (missing_counts / len(X_train)) * 100\n",
    "# Get the maximum missing percentage\n",
    "max_missing = missing_percent.max()\n",
    "# Visualize missingness\n",
    "msno.matrix(X_train, figsize=(9, 2), fontsize=10, sparkline=False)\n",
    "plt.title(\"Missing Values Matrix\")\n",
    "plt.show()\n",
    "print(f\"Maximum missing percentage for a variable: {max_missing:.2f}%\")\n",
    "print(missing_percent[missing_percent > 0])"
   ]
  },
  {
   "cell_type": "markdown",
   "id": "a4e0cea0",
   "metadata": {},
   "source": [
    "Since the proportion of missing data is very low across the features after we remove some irrelevant features (with the maximum missing rate below 1.1%), we opt to drop the missing records instead of applying imputation. This approach simplifies preprocessing without sacrificing data integrity or model performance."
   ]
  },
  {
   "cell_type": "markdown",
   "id": "6ba4131b",
   "metadata": {},
   "source": [
    "**3.4 Investigating Relationships**"
   ]
  },
  {
   "cell_type": "code",
   "execution_count": 11,
   "id": "226b5ffd",
   "metadata": {},
   "outputs": [
    {
     "data": {
      "text/plain": [
       "<Axes: >"
      ]
     },
     "execution_count": 11,
     "metadata": {},
     "output_type": "execute_result"
    },
    {
     "data": {
      "image/png": "[encoded data removed]",
      "text/plain": [
       "<Figure size 640x400 with 2 Axes>"
      ]
     },
     "metadata": {},
     "output_type": "display_data"
    }
   ],
   "source": [
    "corr_matrix = pd.concat([X_train, y_train], axis=1).corr(numeric_only=True)\n",
    "target_corr = corr_matrix[['default_flag']].drop('default_flag').sort_values(by='default_flag', key=abs, ascending=False)\n",
    "sns.heatmap(target_corr, annot=True, cmap='coolwarm')"
   ]
  },
  {
   "cell_type": "markdown",
   "id": "dd29410d",
   "metadata": {},
   "source": [
    "从相关性热力图可以看出，所有数值变量与违约标签 default_flag 之间的线性相关性都非常弱。这可能是由于数据集中违约样本极少，类别严重不平衡，导致皮尔森相关系数无法准确衡量变量的重要性。为了缓解这种问题，我们将在后续采用 SMOTE 技术对违约样本进行过采样，以提高模型对少数类的识别能力。\n",
    "\n",
    "The correlation heatmap shows that all numerical features have very weak linear relationships with the target variable default_flag. This is likely due to the highly imbalanced nature of the dataset, where the proportion of default cases is extremely low. In such settings, traditional correlation metrics tend to understate the predictive value of features, as the minority class is underrepresented in the statistical estimation. To address this, we apply SMOTE (Synthetic Minority Over-sampling Technique) to rebalance the dataset by generating synthetic default samples. This improves the model’s ability to learn patterns associated with the rare class and enhances performance on imbalanced classification tasks."
   ]
  },
  {
   "cell_type": "markdown",
   "id": "eb7c61b0",
   "metadata": {},
   "source": [
    "**3.5 Data Transformations**\n",
    "\n",
    "Since the variables are not on the same scale, we apply standardisation. Explain.\n",
    "\n",
    "由于各变量的量纲不同，我们对数据进行了标准化处理。运用在pipeline中"
   ]
  },
  {
   "cell_type": "markdown",
   "id": "2109e419",
   "metadata": {},
   "source": [
    "**3.6 Feature Engineering**\n",
    "\n",
    "To transform the categorical variables, we employ One-Hot Encoding. Explain"
   ]
  },
  {
   "cell_type": "markdown",
   "id": "7bc9fe39",
   "metadata": {},
   "source": [
    "# Model Fitting and Tuning\n",
    "\n",
    "*In this section you should detail and motivate your choice of model and describe the process used to refine, tune, and fit that model. You are encouraged to explore different models but you should NOT include a detailed narrative or code of all of these attempts. At most this section should briefly mention the methods explored and why they were rejected - most of your effort should go into describing the final model you are using and your process for tuning and validating it.*\n",
    "\n",
    "*This section should include the full implementation of your final model, including all necessary validation. As with figures, any included code must also be addressed in the text of the document.*\n",
    "\n",
    "*Finally, you should also provide a comparison of your model with a baseline model of your choice on the test data but only briefly describe the baseline model considered.*"
   ]
  },
  {
   "cell_type": "markdown",
   "id": "9df91905",
   "metadata": {},
   "source": [
    "**4.1 Pipeline and Oversampling(SMOTE)**"
   ]
  },
  {
   "cell_type": "code",
   "execution_count": 12,
   "id": "0c3ff40d",
   "metadata": {
    "scrolled": false
   },
   "outputs": [
    {
     "name": "stdout",
     "output_type": "stream",
     "text": [
      "Encoded feature matrix shape (training set): (100310, 98)\n"
     ]
    }
   ],
   "source": [
    "# Identify and drop rows in the training set that have missing values in numerical columns\n",
    "X_train = X_train.dropna(subset=numerical_features)\n",
    "y_train = y_train.loc[X_train.index]  # Keep y aligned with X\n",
    "\n",
    "numerical_transformer = Pipeline([\n",
    "    ('scaler', StandardScaler())  # Perform standardization only\n",
    "])\n",
    "\n",
    "categorical_transformer = Pipeline([\n",
    "    ('imputer', SimpleImputer(strategy='constant', fill_value='missing')),\n",
    "    ('to_str', FunctionTransformer(lambda x: x.astype(str))),\n",
    "    ('onehot', OneHotEncoder(handle_unknown='ignore'))\n",
    "])\n",
    "\n",
    "preprocessor = ColumnTransformer([\n",
    "    ('num', numerical_transformer, numerical_features),\n",
    "    ('cat', categorical_transformer, categorical_features)\n",
    "])\n",
    "\n",
    "# Refit and transform the training set; transform the test set\n",
    "X_train_enc = preprocessor.fit_transform(X_train)\n",
    "X_test_enc = preprocessor.transform(X_test)\n",
    "\n",
    "print(\"Encoded feature matrix shape (training set):\", X_train_enc.shape)"
   ]
  },
  {
   "cell_type": "markdown",
   "id": "203c27fa",
   "metadata": {},
   "source": [
    "After encoding, the dimensionality of the training feature matrix increases significantly from 20 to 98 due to the one-hot encoding of categorical variables. The pipeline ensures that the same transformations are consistently applied to both the training and testing data.\n",
    "\n",
    "编码后，训练集特征矩阵的维度增加明显从20到98，这是由于对类别变量进行了独热编码。Pipeline确保相同变换应用于训练和测试数据。"
   ]
  },
  {
   "cell_type": "markdown",
   "id": "cc5db054",
   "metadata": {},
   "source": [
    "类别不平衡处理： 在训练模型前，需要应对违约样本过少的问题。我们采用SMOTE算法对训练集过采样正类，使违约样本数量增加至与非违约相当，从而平衡训练数据。SMOTE通过插值合成新的少数类样本，较随机过采样能增加多样性。这里使用imblearn.over_sampling.SMOTE进行处理。为防止数据泄漏，我们仅对训练集做过采样，测试集保持真实分布。"
   ]
  },
  {
   "cell_type": "code",
   "execution_count": 13,
   "id": "8eb3d177",
   "metadata": {},
   "outputs": [
    {
     "name": "stdout",
     "output_type": "stream",
     "text": [
      "Resampled training set shape: (199494, 98) Positive class ratio: 0.5\n"
     ]
    }
   ],
   "source": [
    "# Apply SMOTE to oversample the training set\n",
    "smote = SMOTE(random_state=42)\n",
    "X_train_res, y_train_res = smote.fit_resample(X_train_enc, y_train)\n",
    "\n",
    "print(\"Resampled training set shape:\", X_train_res.shape, \n",
    "      \"Positive class ratio:\", y_train_res.mean())"
   ]
  },
  {
   "cell_type": "markdown",
   "id": "6b7009c6",
   "metadata": {},
   "source": [
    "After oversampling, the number of training samples increases significantly, with default and non-default cases each accounting for 50%. For example, the original training set contained only a few hundred default cases. With SMOTE, a large number of synthetic default samples were generated, resulting in approximately 100,000 samples for each class. This balanced distribution provides the model with sufficient default cases to learn from, helping to alleviate the issue of the model being biased toward predicting the majority class. In the subsequent model training, we will use `X_train_res` and `y_train_res` as the training data.\n",
    "\n",
    "过采样后训练集样本数成倍增加，违约与非违约样本数各占50%。例如，原训练集中违约样本仅几百条，经过SMOTE生成了大量合成违约样本，正负样本均约10万余条，各占一半，为模型提供了足够的违约案例学习。这样处理能缓解模型偏向预测多数类的问题。在后续模型训练中，我们将使用X_train_res, y_train_res作为训练数据。"
   ]
  },
  {
   "cell_type": "markdown",
   "id": "a656d85c",
   "metadata": {},
   "source": [
    "**4.2 Initial Model Training and Comparison**\n",
    "\n",
    "使用五折交叉验证（5-fold CV）在训练集（过采样后）上评估每个模型的性能。评估指标侧重于违约类的识别能力，包括F1-score（正类）和ROC-AUC。由于数据不平衡，准确率在此问题上意义不大，模型可能通过预测所有样本为非违约而获得99%以上的准确率，但对我们毫无价值。因此我们更关注召回率Recall（捕获违约的比例）、精确率Precision（预测为违约中实际违约的比例）以及它们的综合F1，以及ROC曲线下面积AUC。\n",
    "\n",
    "We evaluate the performance of each model on the oversampled training set using 5-fold cross-validation (5-fold CV). The evaluation focuses on the model's ability to identify default cases, using metrics such as the F1-score (for the positive class) and ROC-AUC. Due to the class imbalance in the data, accuracy is not a meaningful metric in this context — a model could achieve over 99% accuracy simply by predicting all samples as non-default, which would be of no practical use. Therefore, we place greater emphasis on Recall (the proportion of actual defaults correctly identified), Precision (the proportion of predicted defaults that are truly defaults), their harmonic mean (F1-score), and the Area Under the ROC Curve (AUC)."
   ]
  },
  {
   "cell_type": "code",
   "execution_count": null,
   "id": "a9dd1f0f",
   "metadata": {},
   "outputs": [
    {
     "name": "stdout",
     "output_type": "stream",
     "text": [
      "LogisticRegression 平均ROC-AUC: 0.801\n"
     ]
    }
   ],
   "source": [
    "# 定义要评估的模型字典\n",
    "models = {\n",
    "    \"LogisticRegression\": LogisticRegression(max_iter=500, solver='liblinear'),\n",
    "    \"SVM (Linear)\": SVC(kernel='linear', probability=True),\n",
    "    \"DecisionTree\": DecisionTreeClassifier(),\n",
    "    \"RandomForest\": RandomForestClassifier(n_estimators=100),\n",
    "    \"NeuralNetwork\": MLPClassifier(max_iter=50, hidden_layer_sizes=(50,))\n",
    "}\n",
    "\n",
    "# 在过采样后的训练集上进行5折交叉验证，计算每个模型的ROC-AUC得分\n",
    "for name, clf in models.items():\n",
    "    auc_scores = cross_val_score(clf, X_train_res, y_train_res, \n",
    "                                 cv=5, scoring='roc_auc')\n",
    "    print(f\"{name} 平均ROC-AUC: {auc_scores.mean():.3f}\")"
   ]
  },
  {
   "cell_type": "markdown",
   "id": "308a9c84",
   "metadata": {},
   "source": [
    "# Discussion & Conclusions\n",
    "\n",
    "*In this section you should provide a general overview of your final model, its performance, and reliability. You should discuss what the implications of your model are in terms of the included features, estimated parameters and relationships, predictive performance, and anything else you think is relevant.*\n",
    "\n",
    "*This should be written with a target audience of a banking official, who is understands the issues associated with mortgage defaults but may only have university level mathematics (not necessarily postgraduate statistics or machine learning). Your goal should be to highlight to this audience how your model can useful. You should also discuss potential limitations or directions of future improvement of your model.*\n",
    "\n",
    "*Finally, you should include recommendations on factors that may increase the risk of default, which may be useful for the companies to improve their understanding of\n",
    "mortgage defaults, and also to explain their decisions to clients and regulatory bodies. You should also use your model to inform the company of any active loans that are at risk of default.*\n",
    "\n",
    "*Keep in mind that a negative result, i.e. a model that does not work well predictively, that is well explained and justified in terms of why it failed will likely receive higher marks than a model with strong predictive performance but with poor or incorrect explinations / justifications.*"
   ]
  },
  {
   "cell_type": "markdown",
   "id": "ebb8539f",
   "metadata": {},
   "source": [
    "# Generative AI statement\n",
    "\n",
    "*Include a statement on how generative AI was used in the project and report.*"
   ]
  },
  {
   "cell_type": "markdown",
   "id": "09db6349",
   "metadata": {},
   "source": [
    "# References\n",
    "\n",
    "*Include references if any*"
   ]
  },
  {
   "cell_type": "code",
   "execution_count": null,
   "id": "0e3625a7",
   "metadata": {},
   "outputs": [],
   "source": [
    "# Run the following to render to PDF\n",
    "!jupyter nbconvert --to pdf project2.ipynb"
   ]
  }
 ],
 "metadata": {
  "kernelspec": {
   "display_name": "Python 3 (ipykernel)",
   "language": "python",
   "name": "python3"
  },
  "language_info": {
   "codemirror_mode": {
    "name": "ipython",
    "version": 3
   },
   "file_extension": ".py",
   "mimetype": "text/x-python",
   "name": "python",
   "nbconvert_exporter": "python",
   "pygments_lexer": "ipython3",
   "version": "3.11.4"
  },
  "toc": {
   "base_numbering": 1,
   "nav_menu": {},
   "number_sections": true,
   "sideBar": true,
   "skip_h1_title": false,
   "title_cell": "Table of Contents",
   "title_sidebar": "Contents",
   "toc_cell": false,
   "toc_position": {},
   "toc_section_display": true,
   "toc_window_display": false
  }
 },
 "nbformat": 4,
 "nbformat_minor": 5
}
